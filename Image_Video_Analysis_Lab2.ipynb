{
  "cells": [
    {
      "cell_type": "markdown",
      "metadata": {
        "id": "LpnEVMCYYlnD"
      },
      "source": [
        "#2η ομαδική εργασία στη Τεχνολογία και Ανάλυση Εικόνων και Βίντεο"
      ]
    },
    {
      "cell_type": "markdown",
      "source": [
        "Μαρία-Ηώς Γλάρου"
      ],
      "metadata": {
        "id": "4IaAM7cgtoWu"
      }
    },
    {
      "cell_type": "markdown",
      "metadata": {
        "id": "c6sGj7sNEI7c"
      },
      "source": [
        "**ΘΕΩΡΗΤΙΚΟ ΜΕΡΟΣ**"
      ]
    },
    {
      "cell_type": "markdown",
      "metadata": {
        "id": "ciXuEWhkEMhY"
      },
      "source": [
        "1. Περιγράψτε τη λειτουργία της Rectified Linear Unit (ReLU)."
      ]
    },
    {
      "cell_type": "markdown",
      "metadata": {
        "id": "ps07eGZJERXu"
      },
      "source": [
        "Η ReLU χρησιμοποιείται ως activation function στους νευρώνες CNN.\n",
        "Μπορεί να προσομοιώσει περίπλοκες μη γραμμικές συναρτήσεις όντας μη-γραμμική. Σε αυτό οφείλεται η υψηλή επίδοση των νευρωνικών όπου επιλέγεται. Μη γραμμικές είναι και οι sigmoid, tanh όμως η ReLu τις έχει παραμερήσει. Υπερτερεί καταρχάς χάρη στην απλότητά της (L(x) = max(0,a), a = Wx + b), που τις προσδίδει υπολογιστική ταχύτητα συγκριτικά με τις άλλες (π.χ. δεν έχει πράξεις με εκθετικά και άλλες σχετικά πολύπλοκες πράξεις που καθυστερούν). Επιπλέον, η ReLU είναι καθώς για θετικούς αριθμούς είναι γραμμική. Έτσι, καθίσταται σχεδόν απαλλαγμένη από το πρόβλημα που είναι γνωστό ως vanishing gradient problem. Εάν το αντιμετωπίσει για αρνητικούς αριθμούς μπορεί να χρησιμοποιηθεί η Leaky ReLU. Tο vanishing gradient problem περιγράφει την κατάσταση όπου η παράγωγος εξαιτίας saturation πρακτικά \"εξαφανίζεται\". Eπηρεάζει και καθυστερεί την εκπαίδευση των νευρωνικών. Όταν λέμε saturation στο πλαίσιο αυτό εννοούμε ότι για παράδειγμα η sigmoid δίνει τιμές 0 ή 1 (μπορούμε να φανταστούμε ότι πολλές πολύ μικρές τιμές θα αντιστοιχίζονται στο 0 και αντίστοιχα στο 1 πολύ μεγάλες). Το γεγονός που εντείνεται όταν το input space είναι σημαντικά μεγαλύτερο του output space. Να σημειωθεί ότι στην περίπτωση των sigmoid, tanh για να περιοριστεί η επίδραση του vanishing gradient problem μπορεί να χρησιμοποιηθεί το \"batch normalization\" (θα το δούμε στην συνέχεια, στην υλοποίηση).\n"
      ]
    },
    {
      "cell_type": "markdown",
      "metadata": {
        "id": "jipxUNgyGYEn"
      },
      "source": [
        "2. Παρουσιάστε ένα συγκριτικό πίνακα με τα επίπεδα, το μέγεθος των φίλτρων, συνάρτηση\n",
        "ενεργοποίησης, πλήθος παραμέτρων και τεχνικές pooling και dropout που χρησιμοποιούν\n",
        "τα 3 διαφορετικά δίκτυα που παρουσιάζονται στα προαναφερθέντα άρθρα και σχολιάστε\n",
        "επαρκώς τις διαφορές τους. Ποια χαρακτηριστικά αυτών των τριών δικτύων είναι κατά τη\n",
        "γνώμη σας αυτά που συνέβαλαν στη σταδιακή αύξηση της ακρίβειας ταξινόμησης."
      ]
    },
    {
      "cell_type": "markdown",
      "metadata": {
        "id": "65gmqLCRMxnl"
      },
      "source": [
        "**Layers**\n",
        "\n",
        "[ \"layer\" (\"#feature maps/ #neurons\") ]\n",
        "\n",
        " * LeNet: \n",
        "\n",
        "  *  ConvLayer (4) (H1) \n",
        "  \n",
        "  *  Pooling (H2) \n",
        "  \n",
        "  *  ConvLayer (12) (H3) \n",
        "  \n",
        "  * Pooling (H4) \n",
        "  \n",
        "  * Dense Layer (FC)  => 10 outputs \n",
        " \n",
        "* AlexNet:  \n",
        " * ConvLayer (96) (1)\n",
        "   \n",
        " * Pooling \n",
        "   \n",
        " * ConvLayer (256) (2) \n",
        "   \n",
        " *  Pooling \n",
        "   \n",
        " *  ConvLayer (384) (3) \n",
        "   \n",
        " *  ConvLayer (384) (4) \n",
        "   \n",
        " *  ConvLayer (256) (5) \n",
        "   \n",
        " *  FC (4096) \n",
        "   \n",
        " *  FC (4096) \n",
        "   \n",
        " *  FC (10) (softmax) \n",
        "\n",
        "* VGG (19 conv layers + 5 pooling layers + 1 softmax): \n",
        "  \n",
        " * 2xConvLayer (64) \n",
        "  \n",
        " * Pooling \n",
        "  \n",
        " * 2xConvLayer (128) \n",
        "   \n",
        " * Pooling \n",
        "   \n",
        " * 4xConvLayer (256) \n",
        "    \n",
        " * Pooling \n",
        "     \n",
        " * 4xConvLayer (512)\n",
        "      \n",
        " * Pooling\n",
        "  \n",
        " * 4xConvLayer (512) \n",
        "  \n",
        " * FC (4096) \n",
        "  \n",
        " * FC (4096) \n",
        "  \n",
        " * FC (1000))\n",
        "  \n",
        " * Softmax \n",
        "  \n",
        "\n",
        "Υπάρχουν και αρχιτεκτονικές VGG με μόνο κάποια από τα παραπάνω layers.\n",
        "\n",
        "\n",
        "\n",
        "**Activation Function:**\n",
        "\n",
        "  * LeNet: Sigmoid \n",
        "  * AlexNet: ReLU \n",
        "  * VGG: ReLU \n",
        "\n",
        "\n",
        "\n",
        "**Kernel size:**\n",
        "\n",
        "  * LeNet: 5 x 5 (σταθερό) \n",
        "  \n",
        "  * AlexNet: \n",
        "   \n",
        "    11 x 11 (1ο convolution layer)\n",
        "   \n",
        "    5x5 (2o)\n",
        "   \n",
        "    3x3 (3o - 5o)\n",
        "\n",
        "  * VGG: \n",
        "  \n",
        "  3 x 3 (σταθερό) \n",
        "  \n",
        "  [υπάρχει και cofiguration που χρησιμοποιεί 1 × 1 convolution filters, που μπορούν να ερμηνευτούν ως γραμμικό μετασχηματισμό των καναλιών εισόδου και ακολουθούνται από non-linearity]\n",
        "\n",
        " \n",
        "**Dropout:**\n",
        "\n",
        "  * LeNet:  - \n",
        "  * AlexNet: prob = 0.5 \n",
        "  * VGG: prob = 0.5 \n",
        "\n",
        "\n",
        "**Pooling:**\n",
        "\n",
        "  * LeNet: Average Pooling\n",
        "\n",
        "    *(stride = 2, pool_size = 2)* \n",
        "  * AlexNet: Max Pooling \n",
        "\n",
        "   *(stride = 2, pool_size = 2)* \n",
        "  * VGG: Max Pooling \n",
        "  \n",
        "   *(stride = 2, pool_size = 2)* \n",
        "\n",
        "**Number of parameters:**\n",
        "\n",
        "  * LeNet: 2578 (ανεξάρτητες)   \n",
        "  * AlexNet: 60 million \n",
        "  * VGG (in millions): \n",
        "     * 11 layers (A, A-LRN): 133\n",
        "     * 13 layers (B): 133\n",
        "     * 16 layers (C): 134\n",
        "     * 16 layers (D): 138\n",
        "     * 19 layers (E) 144\n",
        "\n",
        "\n",
        "---\n",
        "\n",
        "\n",
        "Ας εξετάσουμε κάποιες διαφορές μεταξύ των τριών αυτών CNN.\n",
        "To LeΝet είναι ένα απλό CNN, το απλούστερο από τα τρία. Λόγω μικρού σχετικά μεγέθους dataset και περιορισμένων δυνατοτήτων hardware έγινε χρήση στην αναγνώριση χειρόγραφων ψηφίων σε εικόνες. \n",
        "\n",
        "To AlexNet οφείλει την ανωτερότητά του εν μέρη στην χρήση της ReLu που εκτός του ότι δεν έχει τα προβλήματα της sigmoid που εξηγήσαμε, είναι υπολογιστικά ταχύτερο. Σε συνδυασμό με την εξέλιξη στο διαθέσιμο hardware και το max pooling, κατάφερε να οδηγήσει σε γρηγορότερη εκπαίδευση των CNN και άρα να ανοίξει τον δρόμο για καλύτερες επιδόσεις, δεδομένης της δυνατότητας αύξησης των χρησιμοποιούμενων layers στο CNN. Πιο συγκεκριμένα, τα 8 layers του δικτύου του επιτρέπουν να προσομοιώσει περιπλοκότερες μη γραμμικές συναρτήσεις. Οι αυξημένες επιδόσεις του είναι αποτέλεσμα και της αποφυγής/μείωσης του overfitting χάρη στο dropout στα FC layers καθώς και εκπαίδευση με σημαντικά μεγαλύτερα datasets από εκείνα που είχαν αναπτυχθεί κατά το LeNet (όπως για παράδειγμα το ImageNet).\n",
        "\n",
        "Το VGG αξιοποιεί τα οφέλη των μεθόδων που εφαρμόστηκαν και στο AlexNet όπως την ReLu ως activation function, το dropout, το max pooling. Το CNN συντίθεται από τα λεγόμενα VGG blocks. Επρόκειτο για sequential ConvLayers που ακολουθούνται από ένα layer max pooling. \n",
        "Σε αντίθεση με το AlexNet, εδώ επιλέχθηκε μικρό και σταθερό kernel size, ίσο με 3x3. Η επιλογή αυτή κατέστησε εφικτή την δοκιμή μεγαλύτερων depths. Συγκεκριμένα, ενώ στα προηγούμενα το depth είναι σταθερό και σχετικά μικρό, το VGG προχωράει σε δοκιμές με μέχρι και 19 depths που αυξάνουν σημαντικά την ακρίβεια συγκριτικά με τα προηγούμενα που εξετάστηκαν. Όπως και το AlexNet, θετική ήταν η επίδραση εκπαίδευσης με μεγάλα datasets εικόνων. \n",
        "\n",
        "\n",
        "\n",
        "\n"
      ]
    },
    {
      "cell_type": "markdown",
      "metadata": {
        "id": "DfEMjsB4Yurm"
      },
      "source": [
        "## Εισαγωγή και επισκόπηση του συνόλου δεδομένων"
      ]
    },
    {
      "cell_type": "code",
      "execution_count": null,
      "metadata": {
        "id": "STXQMBuN3nZ6"
      },
      "outputs": [],
      "source": [
        "from __future__ import absolute_import, division, print_function, unicode_literals # legacy compatibility\n",
        "\n",
        "import numpy as np\n",
        "import pandas as pd\n",
        "import matplotlib.pyplot as plt\n",
        "\n",
        "import tensorflow as tf\n",
        "\n",
        "from tensorflow.keras import datasets, layers, models"
      ]
    },
    {
      "cell_type": "code",
      "execution_count": null,
      "metadata": {
        "id": "2WSEGPI9Q7tW"
      },
      "outputs": [],
      "source": [
        "# helper functions\n",
        "\n",
        "# select from from_list elements with index in index_list\n",
        "def select_from_list(from_list, index_list):\n",
        "  filtered_list= [from_list[i] for i in index_list]\n",
        "  return(filtered_list)\n",
        "\n",
        "# append in filtered_list the index of each element of unfilterd_list if it exists in in target_list\n",
        "def get_ds_index(unfiliterd_list, target_list):\n",
        "  index = 0\n",
        "  filtered_list=[]\n",
        "  for i_ in unfiliterd_list:\n",
        "    if i_[0] in target_list:\n",
        "      filtered_list.append(index)\n",
        "    index += 1\n",
        "  return(filtered_list)\n"
      ]
    },
    {
      "cell_type": "code",
      "execution_count": null,
      "metadata": {
        "id": "OCW71UaGzz0Q"
      },
      "outputs": [],
      "source": [
        "(x_train_all, y_train_all), (x_test_all, y_test_all) = tf.keras.datasets.cifar100.load_data(label_mode='fine')"
      ]
    },
    {
      "cell_type": "code",
      "execution_count": null,
      "metadata": {
        "colab": {
          "base_uri": "https://localhost:8080/"
        },
        "id": "kGKYHffEE1do",
        "outputId": "ae76ad4e-1dca-4d4f-e53a-1f456629bb43"
      },
      "outputs": [
        {
          "output_type": "stream",
          "name": "stdout",
          "text": [
            "(50000, 32, 32, 3)\n"
          ]
        }
      ],
      "source": [
        "print(x_train_all.shape)"
      ]
    },
    {
      "cell_type": "markdown",
      "metadata": {
        "id": "9PO9wIwYUf0R"
      },
      "source": [
        "Η κάθε ομάδα θα δουλέψει με διαφορετικό υποσύνολο του dataset.\n",
        "Στο επόμενο κελί, αντικαταστήστε την τιμή της μεταβλητής `team_seed` με τον αριθμό που αντιστοιχεί στην ομάδας σας. "
      ]
    },
    {
      "cell_type": "code",
      "execution_count": null,
      "metadata": {
        "id": "NN0kEze7uZ_G"
      },
      "outputs": [],
      "source": [
        "# REPLACE WITH YOUR TEAM NUMBER\n",
        "team_seed = 34"
      ]
    },
    {
      "cell_type": "code",
      "execution_count": null,
      "metadata": {
        "id": "RhbZJW6PxUDJ"
      },
      "outputs": [],
      "source": [
        "# select from CIFAR100 20 classes\n",
        "cifar100_classes_url = \"https://pastebin.com/raw/nzE1n98V\""
      ]
    },
    {
      "cell_type": "markdown",
      "metadata": {
        "id": "yO9f6wb0Wi0H"
      },
      "source": [
        "Δημιουργούμε το μοναδικό dataset της ομάδας μας:"
      ]
    },
    {
      "cell_type": "code",
      "execution_count": null,
      "metadata": {
        "id": "PgIN2h_KuCp_"
      },
      "outputs": [],
      "source": [
        "team_classes = pd.read_csv(cifar100_classes_url, sep=',', header=None)\n",
        "CIFAR100_LABELS_LIST = pd.read_csv('https://pastebin.com/raw/qgDaNggt', sep=',', header=None).astype(str).values.tolist()[0]\n",
        "\n",
        "our_index = team_classes.iloc[team_seed,:].values.tolist()\n",
        "our_classes = select_from_list(CIFAR100_LABELS_LIST, our_index)\n",
        "train_index = get_ds_index(y_train_all, our_index)\n",
        "test_index = get_ds_index(y_test_all, our_index)\n",
        "\n",
        "x_train_ds = np.asarray(select_from_list(x_train_all, train_index))\n",
        "y_train_ds = np.asarray(select_from_list(y_train_all, train_index))\n",
        "x_test_ds = np.asarray(select_from_list(x_test_all, test_index))\n",
        "y_test_ds = np.asarray(select_from_list(y_test_all, test_index))"
      ]
    },
    {
      "cell_type": "code",
      "execution_count": null,
      "metadata": {
        "colab": {
          "base_uri": "https://localhost:8080/"
        },
        "id": "_B4-tvVOQq3j",
        "outputId": "e4d73c0e-5ddf-49e3-eca8-32132534f6b8"
      },
      "outputs": [
        {
          "output_type": "stream",
          "name": "stdout",
          "text": [
            "['apple', ' aquarium_fish', ' bear', ' camel', ' can', ' chimpanzee', ' cloud', ' cockroach', ' dinosaur', ' house', ' lizard', ' lobster', ' mushroom', ' orchid', ' poppy', ' skunk', ' table', ' wardrobe', ' whale', ' woman']\n",
            "[ 0  1  2  3  4  5  6  7  8  9 10 11 12 13 14 15 16 17 18 19]\n"
          ]
        }
      ],
      "source": [
        "# print our classes\n",
        "print(our_classes)\n",
        "our_labels = np.arange(0, 20)\n",
        "print(our_labels)"
      ]
    },
    {
      "cell_type": "code",
      "execution_count": null,
      "metadata": {
        "colab": {
          "base_uri": "https://localhost:8080/"
        },
        "id": "bk5wy0u7GGMj",
        "outputId": "4397b058-950c-42c6-fc0a-0006051b2919"
      },
      "outputs": [
        {
          "output_type": "stream",
          "name": "stdout",
          "text": [
            "(32, 32, 3)\n"
          ]
        }
      ],
      "source": [
        "print(x_train_ds[1].shape)"
      ]
    },
    {
      "cell_type": "code",
      "execution_count": null,
      "metadata": {
        "colab": {
          "base_uri": "https://localhost:8080/",
          "height": 442
        },
        "id": "QpGXgTs_5ZCk",
        "outputId": "02d0eaee-e413-4daf-ee56-a330861e27e3"
      },
      "outputs": [
        {
          "output_type": "stream",
          "name": "stdout",
          "text": [
            "Train: X=(8500, 32, 32, 3), y=(8500, 1)\n",
            "Validation: X=(1500, 32, 32, 3), y=(1500, 1)\n",
            "Test: X=(2000, 32, 32, 3), y=(2000, 1)\n"
          ]
        },
        {
          "output_type": "display_data",
          "data": {
            "text/plain": [
              "<Figure size 432x432 with 9 Axes>"
            ],
            "image/png": "[encoded data removed]"
          },
          "metadata": {
            "needs_background": "light"
          }
        }
      ],
      "source": [
        "# get (train) dataset dimensions\n",
        "data_size, img_rows, img_cols, img_channels = x_train_ds.shape\n",
        "\n",
        "# set validation set percentage (wrt the training set size)\n",
        "validation_percentage = 0.15\n",
        "val_size = round(validation_percentage * data_size)\n",
        "\n",
        "# Reserve val_size samples for validation and normalize all values\n",
        "x_val = x_train_ds[-val_size:]/255\n",
        "y_val = y_train_ds[-val_size:]\n",
        "x_train = x_train_ds[:-val_size]/255\n",
        "y_train = y_train_ds[:-val_size]\n",
        "x_test = x_test_ds/255\n",
        "y_test = y_test_ds\n",
        "\n",
        "# summarize loaded dataset\n",
        "print('Train: X=%s, y=%s' % (x_train.shape, y_train.shape))\n",
        "print('Validation: X=%s, y=%s' % (x_val.shape, y_val.shape))\n",
        "print('Test: X=%s, y=%s' % (x_test.shape, y_test.shape))\n",
        "\n",
        "# get class label from class index\n",
        "def class_label_from_index(fine_category):\n",
        "  return(CIFAR100_LABELS_LIST[fine_category.item(0)])\n",
        "\n",
        "# plot first few images\n",
        "plt.figure(figsize=(6, 6))\n",
        "for i in range(9):\n",
        "\t# define subplot\n",
        "  plt.subplot(330 + 1 + i).set_title(class_label_from_index(y_train[i]))\n",
        "\t# plot raw pixel data\n",
        "  plt.imshow(x_train[i], cmap=plt.get_cmap('gray'))\n",
        "  #show the figure\n",
        "plt.show()"
      ]
    },
    {
      "cell_type": "markdown",
      "source": [
        "Κάνουμε map τις κλάσεις των εικόνων μας σε αριθμούς από 0-20."
      ],
      "metadata": {
        "id": "KF7_bWke4YGm"
      }
    },
    {
      "cell_type": "code",
      "execution_count": null,
      "metadata": {
        "id": "quuFtUum9DGs"
      },
      "outputs": [],
      "source": [
        "def mapping(array,di): \n",
        "    return [di[array[x][0]] for x in range(array.shape[0])]\n",
        "\n",
        "def dict_mapp(array):\n",
        "    dictionary = {}\n",
        "    i = 0\n",
        "    for j in range(array.shape[0]):\n",
        "        if array[j][0] not in dictionary.keys():\n",
        "            dictionary[array[j][0]] = i\n",
        "            i+=1\n",
        "    return dictionary\n"
      ]
    },
    {
      "cell_type": "code",
      "execution_count": null,
      "metadata": {
        "colab": {
          "base_uri": "https://localhost:8080/"
        },
        "id": "IAV5NE_SC9J7",
        "outputId": "10c69d66-c0c6-4c6d-cc04-9f0a5c3740a3"
      },
      "outputs": [
        {
          "output_type": "stream",
          "name": "stdout",
          "text": [
            "{29: 0, 0: 1, 1: 2, 23: 3, 84: 4, 21: 5, 24: 6, 45: 7, 98: 8, 51: 9, 15: 10, 75: 11, 95: 12, 94: 13, 62: 14, 54: 15, 44: 16, 37: 17, 3: 18, 16: 19}\n",
            "<class 'numpy.ndarray'>\n",
            "[ 9 10  3 ... 11 19  9]\n"
          ]
        }
      ],
      "source": [
        "#normilize our label_values to 0->19\n",
        "label_dictionary = dict_mapp(y_train)\n",
        "print(label_dictionary)\n",
        "\n",
        "y_train_1 = np.array(mapping(y_train, label_dictionary))\n",
        "y_val_1 = np.array(mapping(y_val, label_dictionary))\n",
        "y_test_1 = np.array(mapping(y_test, label_dictionary))\n",
        "print(type(y_test_1))\n",
        "print(y_test_1)"
      ]
    },
    {
      "cell_type": "markdown",
      "metadata": {
        "id": "iAgowxR8oJH7"
      },
      "source": [
        "## Ερώτημα 1\n",
        "---\n",
        "#### Βήμα 1: Σχεδίαση, μεταγλώττιση και εκπαίδευση των μοντέλων\n",
        "\n",
        " 1. Σχεδίαστε, μεταγλωττίστε και εκπαιδεύστε τα μοντέλα  **LeNet, AlexNet και  VGG**, καθώς και ένα δικό σας μοντέλο (ονομάστε το π.χ. **MyCNN**) χρησιμοποιώντας διαφορετικούς συνδυασμούς (τουλάχιστον 2 ανά μοντέλο) για [optimizer](https://keras.io/api/optimizers/), [loss](https://keras.io/api/losses/), batch size και epoch.  Για [metrics](https://keras.io/api/metrics/) να χρησιμοποιήσετε την ορθότητα (όπως στο Lab8.1).\n",
        "---\n",
        "  \n",
        "#### Βήμα 2: Αξιολόγηση των μοντέλων\n",
        "\n",
        "1. Για κάθε ένα από τα μοντέλα που εκπαιδεύσατε, απεικονίστε σε κοινό διάγραμμα την ορθότητα εκπαίδευσης και την ορθότητα επικύρωσης στο σύνολο των εποχών, για κάθε διαφορετικό συνδυασμό του βήματος 1 και επιλέξτε αυτό με την καλύτερη ορθότητα από κάθε μοντέλο (ένα από κάθε αρχιτεκτονική, συνολικά 4).\n",
        "2. Για κάθε ένα από τα μοντέλα με την καλύτερη ορθότητα (συνολικά **4**), απεικονίστε σε κοινό διάγραμμα την ορθότητα εκπαίδευσης και την ορθότητα επικύρωσης στο σύνολο των εποχών.\n",
        "3. Αξιολογήστε, αναλυτικά, τα αποτελέσματά σας ως προς τα εξής:\n",
        " - Επίδραση του πλήθους των δεδομένων/κλάσεων στην απόδοση του μοντέλου\n",
        " - Επίδραση του αλγόριθμου βελτιστοποίησης (optimizer)\n",
        " - Επίδραση του μεγέθους δέσμης (batch size)\n",
        " \n",
        "---\n",
        "\n",
        "#### Βήμα 3: Αξιολόγηση ορθότητας\n",
        "Αξιολογήστε την ορθότητα για το test set σας.\n"
      ]
    },
    {
      "cell_type": "code",
      "execution_count": null,
      "metadata": {
        "id": "fMWc_7OQMT1w"
      },
      "outputs": [],
      "source": [
        "#για την διαγραμματική απεικόνηση των αποτελεσμάτων ορίζουμε την _plot (θα μας χρειαστεί για την αξιολόγηση των αποτελεσμάτων)\n",
        "def _plot(history,_cnn,  _num, _Optimizer, _batch_size, _epoc):\n",
        "  plt.subplot(4, 2,_num)\n",
        "  plt.plot(history.history['accuracy'], label='accuracy')\n",
        "  plt.plot(history.history['val_accuracy'], label = 'val_accuracy')\n",
        "  plt.xlabel('Epoch')\n",
        "  plt.ylabel('Accuracy')\n",
        "  plt.ylim([0, 1])\n",
        "  plt.legend(loc='lower right')\n",
        "  _title = _cnn+\", Optimizer: \" + _Optimizer+\", BatchSize = \"+ _batch_size + \", epochs = \" + _epoc\n",
        "  plt.title(_title,size=10)"
      ]
    },
    {
      "cell_type": "markdown",
      "metadata": {
        "id": "EKoTAl-7J8te"
      },
      "source": [
        "<h1> LeNet </h1>\n",
        "\n",
        "---\n",
        "\n"
      ]
    },
    {
      "cell_type": "code",
      "execution_count": null,
      "metadata": {
        "id": "ehxp-sGetWSk"
      },
      "outputs": [],
      "source": [
        "#LeNet architecture\n",
        "\n",
        "def LeNet():\n",
        "    model = tf.keras.models.Sequential()\n",
        "    model.add(tf.keras.layers.Conv2D(filters=6, kernel_size=5, activation='sigmoid',\n",
        "                               padding='same', input_shape=(32, 32, 3))) \n",
        "    model.add(tf.keras.layers.AvgPool2D(pool_size=2, strides=2))\n",
        "    model.add(tf.keras.layers.Conv2D(filters=16, kernel_size=5,\n",
        "                               activation='sigmoid'))\n",
        "    model.add(tf.keras.layers.AvgPool2D(pool_size=2, strides=2))\n",
        "    model.add(tf.keras.layers.Flatten())\n",
        "    model.add(tf.keras.layers.Dense(120, activation='sigmoid'))\n",
        "    model.add(tf.keras.layers.Dense(84, activation='sigmoid'))\n",
        "    model.add(tf.keras.layers.Dense(20))#, activation='softmax'))\n",
        "    return model\n",
        "   \n",
        "lenet_no_b_norm = LeNet()    \n",
        "\n"
      ]
    },
    {
      "cell_type": "markdown",
      "metadata": {
        "id": "kr3UjeQ7J3-1"
      },
      "source": [
        "**1)**\n",
        "  * epochs = 16 \n",
        "  * batch size = 64 \n",
        "  * optimizer = adam \n",
        "  * loss function = cross entropy \n",
        "  "
      ]
    },
    {
      "cell_type": "code",
      "execution_count": null,
      "metadata": {
        "colab": {
          "base_uri": "https://localhost:8080/"
        },
        "id": "MjiLtGlcJQls",
        "outputId": "70985f07-15fb-4943-a32a-4f1d8c1d03c3"
      },
      "outputs": [
        {
          "output_type": "stream",
          "name": "stdout",
          "text": [
            "Model: \"sequential\"\n",
            "_________________________________________________________________\n",
            " Layer (type)                Output Shape              Param #   \n",
            "=================================================================\n",
            " conv2d (Conv2D)             (None, 32, 32, 6)         456       \n",
            "                                                                 \n",
            " average_pooling2d (AverageP  (None, 16, 16, 6)        0         \n",
            " ooling2D)                                                       \n",
            "                                                                 \n",
            " conv2d_1 (Conv2D)           (None, 12, 12, 16)        2416      \n",
            "                                                                 \n",
            " average_pooling2d_1 (Averag  (None, 6, 6, 16)         0         \n",
            " ePooling2D)                                                     \n",
            "                                                                 \n",
            " flatten (Flatten)           (None, 576)               0         \n",
            "                                                                 \n",
            " dense (Dense)               (None, 120)               69240     \n",
            "                                                                 \n",
            " dense_1 (Dense)             (None, 84)                10164     \n",
            "                                                                 \n",
            " dense_2 (Dense)             (None, 20)                1700      \n",
            "                                                                 \n",
            "=================================================================\n",
            "Total params: 83,976\n",
            "Trainable params: 83,976\n",
            "Non-trainable params: 0\n",
            "_________________________________________________________________\n"
          ]
        }
      ],
      "source": [
        "lenet_no_b_norm.compile(optimizer='adam',\n",
        "              loss=tf.keras.losses.SparseCategoricalCrossentropy(from_logits=True),\n",
        "              metrics=['accuracy'])\n",
        "#summary\n",
        "lenet_no_b_norm.summary()   "
      ]
    },
    {
      "cell_type": "code",
      "execution_count": null,
      "metadata": {
        "colab": {
          "base_uri": "https://localhost:8080/"
        },
        "id": "MB1p5oICziNM",
        "outputId": "55e4cbee-37f7-4ace-e3d9-858b1969209e"
      },
      "outputs": [
        {
          "output_type": "stream",
          "name": "stdout",
          "text": [
            "Epoch 1/16\n",
            "133/133 [==============================] - 12s 7ms/step - loss: 3.0085 - accuracy: 0.0505 - val_loss: 2.9819 - val_accuracy: 0.0627\n",
            "Epoch 2/16\n",
            "133/133 [==============================] - 1s 4ms/step - loss: 2.8433 - accuracy: 0.1152 - val_loss: 2.7609 - val_accuracy: 0.1313\n",
            "Epoch 3/16\n",
            "133/133 [==============================] - 1s 4ms/step - loss: 2.6573 - accuracy: 0.1814 - val_loss: 2.5887 - val_accuracy: 0.2127\n",
            "Epoch 4/16\n",
            "133/133 [==============================] - 1s 4ms/step - loss: 2.5547 - accuracy: 0.2182 - val_loss: 2.5209 - val_accuracy: 0.2140\n",
            "Epoch 5/16\n",
            "133/133 [==============================] - 1s 4ms/step - loss: 2.4974 - accuracy: 0.2359 - val_loss: 2.4865 - val_accuracy: 0.2307\n",
            "Epoch 6/16\n",
            "133/133 [==============================] - 1s 5ms/step - loss: 2.4629 - accuracy: 0.2439 - val_loss: 2.4568 - val_accuracy: 0.2407\n",
            "Epoch 7/16\n",
            "133/133 [==============================] - 1s 4ms/step - loss: 2.4290 - accuracy: 0.2593 - val_loss: 2.4158 - val_accuracy: 0.2553\n",
            "Epoch 8/16\n",
            "133/133 [==============================] - 1s 4ms/step - loss: 2.3986 - accuracy: 0.2593 - val_loss: 2.3886 - val_accuracy: 0.2693\n",
            "Epoch 9/16\n",
            "133/133 [==============================] - 1s 4ms/step - loss: 2.3699 - accuracy: 0.2721 - val_loss: 2.3695 - val_accuracy: 0.2653\n",
            "Epoch 10/16\n",
            "133/133 [==============================] - 1s 5ms/step - loss: 2.3282 - accuracy: 0.2853 - val_loss: 2.3197 - val_accuracy: 0.2880\n",
            "Epoch 11/16\n",
            "133/133 [==============================] - 1s 4ms/step - loss: 2.2829 - accuracy: 0.2949 - val_loss: 2.2931 - val_accuracy: 0.2893\n",
            "Epoch 12/16\n",
            "133/133 [==============================] - 1s 5ms/step - loss: 2.2404 - accuracy: 0.3116 - val_loss: 2.2670 - val_accuracy: 0.3007\n",
            "Epoch 13/16\n",
            "133/133 [==============================] - 1s 4ms/step - loss: 2.1946 - accuracy: 0.3284 - val_loss: 2.1905 - val_accuracy: 0.3253\n",
            "Epoch 14/16\n",
            "133/133 [==============================] - 1s 4ms/step - loss: 2.1485 - accuracy: 0.3406 - val_loss: 2.1767 - val_accuracy: 0.3340\n",
            "Epoch 15/16\n",
            "133/133 [==============================] - 1s 4ms/step - loss: 2.1240 - accuracy: 0.3459 - val_loss: 2.1442 - val_accuracy: 0.3360\n",
            "Epoch 16/16\n",
            "133/133 [==============================] - 1s 5ms/step - loss: 2.0888 - accuracy: 0.3628 - val_loss: 2.1191 - val_accuracy: 0.3440\n"
          ]
        }
      ],
      "source": [
        "#train model\n",
        "history_lenet_no_b_norm = lenet_no_b_norm.fit(x_train, y_train_1, epochs=16, batch_size=64,\n",
        "                    validation_data=(x_val, y_val_1))\n"
      ]
    },
    {
      "cell_type": "markdown",
      "metadata": {
        "id": "_Fbjf_nzIsS0"
      },
      "source": [
        "Ας δοκιμάσουμε να χρησιμοποιήσουμε και batch Normalization. "
      ]
    },
    {
      "cell_type": "code",
      "execution_count": null,
      "metadata": {
        "id": "siMc3Zw9I27A"
      },
      "outputs": [],
      "source": [
        "#LeNet architecture \n",
        "\n",
        "def LeNet():\n",
        "    model = tf.keras.models.Sequential()\n",
        "    model.add(tf.keras.layers.Conv2D(filters=6, kernel_size=5, activation='sigmoid', padding='same', input_shape=(32, 32, 3)))\n",
        "    model.add(tf.keras.layers.BatchNormalization())\n",
        "    model.add(tf.keras.layers.AvgPool2D(pool_size=2, strides=2))\n",
        "    model.add(tf.keras.layers.Conv2D(filters=16, kernel_size=5, activation='sigmoid'))\n",
        "    model.add(tf.keras.layers.BatchNormalization())\n",
        "    model.add(tf.keras.layers.AvgPool2D(pool_size=2, strides=2))\n",
        "    model.add(tf.keras.layers.Flatten())\n",
        "    model.add(tf.keras.layers.Dense(120, activation='sigmoid'))\n",
        "    model.add(tf.keras.layers.BatchNormalization())\n",
        "    model.add(tf.keras.layers.Dense(84, activation='sigmoid'))\n",
        "    model.add(tf.keras.layers.BatchNormalization())\n",
        "    model.add(tf.keras.layers.Dense(20, activation='softmax')) #we add softmax activation function in last layer\n",
        "    return model\n",
        "    \n",
        "LeNet_1 = LeNet()    \n",
        "\n"
      ]
    },
    {
      "cell_type": "code",
      "execution_count": null,
      "metadata": {
        "colab": {
          "base_uri": "https://localhost:8080/"
        },
        "id": "bV7kAXl2JV7p",
        "outputId": "c400a35c-843d-469b-f33b-46dbb4a2bc3c"
      },
      "outputs": [
        {
          "output_type": "stream",
          "name": "stdout",
          "text": [
            "Model: \"sequential_1\"\n",
            "_________________________________________________________________\n",
            " Layer (type)                Output Shape              Param #   \n",
            "=================================================================\n",
            " conv2d_2 (Conv2D)           (None, 32, 32, 6)         456       \n",
            "                                                                 \n",
            " batch_normalization (BatchN  (None, 32, 32, 6)        24        \n",
            " ormalization)                                                   \n",
            "                                                                 \n",
            " average_pooling2d_2 (Averag  (None, 16, 16, 6)        0         \n",
            " ePooling2D)                                                     \n",
            "                                                                 \n",
            " conv2d_3 (Conv2D)           (None, 12, 12, 16)        2416      \n",
            "                                                                 \n",
            " batch_normalization_1 (Batc  (None, 12, 12, 16)       64        \n",
            " hNormalization)                                                 \n",
            "                                                                 \n",
            " average_pooling2d_3 (Averag  (None, 6, 6, 16)         0         \n",
            " ePooling2D)                                                     \n",
            "                                                                 \n",
            " flatten_1 (Flatten)         (None, 576)               0         \n",
            "                                                                 \n",
            " dense_3 (Dense)             (None, 120)               69240     \n",
            "                                                                 \n",
            " batch_normalization_2 (Batc  (None, 120)              480       \n",
            " hNormalization)                                                 \n",
            "                                                                 \n",
            " dense_4 (Dense)             (None, 84)                10164     \n",
            "                                                                 \n",
            " batch_normalization_3 (Batc  (None, 84)               336       \n",
            " hNormalization)                                                 \n",
            "                                                                 \n",
            " dense_5 (Dense)             (None, 20)                1700      \n",
            "                                                                 \n",
            "=================================================================\n",
            "Total params: 84,880\n",
            "Trainable params: 84,428\n",
            "Non-trainable params: 452\n",
            "_________________________________________________________________\n"
          ]
        }
      ],
      "source": [
        "LeNet_1.compile(optimizer='adam',\n",
        "              loss=tf.keras.losses.SparseCategoricalCrossentropy(from_logits=False), #logits = false because we use softmax in last layer\n",
        "              metrics=['accuracy'])\n",
        "\n",
        "#summary\n",
        "LeNet_1.summary()"
      ]
    },
    {
      "cell_type": "code",
      "execution_count": null,
      "metadata": {
        "colab": {
          "base_uri": "https://localhost:8080/"
        },
        "id": "dRgbLG4EI6sO",
        "outputId": "9182c85f-9229-405d-a7b5-965737d3ef71"
      },
      "outputs": [
        {
          "output_type": "stream",
          "name": "stdout",
          "text": [
            "Epoch 1/16\n",
            "133/133 [==============================] - 2s 7ms/step - loss: 2.3737 - accuracy: 0.3094 - val_loss: 3.0371 - val_accuracy: 0.0467\n",
            "Epoch 2/16\n",
            "133/133 [==============================] - 1s 6ms/step - loss: 2.0358 - accuracy: 0.4065 - val_loss: 2.8762 - val_accuracy: 0.1200\n",
            "Epoch 3/16\n",
            "133/133 [==============================] - 1s 7ms/step - loss: 1.8818 - accuracy: 0.4445 - val_loss: 2.5351 - val_accuracy: 0.2327\n",
            "Epoch 4/16\n",
            "133/133 [==============================] - 1s 6ms/step - loss: 1.7772 - accuracy: 0.4684 - val_loss: 2.2759 - val_accuracy: 0.3153\n",
            "Epoch 5/16\n",
            "133/133 [==============================] - 1s 7ms/step - loss: 1.6795 - accuracy: 0.4940 - val_loss: 1.9050 - val_accuracy: 0.4280\n",
            "Epoch 6/16\n",
            "133/133 [==============================] - 1s 7ms/step - loss: 1.5750 - accuracy: 0.5246 - val_loss: 1.9319 - val_accuracy: 0.4273\n",
            "Epoch 7/16\n",
            "133/133 [==============================] - 1s 6ms/step - loss: 1.4906 - accuracy: 0.5471 - val_loss: 1.8331 - val_accuracy: 0.4607\n",
            "Epoch 8/16\n",
            "133/133 [==============================] - 1s 6ms/step - loss: 1.4089 - accuracy: 0.5698 - val_loss: 1.7990 - val_accuracy: 0.4620\n",
            "Epoch 9/16\n",
            "133/133 [==============================] - 1s 6ms/step - loss: 1.3224 - accuracy: 0.5978 - val_loss: 1.9344 - val_accuracy: 0.4607\n",
            "Epoch 10/16\n",
            "133/133 [==============================] - 1s 7ms/step - loss: 1.2277 - accuracy: 0.6233 - val_loss: 1.9026 - val_accuracy: 0.4400\n",
            "Epoch 11/16\n",
            "133/133 [==============================] - 1s 6ms/step - loss: 1.1333 - accuracy: 0.6589 - val_loss: 1.8530 - val_accuracy: 0.4533\n",
            "Epoch 12/16\n",
            "133/133 [==============================] - 1s 6ms/step - loss: 1.0454 - accuracy: 0.6839 - val_loss: 1.9050 - val_accuracy: 0.4587\n",
            "Epoch 13/16\n",
            "133/133 [==============================] - 1s 6ms/step - loss: 0.9550 - accuracy: 0.7054 - val_loss: 1.9001 - val_accuracy: 0.4667\n",
            "Epoch 14/16\n",
            "133/133 [==============================] - 1s 6ms/step - loss: 0.8806 - accuracy: 0.7273 - val_loss: 1.9251 - val_accuracy: 0.4700\n",
            "Epoch 15/16\n",
            "133/133 [==============================] - 1s 6ms/step - loss: 0.8027 - accuracy: 0.7509 - val_loss: 2.0755 - val_accuracy: 0.4387\n",
            "Epoch 16/16\n",
            "133/133 [==============================] - 1s 7ms/step - loss: 0.7224 - accuracy: 0.7774 - val_loss: 2.0192 - val_accuracy: 0.4727\n"
          ]
        }
      ],
      "source": [
        "#train model\n",
        "\n",
        "history_lenet_1 = LeNet_1.fit(x_train, y_train_1, epochs=16, batch_size=64,\n",
        "                    validation_data=(x_val, y_val_1))\n"
      ]
    },
    {
      "cell_type": "markdown",
      "metadata": {
        "id": "1zTbMDDBJvS9"
      },
      "source": [
        "Χρησιμοποιούμε το softmax (και from_logits = False - αλλιώς 2η φορά θα γινόταν κανονικοποίηση) και batch normalization - βλέπουμε ότι έχουμε καλύτερα αποτελέσματα έτσι."
      ]
    },
    {
      "cell_type": "markdown",
      "metadata": {
        "id": "vkqUn7EPKl6z"
      },
      "source": [
        "**2)**\n",
        "  \n",
        "  * epochs = 32\n",
        "  * batch size = 128 \n",
        "  * optimizer = adagrad \n",
        "  * loss function = cross entropy \n"
      ]
    },
    {
      "cell_type": "code",
      "execution_count": null,
      "metadata": {
        "colab": {
          "base_uri": "https://localhost:8080/"
        },
        "id": "s7dVK_2wKqRm",
        "outputId": "34c16465-3804-4291-8881-c6798a9dd085"
      },
      "outputs": [
        {
          "output_type": "stream",
          "name": "stdout",
          "text": [
            "Model: \"sequential_2\"\n",
            "_________________________________________________________________\n",
            " Layer (type)                Output Shape              Param #   \n",
            "=================================================================\n",
            " conv2d_4 (Conv2D)           (None, 32, 32, 6)         456       \n",
            "                                                                 \n",
            " batch_normalization_4 (Batc  (None, 32, 32, 6)        24        \n",
            " hNormalization)                                                 \n",
            "                                                                 \n",
            " average_pooling2d_4 (Averag  (None, 16, 16, 6)        0         \n",
            " ePooling2D)                                                     \n",
            "                                                                 \n",
            " conv2d_5 (Conv2D)           (None, 12, 12, 16)        2416      \n",
            "                                                                 \n",
            " batch_normalization_5 (Batc  (None, 12, 12, 16)       64        \n",
            " hNormalization)                                                 \n",
            "                                                                 \n",
            " average_pooling2d_5 (Averag  (None, 6, 6, 16)         0         \n",
            " ePooling2D)                                                     \n",
            "                                                                 \n",
            " flatten_2 (Flatten)         (None, 576)               0         \n",
            "                                                                 \n",
            " dense_6 (Dense)             (None, 120)               69240     \n",
            "                                                                 \n",
            " batch_normalization_6 (Batc  (None, 120)              480       \n",
            " hNormalization)                                                 \n",
            "                                                                 \n",
            " dense_7 (Dense)             (None, 84)                10164     \n",
            "                                                                 \n",
            " batch_normalization_7 (Batc  (None, 84)               336       \n",
            " hNormalization)                                                 \n",
            "                                                                 \n",
            " dense_8 (Dense)             (None, 20)                1700      \n",
            "                                                                 \n",
            "=================================================================\n",
            "Total params: 84,880\n",
            "Trainable params: 84,428\n",
            "Non-trainable params: 452\n",
            "_________________________________________________________________\n"
          ]
        }
      ],
      "source": [
        "LeNet_2 = LeNet()\n",
        "\n",
        "LeNet_2.compile(optimizer='adam',\n",
        "              loss=tf.keras.losses.SparseCategoricalCrossentropy(from_logits=False),\n",
        "              metrics=['accuracy'])\n",
        "\n",
        "#summary\n",
        "LeNet_2.summary()"
      ]
    },
    {
      "cell_type": "code",
      "execution_count": null,
      "metadata": {
        "colab": {
          "base_uri": "https://localhost:8080/"
        },
        "id": "LWGhpjxYKtIS",
        "outputId": "48e2a5d9-8c49-4e41-926d-a1174e7c8c18"
      },
      "outputs": [
        {
          "output_type": "stream",
          "name": "stdout",
          "text": [
            "Epoch 1/32\n",
            "67/67 [==============================] - 2s 11ms/step - loss: 2.4170 - accuracy: 0.2909 - val_loss: 3.0828 - val_accuracy: 0.0533\n",
            "Epoch 2/32\n",
            "67/67 [==============================] - 0s 7ms/step - loss: 2.0691 - accuracy: 0.3938 - val_loss: 3.0561 - val_accuracy: 0.0933\n",
            "Epoch 3/32\n",
            "67/67 [==============================] - 0s 7ms/step - loss: 1.9266 - accuracy: 0.4345 - val_loss: 3.0507 - val_accuracy: 0.1287\n",
            "Epoch 4/32\n",
            "67/67 [==============================] - 0s 7ms/step - loss: 1.8057 - accuracy: 0.4622 - val_loss: 2.9749 - val_accuracy: 0.0613\n",
            "Epoch 5/32\n",
            "67/67 [==============================] - 0s 7ms/step - loss: 1.7111 - accuracy: 0.4866 - val_loss: 2.8773 - val_accuracy: 0.1300\n",
            "Epoch 6/32\n",
            "67/67 [==============================] - 0s 7ms/step - loss: 1.6265 - accuracy: 0.5080 - val_loss: 2.5667 - val_accuracy: 0.2353\n",
            "Epoch 7/32\n",
            "67/67 [==============================] - 0s 7ms/step - loss: 1.5424 - accuracy: 0.5378 - val_loss: 2.2417 - val_accuracy: 0.3227\n",
            "Epoch 8/32\n",
            "67/67 [==============================] - 0s 7ms/step - loss: 1.4722 - accuracy: 0.5534 - val_loss: 2.0004 - val_accuracy: 0.3807\n",
            "Epoch 9/32\n",
            "67/67 [==============================] - 0s 7ms/step - loss: 1.3986 - accuracy: 0.5768 - val_loss: 1.9940 - val_accuracy: 0.3933\n",
            "Epoch 10/32\n",
            "67/67 [==============================] - 0s 7ms/step - loss: 1.3381 - accuracy: 0.5874 - val_loss: 1.8962 - val_accuracy: 0.4240\n",
            "Epoch 11/32\n",
            "67/67 [==============================] - 0s 7ms/step - loss: 1.2661 - accuracy: 0.6124 - val_loss: 1.8130 - val_accuracy: 0.4627\n",
            "Epoch 12/32\n",
            "67/67 [==============================] - 0s 6ms/step - loss: 1.2055 - accuracy: 0.6335 - val_loss: 1.8879 - val_accuracy: 0.4293\n",
            "Epoch 13/32\n",
            "67/67 [==============================] - 0s 7ms/step - loss: 1.1321 - accuracy: 0.6579 - val_loss: 1.8755 - val_accuracy: 0.4480\n",
            "Epoch 14/32\n",
            "67/67 [==============================] - 0s 6ms/step - loss: 1.0712 - accuracy: 0.6771 - val_loss: 1.9513 - val_accuracy: 0.4340\n",
            "Epoch 15/32\n",
            "67/67 [==============================] - 0s 7ms/step - loss: 1.0009 - accuracy: 0.6984 - val_loss: 1.9346 - val_accuracy: 0.4673\n",
            "Epoch 16/32\n",
            "67/67 [==============================] - 0s 7ms/step - loss: 0.9261 - accuracy: 0.7235 - val_loss: 1.9705 - val_accuracy: 0.4500\n",
            "Epoch 17/32\n",
            "67/67 [==============================] - 0s 6ms/step - loss: 0.8784 - accuracy: 0.7368 - val_loss: 1.9805 - val_accuracy: 0.4507\n",
            "Epoch 18/32\n",
            "67/67 [==============================] - 0s 7ms/step - loss: 0.8278 - accuracy: 0.7511 - val_loss: 1.9951 - val_accuracy: 0.4693\n",
            "Epoch 19/32\n",
            "67/67 [==============================] - 0s 7ms/step - loss: 0.7681 - accuracy: 0.7685 - val_loss: 2.0669 - val_accuracy: 0.4653\n",
            "Epoch 20/32\n",
            "67/67 [==============================] - 0s 7ms/step - loss: 0.7034 - accuracy: 0.7921 - val_loss: 2.1353 - val_accuracy: 0.4567\n",
            "Epoch 21/32\n",
            "67/67 [==============================] - 0s 7ms/step - loss: 0.6436 - accuracy: 0.8136 - val_loss: 2.1284 - val_accuracy: 0.4680\n",
            "Epoch 22/32\n",
            "67/67 [==============================] - 0s 7ms/step - loss: 0.5925 - accuracy: 0.8222 - val_loss: 2.2063 - val_accuracy: 0.4500\n",
            "Epoch 23/32\n",
            "67/67 [==============================] - 0s 7ms/step - loss: 0.5512 - accuracy: 0.8388 - val_loss: 2.2843 - val_accuracy: 0.4520\n",
            "Epoch 24/32\n",
            "67/67 [==============================] - 0s 7ms/step - loss: 0.4955 - accuracy: 0.8516 - val_loss: 2.2990 - val_accuracy: 0.4513\n",
            "Epoch 25/32\n",
            "67/67 [==============================] - 0s 7ms/step - loss: 0.4479 - accuracy: 0.8719 - val_loss: 2.4252 - val_accuracy: 0.4427\n",
            "Epoch 26/32\n",
            "67/67 [==============================] - 0s 6ms/step - loss: 0.4136 - accuracy: 0.8814 - val_loss: 2.4529 - val_accuracy: 0.4540\n",
            "Epoch 27/32\n",
            "67/67 [==============================] - 0s 7ms/step - loss: 0.3644 - accuracy: 0.9001 - val_loss: 2.5290 - val_accuracy: 0.4427\n",
            "Epoch 28/32\n",
            "67/67 [==============================] - 0s 7ms/step - loss: 0.3255 - accuracy: 0.9092 - val_loss: 2.6047 - val_accuracy: 0.4440\n",
            "Epoch 29/32\n",
            "67/67 [==============================] - 0s 7ms/step - loss: 0.2876 - accuracy: 0.9254 - val_loss: 2.6469 - val_accuracy: 0.4520\n",
            "Epoch 30/32\n",
            "67/67 [==============================] - 0s 7ms/step - loss: 0.2499 - accuracy: 0.9378 - val_loss: 2.7691 - val_accuracy: 0.4453\n",
            "Epoch 31/32\n",
            "67/67 [==============================] - 0s 7ms/step - loss: 0.2221 - accuracy: 0.9452 - val_loss: 2.8639 - val_accuracy: 0.4440\n",
            "Epoch 32/32\n",
            "67/67 [==============================] - 0s 7ms/step - loss: 0.2100 - accuracy: 0.9466 - val_loss: 2.8372 - val_accuracy: 0.4487\n"
          ]
        }
      ],
      "source": [
        "#train model\n",
        "\n",
        "history_lenet_2 = LeNet_2.fit(x_train, y_train_1, epochs=32, batch_size=128,\n",
        "                    validation_data=(x_val, y_val_1))"
      ]
    },
    {
      "cell_type": "code",
      "execution_count": null,
      "metadata": {
        "colab": {
          "base_uri": "https://localhost:8080/",
          "height": 433
        },
        "id": "T2DUM0zhMQ7Y",
        "outputId": "5d43a455-c6f2-4459-dd3d-e0547eb5f897"
      },
      "outputs": [
        {
          "output_type": "display_data",
          "data": {
            "text/plain": [
              "<Figure size 1440x1440 with 3 Axes>"
            ],
            "image/png": "[encoded data removed]"
          },
          "metadata": {
            "needs_background": "light"
          }
        }
      ],
      "source": [
        "#Τα παραπάνω διαγραμματικά:\n",
        "plt.figure(figsize=(20, 20))\n",
        "_plot(history_lenet_no_b_norm, 'LeNet_without_batch_normilization', 1, 'adam', '64', '16')\n",
        "_plot(history_lenet_1, 'LeNet_1', 2, 'adam', '64', '16')\n",
        "_plot(history_lenet_2, 'LeNet_2', 3, 'adagrad', \"128\", \"32\")"
      ]
    },
    {
      "cell_type": "markdown",
      "source": [
        "Μπορούμε να δούμε εύκολα από τις γραφικές ότι με batch normilization πετυχαίνουμε πολύ καλύτερα αποτελέσματα (διατηρώντας όλες τις υπόλοιπες παραμέτρους ίδιες στις δύο πρώτες δοκιμές αυξάνουμε την μέγιστη ακρίβεια από 35% στο περίπου 49%). \n",
        "\n",
        "Αυτό εξηγείται από το ότι όπως εξηγήθηκε στο θεωρητικό κομμάτι καταφέρνει η τεχνική αυτή να αντιμετωπίσει προβλήματα όπως το gradient vanishing που προκύπτουν με την sigmoid (όπως εξηγήσαμε στο θεωρητικό κομμάτι).\n",
        "\n",
        "Ας εξετάσουμε την παράμετρο του batch size. Όσο μεγαλύτερο είναι τόσο πιο γρήγορα εκπαιδεύεται το μοντέλο (άρα μπορούμε να το εκπαιδεύσουμε για περισσότερες εποχές και μάλιστα επειδή συγλίνει με μικρότερη ταχύτητα απότε κάτι τέτοιο χρειάζεται). Προφανώς για να γίνει αυτό χρησιμοποιούμε περισσότερη RAM στην GPU. Μικρότερο batch size σημαίνει ότι το back propagation γίνεται πιο πολλές φορές με αποτέλεσμα αυξημένη ταχύτητα σύγκλισης με λιγότερες διακυμάνσεις. Χρειάζεται όλο και περισσότερο χρόνο η εκπαίδευση όσο μικρότερο είναι το batch size. \n",
        "\n",
        "Ο adagram είναι ειδική περίπτωση του adam optimizer και πετυχαίνει καλύτερα αποτελέσματα από αυτόν. "
      ],
      "metadata": {
        "id": "tUPYGYDQmhjD"
      }
    },
    {
      "cell_type": "markdown",
      "metadata": {
        "id": "eZNTiSE7dUvf"
      },
      "source": [
        "<h1>AlexNet</h1>\n",
        "\n",
        "---\n",
        "\n"
      ]
    },
    {
      "cell_type": "code",
      "execution_count": null,
      "metadata": {
        "id": "GU98vHoJKWDk"
      },
      "outputs": [],
      "source": [
        "#AlexNet architecture\n",
        "\n",
        "def AlexNet(softmax=None):\n",
        "  model = tf.keras.models.Sequential()\n",
        "  model.add(layers.experimental.preprocessing.Resizing(224, 224, interpolation=\"bicubic\", input_shape=x_train.shape[1:]))\n",
        "  model.add(layers.Conv2D(filters=96, kernel_size=11, strides=4,activation='relu',  input_shape=(224, 224, 3))) \n",
        "  model.add(layers.MaxPool2D(pool_size=3, strides=2))\n",
        "  model.add(layers.Conv2D(filters=256, kernel_size=5, padding='same',activation='relu'))\n",
        "  model.add(layers.MaxPool2D(pool_size=3, strides=2))\n",
        "  model.add(layers.Conv2D(filters=384, kernel_size=3, padding='same',activation='relu'))\n",
        "  model.add(layers.Conv2D(filters=384, kernel_size=3, padding='same',activation='relu'))\n",
        "  model.add(layers.Conv2D(filters=256, kernel_size=3, padding='same',activation='relu'))\n",
        "  model.add(layers.MaxPool2D(pool_size=3, strides=2))\n",
        "  model.add(layers.Flatten())\n",
        "  model.add(layers.Dense(4096, activation='relu'))\n",
        "  model.add(layers.Dropout(0.5))\n",
        "  model.add(layers.Dense(4096, activation='relu'))\n",
        "  model.add(layers.Dropout(0.5))\n",
        "  model.add(layers.Dense(20, activation=softmax))\n",
        "  return model\n",
        "\n",
        "AlexNet_1 = AlexNet() \n"
      ]
    },
    {
      "cell_type": "markdown",
      "metadata": {
        "id": "nJ5E-ATzXBNa"
      },
      "source": [
        "**1)**\n",
        " \n",
        "  * epochs = 30\n",
        "  * batch size = 256 \n",
        "  * optimizer = adam \n",
        "  * loss function = cross entropy \n",
        " "
      ]
    },
    {
      "cell_type": "code",
      "execution_count": null,
      "metadata": {
        "colab": {
          "base_uri": "https://localhost:8080/"
        },
        "id": "lkofg0bFarwQ",
        "outputId": "4ff74c00-163d-4ab6-912c-360034104b4b"
      },
      "outputs": [
        {
          "output_type": "stream",
          "name": "stdout",
          "text": [
            "Model: \"sequential_3\"\n",
            "_________________________________________________________________\n",
            " Layer (type)                Output Shape              Param #   \n",
            "=================================================================\n",
            " resizing (Resizing)         (None, 224, 224, 3)       0         \n",
            "                                                                 \n",
            " conv2d_6 (Conv2D)           (None, 54, 54, 96)        34944     \n",
            "                                                                 \n",
            " max_pooling2d (MaxPooling2D  (None, 26, 26, 96)       0         \n",
            " )                                                               \n",
            "                                                                 \n",
            " conv2d_7 (Conv2D)           (None, 26, 26, 256)       614656    \n",
            "                                                                 \n",
            " max_pooling2d_1 (MaxPooling  (None, 12, 12, 256)      0         \n",
            " 2D)                                                             \n",
            "                                                                 \n",
            " conv2d_8 (Conv2D)           (None, 12, 12, 384)       885120    \n",
            "                                                                 \n",
            " conv2d_9 (Conv2D)           (None, 12, 12, 384)       1327488   \n",
            "                                                                 \n",
            " conv2d_10 (Conv2D)          (None, 12, 12, 256)       884992    \n",
            "                                                                 \n",
            " max_pooling2d_2 (MaxPooling  (None, 5, 5, 256)        0         \n",
            " 2D)                                                             \n",
            "                                                                 \n",
            " flatten_3 (Flatten)         (None, 6400)              0         \n",
            "                                                                 \n",
            " dense_9 (Dense)             (None, 4096)              26218496  \n",
            "                                                                 \n",
            " dropout (Dropout)           (None, 4096)              0         \n",
            "                                                                 \n",
            " dense_10 (Dense)            (None, 4096)              16781312  \n",
            "                                                                 \n",
            " dropout_1 (Dropout)         (None, 4096)              0         \n",
            "                                                                 \n",
            " dense_11 (Dense)            (None, 20)                81940     \n",
            "                                                                 \n",
            "=================================================================\n",
            "Total params: 46,828,948\n",
            "Trainable params: 46,828,948\n",
            "Non-trainable params: 0\n",
            "_________________________________________________________________\n"
          ]
        }
      ],
      "source": [
        "AlexNet_1.compile(optimizer='adam',\n",
        "              loss=tf.keras.losses.SparseCategoricalCrossentropy(from_logits=True),\n",
        "              metrics=['accuracy'])\n",
        "#summary\n",
        "AlexNet_1.summary() "
      ]
    },
    {
      "cell_type": "code",
      "execution_count": null,
      "metadata": {
        "colab": {
          "base_uri": "https://localhost:8080/"
        },
        "id": "AjNYqxSqbkTG",
        "outputId": "8457ef5f-9444-43d0-a9e1-310603dc0377"
      },
      "outputs": [
        {
          "output_type": "stream",
          "name": "stdout",
          "text": [
            "Epoch 1/30\n",
            "34/34 [==============================] - 15s 330ms/step - loss: 3.1453 - accuracy: 0.0522 - val_loss: 2.9909 - val_accuracy: 0.0607\n",
            "Epoch 2/30\n",
            "34/34 [==============================] - 9s 268ms/step - loss: 2.9596 - accuracy: 0.0738 - val_loss: 2.9648 - val_accuracy: 0.0913\n",
            "Epoch 3/30\n",
            "34/34 [==============================] - 9s 270ms/step - loss: 2.9553 - accuracy: 0.0802 - val_loss: 2.8764 - val_accuracy: 0.1427\n",
            "Epoch 4/30\n",
            "34/34 [==============================] - 9s 270ms/step - loss: 2.7824 - accuracy: 0.1508 - val_loss: 2.6488 - val_accuracy: 0.1940\n",
            "Epoch 5/30\n",
            "34/34 [==============================] - 9s 272ms/step - loss: 2.4955 - accuracy: 0.2376 - val_loss: 2.5848 - val_accuracy: 0.2360\n",
            "Epoch 6/30\n",
            "34/34 [==============================] - 9s 272ms/step - loss: 2.2595 - accuracy: 0.3164 - val_loss: 2.2976 - val_accuracy: 0.2960\n",
            "Epoch 7/30\n",
            "34/34 [==============================] - 9s 275ms/step - loss: 2.0460 - accuracy: 0.3812 - val_loss: 1.9685 - val_accuracy: 0.4000\n",
            "Epoch 8/30\n",
            "34/34 [==============================] - 10s 281ms/step - loss: 1.8338 - accuracy: 0.4382 - val_loss: 1.7859 - val_accuracy: 0.4513\n",
            "Epoch 9/30\n",
            "34/34 [==============================] - 9s 278ms/step - loss: 1.7051 - accuracy: 0.4818 - val_loss: 1.7298 - val_accuracy: 0.4607\n",
            "Epoch 10/30\n",
            "34/34 [==============================] - 9s 278ms/step - loss: 1.5670 - accuracy: 0.5234 - val_loss: 1.7163 - val_accuracy: 0.4740\n",
            "Epoch 11/30\n",
            "34/34 [==============================] - 9s 275ms/step - loss: 1.4664 - accuracy: 0.5460 - val_loss: 1.6034 - val_accuracy: 0.5200\n",
            "Epoch 12/30\n",
            "34/34 [==============================] - 9s 276ms/step - loss: 1.3508 - accuracy: 0.5836 - val_loss: 1.7710 - val_accuracy: 0.4833\n",
            "Epoch 13/30\n",
            "34/34 [==============================] - 9s 273ms/step - loss: 1.2166 - accuracy: 0.6219 - val_loss: 1.4978 - val_accuracy: 0.5480\n",
            "Epoch 14/30\n",
            "34/34 [==============================] - 9s 274ms/step - loss: 1.1033 - accuracy: 0.6529 - val_loss: 1.5676 - val_accuracy: 0.5253\n",
            "Epoch 15/30\n",
            "34/34 [==============================] - 9s 275ms/step - loss: 1.0164 - accuracy: 0.6808 - val_loss: 1.5177 - val_accuracy: 0.5567\n",
            "Epoch 16/30\n",
            "34/34 [==============================] - 9s 274ms/step - loss: 0.8926 - accuracy: 0.7196 - val_loss: 1.7337 - val_accuracy: 0.5247\n",
            "Epoch 17/30\n",
            "34/34 [==============================] - 9s 276ms/step - loss: 0.7647 - accuracy: 0.7573 - val_loss: 1.6622 - val_accuracy: 0.5573\n",
            "Epoch 18/30\n",
            "34/34 [==============================] - 9s 275ms/step - loss: 0.6783 - accuracy: 0.7864 - val_loss: 1.9178 - val_accuracy: 0.5387\n",
            "Epoch 19/30\n",
            "34/34 [==============================] - 9s 275ms/step - loss: 0.6213 - accuracy: 0.8049 - val_loss: 1.7839 - val_accuracy: 0.5580\n",
            "Epoch 20/30\n",
            "34/34 [==============================] - 9s 276ms/step - loss: 0.4886 - accuracy: 0.8445 - val_loss: 1.9030 - val_accuracy: 0.5647\n",
            "Epoch 21/30\n",
            "34/34 [==============================] - 9s 276ms/step - loss: 0.4679 - accuracy: 0.8481 - val_loss: 1.8511 - val_accuracy: 0.5620\n",
            "Epoch 22/30\n",
            "34/34 [==============================] - 10s 280ms/step - loss: 0.4158 - accuracy: 0.8719 - val_loss: 2.1287 - val_accuracy: 0.5480\n",
            "Epoch 23/30\n",
            "34/34 [==============================] - 9s 275ms/step - loss: 0.3994 - accuracy: 0.8759 - val_loss: 2.1425 - val_accuracy: 0.5713\n",
            "Epoch 24/30\n",
            "34/34 [==============================] - 9s 274ms/step - loss: 0.3130 - accuracy: 0.9006 - val_loss: 2.1495 - val_accuracy: 0.5660\n",
            "Epoch 25/30\n",
            "34/34 [==============================] - 9s 276ms/step - loss: 0.2930 - accuracy: 0.9109 - val_loss: 2.3448 - val_accuracy: 0.5513\n",
            "Epoch 26/30\n",
            "34/34 [==============================] - 9s 274ms/step - loss: 0.2834 - accuracy: 0.9062 - val_loss: 2.4307 - val_accuracy: 0.5613\n",
            "Epoch 27/30\n",
            "34/34 [==============================] - 9s 275ms/step - loss: 0.2332 - accuracy: 0.9276 - val_loss: 2.5068 - val_accuracy: 0.5673\n",
            "Epoch 28/30\n",
            "34/34 [==============================] - 9s 276ms/step - loss: 0.2016 - accuracy: 0.9384 - val_loss: 2.2950 - val_accuracy: 0.5707\n",
            "Epoch 29/30\n",
            "34/34 [==============================] - 9s 276ms/step - loss: 0.1937 - accuracy: 0.9373 - val_loss: 2.2393 - val_accuracy: 0.5880\n",
            "Epoch 30/30\n",
            "34/34 [==============================] - 9s 275ms/step - loss: 0.1714 - accuracy: 0.9445 - val_loss: 2.8089 - val_accuracy: 0.5593\n"
          ]
        }
      ],
      "source": [
        "history_alexnet_1 = AlexNet_1.fit(x_train, y_train_1, epochs=30, batch_size=256,\n",
        "                    validation_data=(x_val, y_val_1))"
      ]
    },
    {
      "cell_type": "markdown",
      "metadata": {
        "id": "5rBco7g520b_"
      },
      "source": [
        "**2)**\n",
        "  \n",
        "  * epochs = 25\n",
        "  * batch size = 128\n",
        "  * optimizer = adam \n",
        "  * loss function = cross entropy \n",
        " \n",
        "\n",
        "*softmax activation function στο τελευταίο Layer (from_logits=True)*"
      ]
    },
    {
      "cell_type": "code",
      "execution_count": null,
      "metadata": {
        "colab": {
          "base_uri": "https://localhost:8080/"
        },
        "id": "jGq5PnNV0m9I",
        "outputId": "d9a1cb4b-4d83-42c2-dfee-25bc28e916a0"
      },
      "outputs": [
        {
          "output_type": "stream",
          "name": "stdout",
          "text": [
            "Model: \"sequential_4\"\n",
            "_________________________________________________________________\n",
            " Layer (type)                Output Shape              Param #   \n",
            "=================================================================\n",
            " resizing_1 (Resizing)       (None, 224, 224, 3)       0         \n",
            "                                                                 \n",
            " conv2d_11 (Conv2D)          (None, 54, 54, 96)        34944     \n",
            "                                                                 \n",
            " max_pooling2d_3 (MaxPooling  (None, 26, 26, 96)       0         \n",
            " 2D)                                                             \n",
            "                                                                 \n",
            " conv2d_12 (Conv2D)          (None, 26, 26, 256)       614656    \n",
            "                                                                 \n",
            " max_pooling2d_4 (MaxPooling  (None, 12, 12, 256)      0         \n",
            " 2D)                                                             \n",
            "                                                                 \n",
            " conv2d_13 (Conv2D)          (None, 12, 12, 384)       885120    \n",
            "                                                                 \n",
            " conv2d_14 (Conv2D)          (None, 12, 12, 384)       1327488   \n",
            "                                                                 \n",
            " conv2d_15 (Conv2D)          (None, 12, 12, 256)       884992    \n",
            "                                                                 \n",
            " max_pooling2d_5 (MaxPooling  (None, 5, 5, 256)        0         \n",
            " 2D)                                                             \n",
            "                                                                 \n",
            " flatten_4 (Flatten)         (None, 6400)              0         \n",
            "                                                                 \n",
            " dense_12 (Dense)            (None, 4096)              26218496  \n",
            "                                                                 \n",
            " dropout_2 (Dropout)         (None, 4096)              0         \n",
            "                                                                 \n",
            " dense_13 (Dense)            (None, 4096)              16781312  \n",
            "                                                                 \n",
            " dropout_3 (Dropout)         (None, 4096)              0         \n",
            "                                                                 \n",
            " dense_14 (Dense)            (None, 20)                81940     \n",
            "                                                                 \n",
            "=================================================================\n",
            "Total params: 46,828,948\n",
            "Trainable params: 46,828,948\n",
            "Non-trainable params: 0\n",
            "_________________________________________________________________\n"
          ]
        }
      ],
      "source": [
        "AlexNet_2 = AlexNet()\n",
        "AlexNet_2.compile(optimizer='adam',\n",
        "              loss=tf.keras.losses.SparseCategoricalCrossentropy(from_logits=True),\n",
        "              metrics=['accuracy'])\n",
        "#summary\n",
        "AlexNet_2.summary() "
      ]
    },
    {
      "cell_type": "code",
      "execution_count": null,
      "metadata": {
        "colab": {
          "base_uri": "https://localhost:8080/"
        },
        "outputId": "817e55d6-84bd-4427-aa83-d8321818ca73",
        "id": "rS8SEv-iudsO"
      },
      "outputs": [
        {
          "output_type": "stream",
          "name": "stdout",
          "text": [
            "Epoch 1/25\n",
            "67/67 [==============================] - 13s 156ms/step - loss: 3.0973 - accuracy: 0.0781 - val_loss: 2.6961 - val_accuracy: 0.1347\n",
            "Epoch 2/25\n",
            "67/67 [==============================] - 10s 143ms/step - loss: 2.6752 - accuracy: 0.1566 - val_loss: 2.4869 - val_accuracy: 0.2060\n",
            "Epoch 3/25\n",
            "67/67 [==============================] - 10s 144ms/step - loss: 2.3316 - accuracy: 0.2784 - val_loss: 2.2599 - val_accuracy: 0.2967\n",
            "Epoch 4/25\n",
            "67/67 [==============================] - 10s 144ms/step - loss: 2.1206 - accuracy: 0.3531 - val_loss: 2.0297 - val_accuracy: 0.3627\n",
            "Epoch 5/25\n",
            "67/67 [==============================] - 10s 143ms/step - loss: 1.8890 - accuracy: 0.4228 - val_loss: 1.7882 - val_accuracy: 0.4513\n",
            "Epoch 6/25\n",
            "67/67 [==============================] - 10s 142ms/step - loss: 1.7259 - accuracy: 0.4709 - val_loss: 1.6438 - val_accuracy: 0.4927\n",
            "Epoch 7/25\n",
            "67/67 [==============================] - 9s 141ms/step - loss: 1.5337 - accuracy: 0.5246 - val_loss: 1.5678 - val_accuracy: 0.5247\n",
            "Epoch 8/25\n",
            "67/67 [==============================] - 9s 141ms/step - loss: 1.4235 - accuracy: 0.5564 - val_loss: 1.5011 - val_accuracy: 0.5493\n",
            "Epoch 9/25\n",
            "67/67 [==============================] - 9s 142ms/step - loss: 1.3148 - accuracy: 0.5919 - val_loss: 1.4800 - val_accuracy: 0.5427\n",
            "Epoch 10/25\n",
            "67/67 [==============================] - 9s 142ms/step - loss: 1.1761 - accuracy: 0.6356 - val_loss: 1.4937 - val_accuracy: 0.5460\n",
            "Epoch 11/25\n",
            "67/67 [==============================] - 10s 142ms/step - loss: 1.0688 - accuracy: 0.6622 - val_loss: 1.4682 - val_accuracy: 0.5680\n",
            "Epoch 12/25\n",
            "67/67 [==============================] - 10s 142ms/step - loss: 0.9720 - accuracy: 0.6932 - val_loss: 1.5014 - val_accuracy: 0.5787\n",
            "Epoch 13/25\n",
            "67/67 [==============================] - 9s 142ms/step - loss: 0.8714 - accuracy: 0.7254 - val_loss: 1.4782 - val_accuracy: 0.5740\n",
            "Epoch 14/25\n",
            "67/67 [==============================] - 10s 142ms/step - loss: 0.7858 - accuracy: 0.7522 - val_loss: 1.5308 - val_accuracy: 0.5820\n",
            "Epoch 15/25\n",
            "67/67 [==============================] - 10s 142ms/step - loss: 0.6852 - accuracy: 0.7779 - val_loss: 1.5826 - val_accuracy: 0.5627\n",
            "Epoch 16/25\n",
            "67/67 [==============================] - 9s 142ms/step - loss: 0.5899 - accuracy: 0.8035 - val_loss: 1.7066 - val_accuracy: 0.5867\n",
            "Epoch 17/25\n",
            "67/67 [==============================] - 9s 142ms/step - loss: 0.5391 - accuracy: 0.8264 - val_loss: 1.7093 - val_accuracy: 0.5900\n",
            "Epoch 18/25\n",
            "67/67 [==============================] - 9s 142ms/step - loss: 0.4275 - accuracy: 0.8625 - val_loss: 1.8119 - val_accuracy: 0.5867\n",
            "Epoch 19/25\n",
            "67/67 [==============================] - 9s 142ms/step - loss: 0.4103 - accuracy: 0.8693 - val_loss: 1.8426 - val_accuracy: 0.5853\n",
            "Epoch 20/25\n",
            "67/67 [==============================] - 10s 142ms/step - loss: 0.3845 - accuracy: 0.8793 - val_loss: 2.0088 - val_accuracy: 0.5893\n",
            "Epoch 21/25\n",
            "67/67 [==============================] - 9s 142ms/step - loss: 0.3176 - accuracy: 0.8980 - val_loss: 1.9520 - val_accuracy: 0.6073\n",
            "Epoch 22/25\n",
            "67/67 [==============================] - 9s 141ms/step - loss: 0.2548 - accuracy: 0.9181 - val_loss: 2.3562 - val_accuracy: 0.5653\n",
            "Epoch 23/25\n",
            "67/67 [==============================] - 9s 141ms/step - loss: 0.2463 - accuracy: 0.9234 - val_loss: 2.1820 - val_accuracy: 0.5860\n",
            "Epoch 24/25\n",
            "67/67 [==============================] - 9s 141ms/step - loss: 0.2707 - accuracy: 0.9126 - val_loss: 2.1328 - val_accuracy: 0.5940\n",
            "Epoch 25/25\n",
            "67/67 [==============================] - 9s 141ms/step - loss: 0.2391 - accuracy: 0.9279 - val_loss: 2.1559 - val_accuracy: 0.5820\n"
          ]
        }
      ],
      "source": [
        "#train model\n",
        "\n",
        "history_alexnet_2 = AlexNet_2.fit(x_train, y_train_1, epochs=25, batch_size=128,\n",
        "                    validation_data=(x_val, y_val_1))"
      ]
    },
    {
      "cell_type": "markdown",
      "metadata": {
        "id": "Jf_-fYxlZN4v"
      },
      "source": [
        "Ας δοκιμάσουμε να αλλάξουμε λίγο τα layers (χρησιμοποιώντας Leaky Relu) προσπαθώντας να βελτώσουμε τις επιδόσεις."
      ]
    },
    {
      "cell_type": "code",
      "execution_count": null,
      "metadata": {
        "id": "E-jKUU6YZMuw"
      },
      "outputs": [],
      "source": [
        "def AlexNet_Leaky_ReLU(softmax=None):\n",
        "  model = tf.keras.models.Sequential()\n",
        "  model.add(layers.experimental.preprocessing.Resizing(224, 224, interpolation=\"bicubic\", input_shape=x_train.shape[1:]))\n",
        "  model.add(layers.Conv2D(filters=96, kernel_size=11, strides=4,  input_shape=(224, 224, 3))) \n",
        "  model.add(layers.LeakyReLU(alpha=0.2))  \n",
        "  model.add(layers.MaxPool2D(pool_size=3, strides=2))\n",
        "  model.add(layers.Conv2D(filters=256, kernel_size=5, padding='same'))\n",
        "  model.add(layers.LeakyReLU(alpha=0.2))          \n",
        "  model.add(layers.MaxPool2D(pool_size=3, strides=2))\n",
        "  model.add(layers.Conv2D(filters=384, kernel_size=3, padding='same'))\n",
        "  model.add(layers.LeakyReLU(alpha=0.1))          \n",
        "  model.add(layers.Conv2D(filters=384, kernel_size=3, padding='same'))\n",
        "  model.add(layers.LeakyReLU(alpha=0.1))          \n",
        "  model.add(layers.Conv2D(filters=256, kernel_size=3, padding='same'))\n",
        "  model.add(layers.LeakyReLU(alpha=0.1))          \n",
        "  model.add(layers.MaxPool2D(pool_size=3, strides=2))\n",
        "  model.add(layers.Flatten())\n",
        "  model.add(layers.Dense(4096))\n",
        "  model.add(layers.LeakyReLU(alpha=0.2))          \n",
        "  model.add(layers.Dropout(0.5))\n",
        "  model.add(layers.Dense(4096))\n",
        "  model.add(layers.LeakyReLU(alpha=0.2))          \n",
        "  model.add(layers.Dropout(0.5))\n",
        "  model.add(layers.Dense(20, activation=softmax))\n",
        "  return model\n",
        "\n",
        "AlexNet_Leaky = AlexNet_Leaky_ReLU(softmax='softmax') "
      ]
    },
    {
      "cell_type": "code",
      "execution_count": null,
      "metadata": {
        "colab": {
          "base_uri": "https://localhost:8080/"
        },
        "id": "SjzkXcigaLOC",
        "outputId": "b5e48c82-42ee-4d0c-9fb9-4ecb02953983"
      },
      "outputs": [
        {
          "output_type": "stream",
          "name": "stdout",
          "text": [
            "Model: \"sequential_1\"\n",
            "_________________________________________________________________\n",
            " Layer (type)                Output Shape              Param #   \n",
            "=================================================================\n",
            " resizing_1 (Resizing)       (None, 224, 224, 3)       0         \n",
            "                                                                 \n",
            " conv2d_5 (Conv2D)           (None, 54, 54, 96)        34944     \n",
            "                                                                 \n",
            " leaky_re_lu_7 (LeakyReLU)   (None, 54, 54, 96)        0         \n",
            "                                                                 \n",
            " max_pooling2d_3 (MaxPooling  (None, 26, 26, 96)       0         \n",
            " 2D)                                                             \n",
            "                                                                 \n",
            " conv2d_6 (Conv2D)           (None, 26, 26, 256)       614656    \n",
            "                                                                 \n",
            " leaky_re_lu_8 (LeakyReLU)   (None, 26, 26, 256)       0         \n",
            "                                                                 \n",
            " max_pooling2d_4 (MaxPooling  (None, 12, 12, 256)      0         \n",
            " 2D)                                                             \n",
            "                                                                 \n",
            " conv2d_7 (Conv2D)           (None, 12, 12, 384)       885120    \n",
            "                                                                 \n",
            " leaky_re_lu_9 (LeakyReLU)   (None, 12, 12, 384)       0         \n",
            "                                                                 \n",
            " conv2d_8 (Conv2D)           (None, 12, 12, 384)       1327488   \n",
            "                                                                 \n",
            " leaky_re_lu_10 (LeakyReLU)  (None, 12, 12, 384)       0         \n",
            "                                                                 \n",
            " conv2d_9 (Conv2D)           (None, 12, 12, 256)       884992    \n",
            "                                                                 \n",
            " leaky_re_lu_11 (LeakyReLU)  (None, 12, 12, 256)       0         \n",
            "                                                                 \n",
            " max_pooling2d_5 (MaxPooling  (None, 5, 5, 256)        0         \n",
            " 2D)                                                             \n",
            "                                                                 \n",
            " flatten_1 (Flatten)         (None, 6400)              0         \n",
            "                                                                 \n",
            " dense_3 (Dense)             (None, 4096)              26218496  \n",
            "                                                                 \n",
            " leaky_re_lu_12 (LeakyReLU)  (None, 4096)              0         \n",
            "                                                                 \n",
            " dropout_2 (Dropout)         (None, 4096)              0         \n",
            "                                                                 \n",
            " dense_4 (Dense)             (None, 4096)              16781312  \n",
            "                                                                 \n",
            " leaky_re_lu_13 (LeakyReLU)  (None, 4096)              0         \n",
            "                                                                 \n",
            " dropout_3 (Dropout)         (None, 4096)              0         \n",
            "                                                                 \n",
            " dense_5 (Dense)             (None, 20)                81940     \n",
            "                                                                 \n",
            "=================================================================\n",
            "Total params: 46,828,948\n",
            "Trainable params: 46,828,948\n",
            "Non-trainable params: 0\n",
            "_________________________________________________________________\n"
          ]
        }
      ],
      "source": [
        "AlexNet_Leaky.compile(optimizer='adam',\n",
        "              loss=tf.keras.losses.SparseCategoricalCrossentropy(from_logits=False),\n",
        "              metrics=['accuracy'])\n",
        "#summary\n",
        "AlexNet_Leaky.summary()"
      ]
    },
    {
      "cell_type": "code",
      "execution_count": null,
      "metadata": {
        "colab": {
          "base_uri": "https://localhost:8080/"
        },
        "id": "8wPIQDCQdLs8",
        "outputId": "c0e1ad62-40ea-4838-9869-af6ef770c04e"
      },
      "outputs": [
        {
          "output_type": "stream",
          "name": "stdout",
          "text": [
            "Epoch 1/30\n",
            "34/34 [==============================] - 11s 302ms/step - loss: 10.2404 - accuracy: 0.0504 - val_loss: 3.1764 - val_accuracy: 0.0667\n",
            "Epoch 2/30\n",
            "34/34 [==============================] - 10s 294ms/step - loss: 3.0630 - accuracy: 0.0682 - val_loss: 2.9922 - val_accuracy: 0.0580\n",
            "Epoch 3/30\n",
            "34/34 [==============================] - 10s 295ms/step - loss: 3.0288 - accuracy: 0.0672 - val_loss: 3.0248 - val_accuracy: 0.0813\n",
            "Epoch 4/30\n",
            "34/34 [==============================] - 10s 295ms/step - loss: 2.9967 - accuracy: 0.0864 - val_loss: 2.9363 - val_accuracy: 0.0747\n",
            "Epoch 5/30\n",
            "34/34 [==============================] - 10s 294ms/step - loss: 2.7127 - accuracy: 0.1638 - val_loss: 2.5650 - val_accuracy: 0.2173\n",
            "Epoch 6/30\n",
            "34/34 [==============================] - 10s 296ms/step - loss: 2.5928 - accuracy: 0.2034 - val_loss: 2.4784 - val_accuracy: 0.2247\n",
            "Epoch 7/30\n",
            "34/34 [==============================] - 10s 295ms/step - loss: 2.3842 - accuracy: 0.2604 - val_loss: 2.3452 - val_accuracy: 0.2840\n",
            "Epoch 8/30\n",
            "34/34 [==============================] - 10s 295ms/step - loss: 2.2514 - accuracy: 0.3094 - val_loss: 2.1749 - val_accuracy: 0.3340\n",
            "Epoch 9/30\n",
            "34/34 [==============================] - 10s 295ms/step - loss: 2.1094 - accuracy: 0.3520 - val_loss: 2.1288 - val_accuracy: 0.3533\n",
            "Epoch 10/30\n",
            "34/34 [==============================] - 10s 294ms/step - loss: 2.0146 - accuracy: 0.3853 - val_loss: 1.9340 - val_accuracy: 0.4000\n",
            "Epoch 11/30\n",
            "34/34 [==============================] - 10s 295ms/step - loss: 1.9027 - accuracy: 0.4199 - val_loss: 1.8810 - val_accuracy: 0.4287\n",
            "Epoch 12/30\n",
            "34/34 [==============================] - 10s 295ms/step - loss: 1.7963 - accuracy: 0.4580 - val_loss: 1.7384 - val_accuracy: 0.4727\n",
            "Epoch 13/30\n",
            "34/34 [==============================] - 10s 296ms/step - loss: 1.6400 - accuracy: 0.4979 - val_loss: 1.7048 - val_accuracy: 0.4753\n",
            "Epoch 14/30\n",
            "34/34 [==============================] - 10s 296ms/step - loss: 1.6257 - accuracy: 0.5036 - val_loss: 1.6615 - val_accuracy: 0.4880\n",
            "Epoch 15/30\n",
            "34/34 [==============================] - 10s 297ms/step - loss: 1.5153 - accuracy: 0.5364 - val_loss: 1.5190 - val_accuracy: 0.5413\n",
            "Epoch 16/30\n",
            "34/34 [==============================] - 10s 296ms/step - loss: 1.4241 - accuracy: 0.5548 - val_loss: 1.5384 - val_accuracy: 0.5407\n",
            "Epoch 17/30\n",
            "34/34 [==============================] - 10s 296ms/step - loss: 1.3564 - accuracy: 0.5812 - val_loss: 1.4881 - val_accuracy: 0.5593\n",
            "Epoch 18/30\n",
            "34/34 [==============================] - 10s 296ms/step - loss: 1.2654 - accuracy: 0.6099 - val_loss: 1.5093 - val_accuracy: 0.5467\n",
            "Epoch 19/30\n",
            "34/34 [==============================] - 10s 295ms/step - loss: 1.2075 - accuracy: 0.6282 - val_loss: 1.4362 - val_accuracy: 0.5720\n",
            "Epoch 20/30\n",
            "34/34 [==============================] - 10s 297ms/step - loss: 1.0911 - accuracy: 0.6614 - val_loss: 1.3203 - val_accuracy: 0.5980\n",
            "Epoch 21/30\n",
            "34/34 [==============================] - 10s 296ms/step - loss: 1.0341 - accuracy: 0.6734 - val_loss: 1.3800 - val_accuracy: 0.5860\n",
            "Epoch 22/30\n",
            "34/34 [==============================] - 10s 296ms/step - loss: 0.9925 - accuracy: 0.6855 - val_loss: 1.4604 - val_accuracy: 0.5673\n",
            "Epoch 23/30\n",
            "34/34 [==============================] - 10s 295ms/step - loss: 0.8908 - accuracy: 0.7155 - val_loss: 1.4658 - val_accuracy: 0.5967\n",
            "Epoch 24/30\n",
            "34/34 [==============================] - 10s 295ms/step - loss: 0.7699 - accuracy: 0.7558 - val_loss: 1.3560 - val_accuracy: 0.6027\n",
            "Epoch 25/30\n",
            "34/34 [==============================] - 10s 295ms/step - loss: 0.7136 - accuracy: 0.7701 - val_loss: 1.4183 - val_accuracy: 0.6033\n",
            "Epoch 26/30\n",
            "34/34 [==============================] - 10s 295ms/step - loss: 0.6188 - accuracy: 0.7961 - val_loss: 1.4582 - val_accuracy: 0.6067\n",
            "Epoch 27/30\n",
            "34/34 [==============================] - 10s 295ms/step - loss: 0.5606 - accuracy: 0.8158 - val_loss: 1.4062 - val_accuracy: 0.6160\n",
            "Epoch 28/30\n",
            "34/34 [==============================] - 10s 295ms/step - loss: 0.4556 - accuracy: 0.8501 - val_loss: 1.6413 - val_accuracy: 0.6187\n",
            "Epoch 29/30\n",
            "34/34 [==============================] - 10s 295ms/step - loss: 0.4491 - accuracy: 0.8508 - val_loss: 1.6428 - val_accuracy: 0.6213\n",
            "Epoch 30/30\n",
            "34/34 [==============================] - 10s 295ms/step - loss: 0.3598 - accuracy: 0.8818 - val_loss: 1.7133 - val_accuracy: 0.6313\n"
          ]
        }
      ],
      "source": [
        "history_AlexNet_Leaky = AlexNet_Leaky.fit(x_train, y_train_1, epochs=30, batch_size=256,\n",
        "                    validation_data=(x_val, y_val_1))"
      ]
    },
    {
      "cell_type": "markdown",
      "metadata": {
        "id": "umibbvMEFHfB"
      },
      "source": [
        "Πετυχαίνουμε σχεδόν 62% ακρίβεια στο evaluate στο test set. Από τα διαγράμματα μπορούμε να παρατηρήσουμε εύκολα ότι το overfit και η σταθεροποιήση του accuracy δεν εμφανίζονται (τουλάxιστον με τις εποχές που δοκιμάζουμε) την στιγμή που χωρίς την χρήση της Leaky Relu αρχίζει το overfit ήδη σχεδόν από την 10η περίπου εποχή (οπότε στην περίπτωση που δεν χρησιμοποιούμε Leaky Relu **δεν** πρέπει να εκπαιδεύσουμε το CNN μας με τόσες πολλές εποχές γιατί κάνει overfitting, δεν αυξάνεται το accuracy) . Το val_accuracy ακολουθεί αρκετά πιστά το test set. Με περαιτέρω πειράματα από αυτά που φαίνονται εδώ σιγουρευόμαστε για την ισχύ των παραπάνω ισχυρισμών (ότι δηλαδή με Leaky Relu έχουμε consistency και λιγότερο overfitting). "
      ]
    },
    {
      "cell_type": "code",
      "execution_count": null,
      "metadata": {
        "colab": {
          "base_uri": "https://localhost:8080/",
          "height": 596
        },
        "id": "Pbewu5jDJSQM",
        "outputId": "cccfa9b4-fbfc-4828-b31e-f3a1c77a56a7"
      },
      "outputs": [
        {
          "output_type": "display_data",
          "data": {
            "text/plain": [
              "<Figure size 1440x1440 with 3 Axes>"
            ],
            "image/png": "[encoded data removed]"
          },
          "metadata": {
            "needs_background": "light"
          }
        }
      ],
      "source": [
        "#Τα παραπάνω διαγραμματικά:\n",
        "plt.figure(figsize=(20, 20))\n",
        "_plot(history_alexnet_1, 'AlexNet_1', 1, 'adam', '256', '30')\n",
        "_plot(history_alexnet_2, 'AlexNet_2', 2, 'adam', '128', '25')\n",
        "_plot(history_AlexNet_Leaky, 'AlexNet_LeakyReLU', 3, 'adagrad', \"256\", \"30\")"
      ]
    },
    {
      "cell_type": "markdown",
      "metadata": {
        "id": "m12YgMCo0V50"
      },
      "source": [
        "<h1>VGG</h1> \n",
        "\n",
        "---\n",
        "\n"
      ]
    },
    {
      "cell_type": "code",
      "execution_count": null,
      "metadata": {
        "id": "kD7kIan11caw"
      },
      "outputs": [],
      "source": [
        "#vgg architecture\n",
        "def vgg_block(num_convs, num_channels):\n",
        "    blk = tf.keras.models.Sequential()\n",
        "    for _ in range(num_convs):\n",
        "        blk.add(\n",
        "            tf.keras.layers.Conv2D(num_channels, kernel_size=3,\n",
        "                                   padding='same', activation='relu'))\n",
        "        blk.add(layers.BatchNormalization())\n",
        "    blk.add(tf.keras.layers.MaxPool2D(pool_size=2, strides=2))\n",
        "    return blk\n",
        "\n",
        "conv_arch = ((1, 64), (1, 128), (2, 256), (2, 512), (2, 512))\n",
        "def vgg(conv_arch, softmax=None):\n",
        "    net = tf.keras.models.Sequential()\n",
        "    net.add(layers.experimental.preprocessing.Resizing(224, 224, interpolation=\"bicubic\", input_shape=x_train.shape[1:]))\n",
        "    # The convulational part\n",
        "    for (num_convs, num_channels) in conv_arch:\n",
        "        net.add(vgg_block(num_convs, num_channels))\n",
        "    # The fully-connected part\n",
        "    net.add(\n",
        "        tf.keras.models.Sequential([\n",
        "            tf.keras.layers.Flatten(),\n",
        "            tf.keras.layers.Dense(4096, activation='relu'),\n",
        "            tf.keras.layers.Dropout(0.5),\n",
        "            tf.keras.layers.Dense(4096, activation='relu'),\n",
        "            tf.keras.layers.Dropout(0.5),\n",
        "            tf.keras.layers.Dense(20, activation=softmax)]))\n",
        "    return net\n",
        "\n",
        "VGG_1 = vgg(conv_arch)    "
      ]
    },
    {
      "cell_type": "markdown",
      "metadata": {
        "id": "O7P9kj412s9c"
      },
      "source": [
        "**1)**\n",
        "  \n",
        "  * epochs = 32\n",
        "  * batch size = 128 \n",
        "  * optimizer = adam \n",
        "  * loss function = cross entropy \n"
      ]
    },
    {
      "cell_type": "code",
      "execution_count": null,
      "metadata": {
        "colab": {
          "base_uri": "https://localhost:8080/"
        },
        "id": "0UY_kS833mtx",
        "outputId": "4ebd9e9d-73fb-4e87-f1b5-a31300c09f5a"
      },
      "outputs": [
        {
          "output_type": "stream",
          "name": "stdout",
          "text": [
            "Model: \"sequential_8\"\n",
            "_________________________________________________________________\n",
            " Layer (type)                Output Shape              Param #   \n",
            "=================================================================\n",
            " resizing_5 (Resizing)       (None, 224, 224, 3)       0         \n",
            "                                                                 \n",
            " sequential_9 (Sequential)   (None, 112, 112, 64)      2048      \n",
            "                                                                 \n",
            " sequential_10 (Sequential)  (None, 56, 56, 128)       74368     \n",
            "                                                                 \n",
            " sequential_11 (Sequential)  (None, 28, 28, 256)       887296    \n",
            "                                                                 \n",
            " sequential_12 (Sequential)  (None, 14, 14, 512)       3544064   \n",
            "                                                                 \n",
            " sequential_13 (Sequential)  (None, 7, 7, 512)         4723712   \n",
            "                                                                 \n",
            " sequential_14 (Sequential)  (None, 20)                119627796 \n",
            "                                                                 \n",
            "=================================================================\n",
            "Total params: 128,859,284\n",
            "Trainable params: 128,853,780\n",
            "Non-trainable params: 5,504\n",
            "_________________________________________________________________\n"
          ]
        }
      ],
      "source": [
        "VGG_1.compile(optimizer='adam',\n",
        "              loss=tf.keras.losses.SparseCategoricalCrossentropy(from_logits=True),\n",
        "              metrics=['accuracy'])\n",
        "#summary\n",
        "VGG_1.summary() "
      ]
    },
    {
      "cell_type": "code",
      "execution_count": null,
      "metadata": {
        "colab": {
          "base_uri": "https://localhost:8080/"
        },
        "id": "rOBB-8oL3tcJ",
        "outputId": "ff8b2ecf-1a5f-4d7e-c17f-01b9ebc84df4"
      },
      "outputs": [
        {
          "output_type": "stream",
          "name": "stdout",
          "text": [
            "Epoch 1/32\n",
            "67/67 [==============================] - 126s 1s/step - loss: 12.1826 - accuracy: 0.1516 - val_loss: 9.2460 - val_accuracy: 0.0573\n",
            "Epoch 2/32\n",
            "67/67 [==============================] - 69s 1s/step - loss: 3.1634 - accuracy: 0.2166 - val_loss: 3.2115 - val_accuracy: 0.0507\n",
            "Epoch 3/32\n",
            "67/67 [==============================] - 71s 1s/step - loss: 2.6539 - accuracy: 0.2534 - val_loss: 3.3108 - val_accuracy: 0.0593\n",
            "Epoch 4/32\n",
            "67/67 [==============================] - 71s 1s/step - loss: 2.4357 - accuracy: 0.2802 - val_loss: 3.0752 - val_accuracy: 0.0800\n",
            "Epoch 5/32\n",
            "67/67 [==============================] - 71s 1s/step - loss: 2.3074 - accuracy: 0.3262 - val_loss: 3.1547 - val_accuracy: 0.1367\n",
            "Epoch 6/32\n",
            "67/67 [==============================] - 71s 1s/step - loss: 2.2516 - accuracy: 0.3395 - val_loss: 2.7330 - val_accuracy: 0.2307\n",
            "Epoch 7/32\n",
            "67/67 [==============================] - 71s 1s/step - loss: 2.1753 - accuracy: 0.3578 - val_loss: 2.4312 - val_accuracy: 0.2707\n",
            "Epoch 8/32\n",
            "67/67 [==============================] - 71s 1s/step - loss: 2.1130 - accuracy: 0.3756 - val_loss: 2.1908 - val_accuracy: 0.3500\n",
            "Epoch 9/32\n",
            "67/67 [==============================] - 71s 1s/step - loss: 2.0535 - accuracy: 0.3985 - val_loss: 1.9623 - val_accuracy: 0.3947\n",
            "Epoch 10/32\n",
            "67/67 [==============================] - 71s 1s/step - loss: 1.9886 - accuracy: 0.4212 - val_loss: 2.1731 - val_accuracy: 0.3447\n",
            "Epoch 11/32\n",
            "67/67 [==============================] - 71s 1s/step - loss: 1.9579 - accuracy: 0.4259 - val_loss: 1.9717 - val_accuracy: 0.4100\n",
            "Epoch 12/32\n",
            "67/67 [==============================] - 71s 1s/step - loss: 1.8809 - accuracy: 0.4505 - val_loss: 1.7765 - val_accuracy: 0.4607\n",
            "Epoch 13/32\n",
            "67/67 [==============================] - 71s 1s/step - loss: 1.8389 - accuracy: 0.4585 - val_loss: 1.9099 - val_accuracy: 0.4420\n",
            "Epoch 14/32\n",
            "67/67 [==============================] - 71s 1s/step - loss: 1.8188 - accuracy: 0.4689 - val_loss: 1.7785 - val_accuracy: 0.4507\n",
            "Epoch 15/32\n",
            "67/67 [==============================] - 71s 1s/step - loss: 1.7903 - accuracy: 0.4755 - val_loss: 1.7538 - val_accuracy: 0.4727\n",
            "Epoch 16/32\n",
            "67/67 [==============================] - 71s 1s/step - loss: 1.6863 - accuracy: 0.4998 - val_loss: 1.6319 - val_accuracy: 0.5153\n",
            "Epoch 17/32\n",
            "67/67 [==============================] - 71s 1s/step - loss: 1.6708 - accuracy: 0.5220 - val_loss: 2.0985 - val_accuracy: 0.3633\n",
            "Epoch 18/32\n",
            "67/67 [==============================] - 71s 1s/step - loss: 1.6417 - accuracy: 0.5204 - val_loss: 1.6439 - val_accuracy: 0.5313\n",
            "Epoch 19/32\n",
            "67/67 [==============================] - 71s 1s/step - loss: 1.5624 - accuracy: 0.5494 - val_loss: 1.7725 - val_accuracy: 0.4960\n",
            "Epoch 20/32\n",
            "67/67 [==============================] - 71s 1s/step - loss: 1.5676 - accuracy: 0.5474 - val_loss: 1.5792 - val_accuracy: 0.5380\n",
            "Epoch 21/32\n",
            "67/67 [==============================] - 71s 1s/step - loss: 1.4651 - accuracy: 0.5729 - val_loss: 1.9535 - val_accuracy: 0.4433\n",
            "Epoch 22/32\n",
            "67/67 [==============================] - 71s 1s/step - loss: 1.4662 - accuracy: 0.5724 - val_loss: 1.8749 - val_accuracy: 0.4567\n",
            "Epoch 23/32\n",
            "67/67 [==============================] - 71s 1s/step - loss: 1.4384 - accuracy: 0.5913 - val_loss: 1.6522 - val_accuracy: 0.5220\n",
            "Epoch 24/32\n",
            "67/67 [==============================] - 71s 1s/step - loss: 1.4042 - accuracy: 0.6014 - val_loss: 1.6014 - val_accuracy: 0.5160\n",
            "Epoch 25/32\n",
            "67/67 [==============================] - 71s 1s/step - loss: 1.3630 - accuracy: 0.6205 - val_loss: 1.5823 - val_accuracy: 0.5320\n",
            "Epoch 26/32\n",
            "67/67 [==============================] - 71s 1s/step - loss: 1.2731 - accuracy: 0.6461 - val_loss: 1.8020 - val_accuracy: 0.5227\n",
            "Epoch 27/32\n",
            "67/67 [==============================] - 71s 1s/step - loss: 1.2206 - accuracy: 0.6699 - val_loss: 1.5781 - val_accuracy: 0.5480\n",
            "Epoch 28/32\n",
            "67/67 [==============================] - 71s 1s/step - loss: 1.1771 - accuracy: 0.6785 - val_loss: 2.0201 - val_accuracy: 0.4127\n",
            "Epoch 29/32\n",
            "67/67 [==============================] - 71s 1s/step - loss: 1.1092 - accuracy: 0.6855 - val_loss: 1.7541 - val_accuracy: 0.5120\n",
            "Epoch 30/32\n",
            "67/67 [==============================] - 71s 1s/step - loss: 0.9471 - accuracy: 0.7375 - val_loss: 1.3875 - val_accuracy: 0.5860\n",
            "Epoch 31/32\n",
            "67/67 [==============================] - 71s 1s/step - loss: 0.8409 - accuracy: 0.7598 - val_loss: 1.5940 - val_accuracy: 0.5800\n",
            "Epoch 32/32\n",
            "67/67 [==============================] - 71s 1s/step - loss: 0.8318 - accuracy: 0.7706 - val_loss: 1.7429 - val_accuracy: 0.5747\n"
          ]
        }
      ],
      "source": [
        "history = VGG_1.fit(x_train, y_train_1, epochs=32, batch_size=128,\n",
        "                    validation_data=(x_val, y_val_1))"
      ]
    },
    {
      "cell_type": "code",
      "execution_count": null,
      "metadata": {
        "colab": {
          "base_uri": "https://localhost:8080/",
          "height": 312
        },
        "id": "3zvFQZ7RjAWr",
        "outputId": "f4a14207-43e3-44dc-9df9-d376d15d7266"
      },
      "outputs": [
        {
          "output_type": "display_data",
          "data": {
            "text/plain": [
              "<Figure size 1440x1440 with 1 Axes>"
            ],
            "image/png": "[encoded data removed]"
          },
          "metadata": {
            "needs_background": "light"
          }
        }
      ],
      "source": [
        "#Τα παραπάνω διαγραμματικά:\n",
        "plt.figure(figsize=(20, 20))\n",
        "_plot(history, 'VGG_1', 1, 'adam', '128', '32')"
      ]
    },
    {
      "cell_type": "markdown",
      "source": [
        "Πετυχαίνουμε ακρίβεια μέχρι και περίπου 58%. \n",
        "Για τις εποχές που το τρέχουμε δεν φαίνεται να εμφανίζεται overfitting όμως έχουμε αρκετές διακυμάνσεις."
      ],
      "metadata": {
        "id": "6IubS48QdE7i"
      }
    },
    {
      "cell_type": "markdown",
      "metadata": {
        "id": "G9yVQf3A4Smt"
      },
      "source": [
        "**2)**\n",
        "   \n",
        "   * epochs = 25\n",
        "   * batch size = 32\n",
        "   * optimizer = adagrad \n",
        "   * loss function = cross entropy \n",
        "\n",
        "\n",
        "*με softmax activation function στο τελευταίο layer*"
      ]
    },
    {
      "cell_type": "code",
      "execution_count": null,
      "metadata": {
        "id": "Y0YACgh4kg_K"
      },
      "outputs": [],
      "source": [
        "def vgg(conv_arch, softmax=None):\n",
        "    net = tf.keras.models.Sequential()\n",
        "    net.add(layers.experimental.preprocessing.Resizing(224, 224, interpolation=\"bicubic\", input_shape=x_train.shape[1:]))\n",
        "    # The convulational part\n",
        "    for (num_convs, num_channels) in conv_arch:\n",
        "        net.add(vgg_block(num_convs, num_channels))\n",
        "    # The fully-connected part\n",
        "    net.add(\n",
        "        tf.keras.models.Sequential([\n",
        "            tf.keras.layers.Flatten(),\n",
        "            tf.keras.layers.Dense(4096, activation='relu'),\n",
        "            tf.keras.layers.Dropout(0.5),\n",
        "            tf.keras.layers.Dense(4096, activation='relu'),\n",
        "            tf.keras.layers.Dropout(0.5),\n",
        "            tf.keras.layers.Dense(20, activation=softmax)]))\n",
        "    return net"
      ]
    },
    {
      "cell_type": "code",
      "execution_count": null,
      "metadata": {
        "id": "kSM3dAgk4SGO"
      },
      "outputs": [],
      "source": [
        "VGG_2 = vgg(conv_arch, softmax='softmax')"
      ]
    },
    {
      "cell_type": "code",
      "execution_count": null,
      "metadata": {
        "colab": {
          "base_uri": "https://localhost:8080/"
        },
        "id": "OTy6WYNV4lm4",
        "outputId": "6b1f4c77-adf6-483d-997c-5ebf72099a04"
      },
      "outputs": [
        {
          "output_type": "stream",
          "name": "stdout",
          "text": [
            "Model: \"sequential_15\"\n",
            "_________________________________________________________________\n",
            " Layer (type)                Output Shape              Param #   \n",
            "=================================================================\n",
            " resizing_6 (Resizing)       (None, 224, 224, 3)       0         \n",
            "                                                                 \n",
            " sequential_16 (Sequential)  (None, 112, 112, 64)      2048      \n",
            "                                                                 \n",
            " sequential_17 (Sequential)  (None, 56, 56, 128)       74368     \n",
            "                                                                 \n",
            " sequential_18 (Sequential)  (None, 28, 28, 256)       887296    \n",
            "                                                                 \n",
            " sequential_19 (Sequential)  (None, 14, 14, 512)       3544064   \n",
            "                                                                 \n",
            " sequential_20 (Sequential)  (None, 7, 7, 512)         4723712   \n",
            "                                                                 \n",
            " sequential_21 (Sequential)  (None, 20)                119627796 \n",
            "                                                                 \n",
            "=================================================================\n",
            "Total params: 128,859,284\n",
            "Trainable params: 128,853,780\n",
            "Non-trainable params: 5,504\n",
            "_________________________________________________________________\n"
          ]
        }
      ],
      "source": [
        "VGG_2.compile(optimizer='adagrad',\n",
        "              loss=tf.keras.losses.SparseCategoricalCrossentropy(from_logits=False),\n",
        "              metrics=['accuracy'])\n",
        "#summary\n",
        "VGG_2.summary() "
      ]
    },
    {
      "cell_type": "code",
      "execution_count": null,
      "metadata": {
        "colab": {
          "base_uri": "https://localhost:8080/"
        },
        "id": "3sNUOeHd4oGj",
        "outputId": "b1b117cd-01e6-4c29-fc17-d54eaed08d45"
      },
      "outputs": [
        {
          "output_type": "stream",
          "name": "stdout",
          "text": [
            "Epoch 1/25\n",
            "266/266 [==============================] - 90s 320ms/step - loss: 2.9221 - accuracy: 0.2642 - val_loss: 3.7093 - val_accuracy: 0.0800\n",
            "Epoch 2/25\n",
            "266/266 [==============================] - 75s 282ms/step - loss: 2.0983 - accuracy: 0.3986 - val_loss: 2.0120 - val_accuracy: 0.3747\n",
            "Epoch 3/25\n",
            "266/266 [==============================] - 75s 282ms/step - loss: 1.7519 - accuracy: 0.4765 - val_loss: 1.5176 - val_accuracy: 0.5387\n",
            "Epoch 4/25\n",
            "266/266 [==============================] - 75s 282ms/step - loss: 1.5477 - accuracy: 0.5388 - val_loss: 1.4346 - val_accuracy: 0.5533\n",
            "Epoch 5/25\n",
            "266/266 [==============================] - 75s 282ms/step - loss: 1.3984 - accuracy: 0.5707 - val_loss: 1.3942 - val_accuracy: 0.5700\n",
            "Epoch 6/25\n",
            "266/266 [==============================] - 75s 282ms/step - loss: 1.2472 - accuracy: 0.6186 - val_loss: 1.3349 - val_accuracy: 0.6000\n",
            "Epoch 7/25\n",
            "266/266 [==============================] - 75s 282ms/step - loss: 1.1288 - accuracy: 0.6452 - val_loss: 1.3111 - val_accuracy: 0.6087\n",
            "Epoch 8/25\n",
            "266/266 [==============================] - 75s 282ms/step - loss: 1.0180 - accuracy: 0.6826 - val_loss: 1.2758 - val_accuracy: 0.6080\n",
            "Epoch 9/25\n",
            "266/266 [==============================] - 75s 282ms/step - loss: 0.9295 - accuracy: 0.7053 - val_loss: 1.2503 - val_accuracy: 0.6213\n",
            "Epoch 10/25\n",
            "266/266 [==============================] - 75s 282ms/step - loss: 0.8164 - accuracy: 0.7456 - val_loss: 1.2537 - val_accuracy: 0.6213\n",
            "Epoch 11/25\n",
            "266/266 [==============================] - 75s 282ms/step - loss: 0.7247 - accuracy: 0.7716 - val_loss: 1.2367 - val_accuracy: 0.6367\n",
            "Epoch 12/25\n",
            "266/266 [==============================] - 75s 282ms/step - loss: 0.6631 - accuracy: 0.7961 - val_loss: 1.1919 - val_accuracy: 0.6440\n",
            "Epoch 13/25\n",
            "266/266 [==============================] - 75s 283ms/step - loss: 0.5815 - accuracy: 0.8208 - val_loss: 1.1787 - val_accuracy: 0.6500\n",
            "Epoch 14/25\n",
            "266/266 [==============================] - 75s 282ms/step - loss: 0.5080 - accuracy: 0.8418 - val_loss: 1.1953 - val_accuracy: 0.6473\n",
            "Epoch 15/25\n",
            "266/266 [==============================] - 75s 282ms/step - loss: 0.4698 - accuracy: 0.8529 - val_loss: 1.1936 - val_accuracy: 0.6527\n",
            "Epoch 16/25\n",
            "266/266 [==============================] - 75s 282ms/step - loss: 0.4137 - accuracy: 0.8760 - val_loss: 1.2046 - val_accuracy: 0.6447\n",
            "Epoch 17/25\n",
            "266/266 [==============================] - 75s 282ms/step - loss: 0.3616 - accuracy: 0.8891 - val_loss: 1.1942 - val_accuracy: 0.6553\n",
            "Epoch 18/25\n",
            "266/266 [==============================] - 75s 282ms/step - loss: 0.3200 - accuracy: 0.9031 - val_loss: 1.1698 - val_accuracy: 0.6633\n",
            "Epoch 19/25\n",
            "266/266 [==============================] - 75s 282ms/step - loss: 0.2782 - accuracy: 0.9181 - val_loss: 1.1748 - val_accuracy: 0.6587\n",
            "Epoch 20/25\n",
            "266/266 [==============================] - 75s 282ms/step - loss: 0.2337 - accuracy: 0.9385 - val_loss: 1.1818 - val_accuracy: 0.6653\n",
            "Epoch 21/25\n",
            "266/266 [==============================] - 75s 282ms/step - loss: 0.2213 - accuracy: 0.9401 - val_loss: 1.1796 - val_accuracy: 0.6667\n",
            "Epoch 22/25\n",
            "266/266 [==============================] - 75s 282ms/step - loss: 0.1923 - accuracy: 0.9507 - val_loss: 1.1840 - val_accuracy: 0.6700\n",
            "Epoch 23/25\n",
            "266/266 [==============================] - 75s 283ms/step - loss: 0.1724 - accuracy: 0.9541 - val_loss: 1.1710 - val_accuracy: 0.6687\n",
            "Epoch 24/25\n",
            "266/266 [==============================] - 75s 282ms/step - loss: 0.1531 - accuracy: 0.9608 - val_loss: 1.1546 - val_accuracy: 0.6747\n",
            "Epoch 25/25\n",
            "266/266 [==============================] - 75s 283ms/step - loss: 0.1356 - accuracy: 0.9649 - val_loss: 1.1844 - val_accuracy: 0.6720\n"
          ]
        }
      ],
      "source": [
        "history_VGG_2 = VGG_2.fit(x_train, y_train_1, epochs=25, batch_size=32,\n",
        "                    validation_data=(x_val, y_val_1))"
      ]
    },
    {
      "cell_type": "code",
      "execution_count": null,
      "metadata": {
        "colab": {
          "base_uri": "https://localhost:8080/",
          "height": 312
        },
        "id": "eg39Ipw62J-e",
        "outputId": "aeffc592-9483-4da3-9dec-e9837e00c924"
      },
      "outputs": [
        {
          "output_type": "display_data",
          "data": {
            "text/plain": [
              "<Figure size 1440x1440 with 1 Axes>"
            ],
            "image/png": "[encoded data removed]"
          },
          "metadata": {
            "needs_background": "light"
          }
        }
      ],
      "source": [
        "#Τα παραπάνω διαγραμματικά:\n",
        "plt.figure(figsize=(20, 20))\n",
        "_plot(history_VGG_2, 'VGG_2', 1, 'adam', '32', '25')"
      ]
    },
    {
      "cell_type": "markdown",
      "source": [
        "Παρατηρούμε ότι στην 2η περίπτωση έχουμε καλύτερα αποτελέσματα. Ακρίβεια μέχρι 67% περίπου. Επίσης δεν έχουμε τις έντονες διακυμάνσεις που είδαμε στο 1ο πείραμα.\n",
        "\n",
        "Αυτό γιατί:\n",
        "\n",
        "1) χρησιμοποιούμε μικρότερο batch size και επομένως επαναλαμβάνεται το back propagation περισσότερες φορές με αποτέλεσμα το CNN να συγκλίνει ικανοποιητικότερα. \n",
        "\n",
        "2) χρησιμοποιούμε optimizer τον adagrad που είναι βελτίωση (ειδική περίπτωση) του adam.\n",
        "\n",
        "Το overfitiing την 2η πείπτωση αρχίζει αρκετά νωρίς. Θα πρέπει το CNN να εκπαιδευτεί με λιγότερες εποχές (περίπου 10-15 εποχές).\n",
        "\n",
        "Το πλήθος των δεδομένων καταλαβαίνουμε ότι δεν είναι ικανοποιητικά μεγάλο. Με αυτά καταφέρνουμε και πετυχαίνουμε καλύτερο generalization (όπως προκύπτει από το evaluate στο test set) με χρήση του VGG. \n",
        "\n",
        "Στο 2ο πείραμα έχουμε μειώσει λίγο τις εποχές. Αν τις είχαμε μειώσει ακόμα περισσότερο (αντίστοιχη μείωση με την μείωση του batch size) και πάλι θα είχαμε καλύτερες επιδόσεις στο 2ο πείραμα."
      ],
      "metadata": {
        "id": "q7G6G_Xp12Bh"
      }
    },
    {
      "cell_type": "markdown",
      "metadata": {
        "id": "3FQ99Fc041Pt"
      },
      "source": [
        "<h1>MyCNN</h1>\n",
        "\n",
        "---\n",
        "\n",
        "\n"
      ]
    },
    {
      "cell_type": "markdown",
      "metadata": {
        "id": "O7PmxrDf47vG"
      },
      "source": [
        "Μέχρι τώρα είδαμε γίνεται overfitting οπότε κρίνουμε απαραίτητη την χρήση Dropout στα Dense Layers. Διαπιστώσαμε επίσης την υπεροχή της Relu και της Leaky Relu ως activation functions (θα δοκιμάσουμε και τις 2) και του VGG.\n",
        "Σχεδιάζουμε την αρχιτεκτονική του CNN μας με βάση τα παραπάνω. \n"
      ]
    },
    {
      "cell_type": "code",
      "execution_count": null,
      "metadata": {
        "id": "5x2SynK8b--O"
      },
      "outputs": [],
      "source": [
        "def vgg_block_new(num_convs, num_channels, _kernel_size):\n",
        "    blk = tf.keras.models.Sequential()\n",
        "    for _ in range(num_convs):\n",
        "        blk.add(\n",
        "            tf.keras.layers.Conv2D(num_channels, kernel_size= _kernel_size,\n",
        "                                   padding='same', activation='relu'))\n",
        "        blk.add(layers.BatchNormalization())\n",
        "    blk.add(tf.keras.layers.MaxPool2D(pool_size=2, strides=2))\n",
        "    return blk"
      ]
    },
    {
      "cell_type": "code",
      "execution_count": null,
      "metadata": {
        "id": "sfm80lui45ok"
      },
      "outputs": [],
      "source": [
        "def myCNN():\n",
        "  model = tf.keras.models.Sequential()\n",
        "  model.add(layers.experimental.preprocessing.Resizing(96, 96, interpolation=\"bicubic\", input_shape=x_train.shape[1:]))\n",
        "  model.add(layers.Conv2D(50, (9, 9), activation='relu', input_shape=(96, 96, 3)))\n",
        "  model.add(layers.MaxPooling2D((2, 2)))\n",
        "  model.add(layers.Conv2D(100, (7, 7), activation='relu'))\n",
        "  model.add(layers.MaxPooling2D((2, 2)))\n",
        "  model.add(vgg_block_new(2, 150,5))\n",
        "  model.add(vgg_block_new(3, 250, 3))\n",
        "\n",
        "  model.add(layers.Flatten())\n",
        "  model.add(layers.Dense(4096, activation='relu'))\n",
        "  model.add(layers.Dense(2048, activation='relu'))\n",
        "  model.add(layers.Dense(20, activation='softmax'))\n",
        "  return model"
      ]
    },
    {
      "cell_type": "markdown",
      "source": [
        "**1)**\n",
        "  \n",
        "  * epochs = 32\n",
        "  * batch size = 128 \n",
        "  * optimizer = adam \n",
        "  * loss function = cross entropy \n",
        "\n"
      ],
      "metadata": {
        "id": "9U6HExyj5cEj"
      }
    },
    {
      "cell_type": "code",
      "execution_count": null,
      "metadata": {
        "colab": {
          "base_uri": "https://localhost:8080/"
        },
        "id": "Wcxd4b5YcXnw",
        "outputId": "c0da6f32-1a43-4db1-c109-6815e375ab90"
      },
      "outputs": [
        {
          "output_type": "stream",
          "name": "stdout",
          "text": [
            "Model: \"sequential_22\"\n",
            "_________________________________________________________________\n",
            " Layer (type)                Output Shape              Param #   \n",
            "=================================================================\n",
            " resizing_7 (Resizing)       (None, 96, 96, 3)         0         \n",
            "                                                                 \n",
            " conv2d_47 (Conv2D)          (None, 88, 88, 50)        12200     \n",
            "                                                                 \n",
            " max_pooling2d_25 (MaxPoolin  (None, 44, 44, 50)       0         \n",
            " g2D)                                                            \n",
            "                                                                 \n",
            " conv2d_48 (Conv2D)          (None, 38, 38, 100)       245100    \n",
            "                                                                 \n",
            " max_pooling2d_26 (MaxPoolin  (None, 19, 19, 100)      0         \n",
            " g2D)                                                            \n",
            "                                                                 \n",
            " sequential_23 (Sequential)  (None, 9, 9, 150)         939000    \n",
            "                                                                 \n",
            " sequential_24 (Sequential)  (None, 4, 4, 250)         1466250   \n",
            "                                                                 \n",
            " flatten_10 (Flatten)        (None, 4000)              0         \n",
            "                                                                 \n",
            " dense_30 (Dense)            (None, 4096)              16388096  \n",
            "                                                                 \n",
            " dense_31 (Dense)            (None, 2048)              8390656   \n",
            "                                                                 \n",
            " dense_32 (Dense)            (None, 20)                40980     \n",
            "                                                                 \n",
            "=================================================================\n",
            "Total params: 27,482,282\n",
            "Trainable params: 27,480,182\n",
            "Non-trainable params: 2,100\n",
            "_________________________________________________________________\n"
          ]
        }
      ],
      "source": [
        "myCNN_1 = myCNN()\n",
        "myCNN_1.compile(optimizer='adam',\n",
        "              loss=tf.keras.losses.SparseCategoricalCrossentropy(from_logits=False),\n",
        "              metrics=['accuracy'])\n",
        "#summary\n",
        "myCNN_1.summary()"
      ]
    },
    {
      "cell_type": "code",
      "execution_count": null,
      "metadata": {
        "colab": {
          "base_uri": "https://localhost:8080/"
        },
        "id": "gG7cNEzkci2T",
        "outputId": "478c00e8-2053-4671-dfa0-4c62dbd325df"
      },
      "outputs": [
        {
          "output_type": "stream",
          "name": "stdout",
          "text": [
            "Epoch 1/32\n",
            "67/67 [==============================] - 18s 198ms/step - loss: 4.2294 - accuracy: 0.2022 - val_loss: 6.5827 - val_accuracy: 0.1220\n",
            "Epoch 2/32\n",
            "67/67 [==============================] - 9s 139ms/step - loss: 2.1851 - accuracy: 0.3280 - val_loss: 2.9572 - val_accuracy: 0.1793\n",
            "Epoch 3/32\n",
            "67/67 [==============================] - 9s 141ms/step - loss: 2.0107 - accuracy: 0.3799 - val_loss: 2.4022 - val_accuracy: 0.2820\n",
            "Epoch 4/32\n",
            "67/67 [==============================] - 9s 141ms/step - loss: 1.8064 - accuracy: 0.4421 - val_loss: 2.3627 - val_accuracy: 0.3093\n",
            "Epoch 5/32\n",
            "67/67 [==============================] - 9s 142ms/step - loss: 1.6119 - accuracy: 0.5025 - val_loss: 2.2286 - val_accuracy: 0.3667\n",
            "Epoch 6/32\n",
            "67/67 [==============================] - 9s 141ms/step - loss: 1.4503 - accuracy: 0.5438 - val_loss: 2.3647 - val_accuracy: 0.3920\n",
            "Epoch 7/32\n",
            "67/67 [==============================] - 9s 141ms/step - loss: 1.2391 - accuracy: 0.6080 - val_loss: 1.9260 - val_accuracy: 0.4647\n",
            "Epoch 8/32\n",
            "67/67 [==============================] - 9s 141ms/step - loss: 1.0343 - accuracy: 0.6721 - val_loss: 2.2403 - val_accuracy: 0.4627\n",
            "Epoch 9/32\n",
            "67/67 [==============================] - 10s 143ms/step - loss: 0.8212 - accuracy: 0.7313 - val_loss: 1.9718 - val_accuracy: 0.5080\n",
            "Epoch 10/32\n",
            "67/67 [==============================] - 10s 144ms/step - loss: 0.6110 - accuracy: 0.8019 - val_loss: 2.4037 - val_accuracy: 0.4813\n",
            "Epoch 11/32\n",
            "67/67 [==============================] - 10s 145ms/step - loss: 0.4350 - accuracy: 0.8574 - val_loss: 2.3211 - val_accuracy: 0.4873\n",
            "Epoch 12/32\n",
            "67/67 [==============================] - 10s 148ms/step - loss: 0.2956 - accuracy: 0.9045 - val_loss: 2.4426 - val_accuracy: 0.5353\n",
            "Epoch 13/32\n",
            "67/67 [==============================] - 10s 146ms/step - loss: 0.1999 - accuracy: 0.9365 - val_loss: 2.3143 - val_accuracy: 0.5307\n",
            "Epoch 14/32\n",
            "67/67 [==============================] - 10s 145ms/step - loss: 0.2066 - accuracy: 0.9356 - val_loss: 2.9247 - val_accuracy: 0.4853\n",
            "Epoch 15/32\n",
            "67/67 [==============================] - 10s 145ms/step - loss: 0.1866 - accuracy: 0.9421 - val_loss: 3.4846 - val_accuracy: 0.4733\n",
            "Epoch 16/32\n",
            "67/67 [==============================] - 10s 144ms/step - loss: 0.1551 - accuracy: 0.9493 - val_loss: 2.9391 - val_accuracy: 0.5340\n",
            "Epoch 17/32\n",
            "67/67 [==============================] - 10s 144ms/step - loss: 0.1139 - accuracy: 0.9654 - val_loss: 2.9317 - val_accuracy: 0.5273\n",
            "Epoch 18/32\n",
            "67/67 [==============================] - 10s 145ms/step - loss: 0.0852 - accuracy: 0.9733 - val_loss: 2.7985 - val_accuracy: 0.5200\n",
            "Epoch 19/32\n",
            "67/67 [==============================] - 10s 146ms/step - loss: 0.0936 - accuracy: 0.9713 - val_loss: 2.8355 - val_accuracy: 0.5467\n",
            "Epoch 20/32\n",
            "67/67 [==============================] - 10s 147ms/step - loss: 0.0788 - accuracy: 0.9776 - val_loss: 3.0242 - val_accuracy: 0.5140\n",
            "Epoch 21/32\n",
            "67/67 [==============================] - 10s 146ms/step - loss: 0.0970 - accuracy: 0.9713 - val_loss: 3.1717 - val_accuracy: 0.5253\n",
            "Epoch 22/32\n",
            "67/67 [==============================] - 10s 146ms/step - loss: 0.1257 - accuracy: 0.9602 - val_loss: 3.1093 - val_accuracy: 0.5393\n",
            "Epoch 23/32\n",
            "67/67 [==============================] - 10s 146ms/step - loss: 0.1016 - accuracy: 0.9675 - val_loss: 3.0899 - val_accuracy: 0.5253\n",
            "Epoch 24/32\n",
            "67/67 [==============================] - 10s 146ms/step - loss: 0.1097 - accuracy: 0.9660 - val_loss: 3.0907 - val_accuracy: 0.5153\n",
            "Epoch 25/32\n",
            "67/67 [==============================] - 10s 146ms/step - loss: 0.0689 - accuracy: 0.9789 - val_loss: 3.2732 - val_accuracy: 0.5307\n",
            "Epoch 26/32\n",
            "67/67 [==============================] - 10s 146ms/step - loss: 0.0649 - accuracy: 0.9809 - val_loss: 3.2416 - val_accuracy: 0.5073\n",
            "Epoch 27/32\n",
            "67/67 [==============================] - 10s 145ms/step - loss: 0.0901 - accuracy: 0.9706 - val_loss: 3.1318 - val_accuracy: 0.5407\n",
            "Epoch 28/32\n",
            "67/67 [==============================] - 10s 146ms/step - loss: 0.1038 - accuracy: 0.9676 - val_loss: 3.1525 - val_accuracy: 0.5207\n",
            "Epoch 29/32\n",
            "67/67 [==============================] - 10s 146ms/step - loss: 0.1125 - accuracy: 0.9665 - val_loss: 3.4949 - val_accuracy: 0.5180\n",
            "Epoch 30/32\n",
            "67/67 [==============================] - 10s 147ms/step - loss: 0.0963 - accuracy: 0.9706 - val_loss: 3.1862 - val_accuracy: 0.5400\n",
            "Epoch 31/32\n",
            "67/67 [==============================] - 10s 146ms/step - loss: 0.0634 - accuracy: 0.9798 - val_loss: 3.6289 - val_accuracy: 0.5107\n",
            "Epoch 32/32\n",
            "67/67 [==============================] - 10s 146ms/step - loss: 0.0490 - accuracy: 0.9856 - val_loss: 3.8513 - val_accuracy: 0.5147\n"
          ]
        }
      ],
      "source": [
        "history_myCNN_1 = myCNN_1.fit(x_train, y_train_1, epochs=32, batch_size=128,\n",
        "                    validation_data=(x_val, y_val_1))"
      ]
    },
    {
      "cell_type": "code",
      "execution_count": null,
      "metadata": {
        "colab": {
          "base_uri": "https://localhost:8080/",
          "height": 312
        },
        "id": "6HvCpwscs7tW",
        "outputId": "1e4b6ef0-9eed-4e88-a099-b74bd6ce657d"
      },
      "outputs": [
        {
          "output_type": "display_data",
          "data": {
            "text/plain": [
              "<Figure size 1440x1440 with 1 Axes>"
            ],
            "image/png": "[encoded data removed]"
          },
          "metadata": {
            "needs_background": "light"
          }
        }
      ],
      "source": [
        "#Τα παραπάνω διαγραμματικά:\n",
        "plt.figure(figsize=(20, 20))\n",
        "_plot(history_myCNN_1, 'myCNN_1', 1, 'adam', '128', '32')"
      ]
    },
    {
      "cell_type": "markdown",
      "source": [
        "Παρατηρούμε ότι έχουμε πρόβλημα overfitting. Πετυχαίνουμε ακρίβεια σχεδόν 50%. \n",
        "\n",
        "Ας δοκιμάσουμε να αλλάξουμε λίγο την αρχιτεκτονική που χρησιμοποιούμε."
      ],
      "metadata": {
        "id": "AwsX0mn_XQNi"
      }
    },
    {
      "cell_type": "markdown",
      "source": [
        "**2)** \n",
        "\n",
        "**2_1**\n",
        "Δεν αλλάζουμε το batch size και το πλήθος των εποχών για να μπορούμε να συγκρίνουμε σωστότερα την νέα αρχιτεκτονική με την προηγούμενη.\n",
        "\n",
        "* epochs = 32\n",
        "* batch size = 128\n",
        "* optimizer = adagrad\n",
        "* loss function = cross entropy\n"
      ],
      "metadata": {
        "id": "Vjy3cLmr5tIn"
      }
    },
    {
      "cell_type": "code",
      "execution_count": null,
      "metadata": {
        "id": "EjijphK4-CWD"
      },
      "outputs": [],
      "source": [
        "def vgg_block_new(num_convs, num_channels, _kernel_size):\n",
        "    blk = tf.keras.models.Sequential()\n",
        "    for _ in range(num_convs):\n",
        "        blk.add(\n",
        "            tf.keras.layers.Conv2D(num_channels, kernel_size= _kernel_size,\n",
        "                                   padding='same'))\n",
        "        blk.add(layers.LeakyReLU(alpha=0.15))\n",
        "        blk.add(layers.BatchNormalization())\n",
        "    blk.add(tf.keras.layers.MaxPool2D(pool_size=2, strides=2))\n",
        "    return blk"
      ]
    },
    {
      "cell_type": "code",
      "execution_count": null,
      "metadata": {
        "id": "TB6U19Nv4Gi2"
      },
      "outputs": [],
      "source": [
        "def myCNN_LeakyReLU():  #USE LEAKY RELU!!\n",
        "  model = tf.keras.models.Sequential()\n",
        "  model.add(layers.experimental.preprocessing.Resizing(96, 96, interpolation=\"bicubic\", input_shape=x_train.shape[1:]))\n",
        "  model.add(layers.Conv2D(50, (9, 9), input_shape=(96, 96, 3)))\n",
        "  model.add(layers.LeakyReLU(alpha=0.15))    \n",
        "  model.add(layers.MaxPooling2D((2, 2)))\n",
        "  model.add(layers.Conv2D(100, (7, 7)))\n",
        "  model.add(layers.LeakyReLU(alpha=0.15))    \n",
        "  model.add(layers.MaxPooling2D((2, 2)))\n",
        "  model.add(vgg_block_new(2, 150,5))\n",
        "  model.add(vgg_block_new(3, 250, 3))\n",
        "\n",
        "  model.add(layers.Flatten())\n",
        "  model.add(layers.Dense(4096))\n",
        "  model.add(layers.LeakyReLU(alpha=0.15))    \n",
        "  model.add(layers.Dense(2048))\n",
        "  model.add(layers.Dense(20, activation='softmax'))\n",
        "  return model"
      ]
    },
    {
      "cell_type": "code",
      "execution_count": null,
      "metadata": {
        "colab": {
          "base_uri": "https://localhost:8080/"
        },
        "id": "3QUf1FUu3jCE",
        "outputId": "dbdeff4b-e0c3-4b12-ba25-ef66cb312e8c"
      },
      "outputs": [
        {
          "output_type": "stream",
          "name": "stdout",
          "text": [
            "Model: \"sequential_1\"\n",
            "_________________________________________________________________\n",
            " Layer (type)                Output Shape              Param #   \n",
            "=================================================================\n",
            " resizing_1 (Resizing)       (None, 96, 96, 3)         0         \n",
            "                                                                 \n",
            " conv2d_2 (Conv2D)           (None, 88, 88, 50)        12200     \n",
            "                                                                 \n",
            " leaky_re_lu_2 (LeakyReLU)   (None, 88, 88, 50)        0         \n",
            "                                                                 \n",
            " max_pooling2d_2 (MaxPooling  (None, 44, 44, 50)       0         \n",
            " 2D)                                                             \n",
            "                                                                 \n",
            " conv2d_3 (Conv2D)           (None, 38, 38, 100)       245100    \n",
            "                                                                 \n",
            " leaky_re_lu_3 (LeakyReLU)   (None, 38, 38, 100)       0         \n",
            "                                                                 \n",
            " max_pooling2d_3 (MaxPooling  (None, 19, 19, 100)      0         \n",
            " 2D)                                                             \n",
            "                                                                 \n",
            " sequential_2 (Sequential)   (None, 9, 9, 150)         939000    \n",
            "                                                                 \n",
            " sequential_3 (Sequential)   (None, 4, 4, 250)         1466250   \n",
            "                                                                 \n",
            " flatten (Flatten)           (None, 4000)              0         \n",
            "                                                                 \n",
            " dense (Dense)               (None, 4096)              16388096  \n",
            "                                                                 \n",
            " leaky_re_lu_9 (LeakyReLU)   (None, 4096)              0         \n",
            "                                                                 \n",
            " dense_1 (Dense)             (None, 2048)              8390656   \n",
            "                                                                 \n",
            " dense_2 (Dense)             (None, 20)                40980     \n",
            "                                                                 \n",
            "=================================================================\n",
            "Total params: 27,482,282\n",
            "Trainable params: 27,480,182\n",
            "Non-trainable params: 2,100\n",
            "_________________________________________________________________\n"
          ]
        }
      ],
      "source": [
        "myCNN_2 = myCNN_LeakyReLU()\n",
        "myCNN_2.compile(optimizer='adagrad',\n",
        "              loss=tf.keras.losses.SparseCategoricalCrossentropy(from_logits=False),\n",
        "              metrics=['accuracy'])\n",
        "#summary\n",
        "myCNN_2.summary()"
      ]
    },
    {
      "cell_type": "code",
      "source": [
        "history_myCNN_2 = myCNN_2.fit(x_train, y_train_1, epochs=32, batch_size=128,\n",
        "                    validation_data=(x_val, y_val_1))"
      ],
      "metadata": {
        "colab": {
          "base_uri": "https://localhost:8080/"
        },
        "id": "_X5EVP8mccO6",
        "outputId": "716eb49f-0618-4ccd-9db8-33b108eb2a36"
      },
      "execution_count": null,
      "outputs": [
        {
          "output_type": "stream",
          "name": "stdout",
          "text": [
            "Epoch 1/32\n",
            "67/67 [==============================] - 11s 158ms/step - loss: 2.4564 - accuracy: 0.3065 - val_loss: 3.0083 - val_accuracy: 0.0607\n",
            "Epoch 2/32\n",
            "67/67 [==============================] - 10s 144ms/step - loss: 1.7440 - accuracy: 0.4736 - val_loss: 3.1903 - val_accuracy: 0.0633\n",
            "Epoch 3/32\n",
            "67/67 [==============================] - 10s 147ms/step - loss: 1.4386 - accuracy: 0.5642 - val_loss: 3.3374 - val_accuracy: 0.0860\n",
            "Epoch 4/32\n",
            "67/67 [==============================] - 10s 146ms/step - loss: 1.2128 - accuracy: 0.6319 - val_loss: 3.4161 - val_accuracy: 0.1020\n",
            "Epoch 5/32\n",
            "67/67 [==============================] - 10s 146ms/step - loss: 1.0250 - accuracy: 0.6968 - val_loss: 3.3117 - val_accuracy: 0.1273\n",
            "Epoch 6/32\n",
            "67/67 [==============================] - 10s 147ms/step - loss: 0.8645 - accuracy: 0.7468 - val_loss: 3.1268 - val_accuracy: 0.1493\n",
            "Epoch 7/32\n",
            "67/67 [==============================] - 10s 148ms/step - loss: 0.7370 - accuracy: 0.7961 - val_loss: 2.6742 - val_accuracy: 0.2507\n",
            "Epoch 8/32\n",
            "67/67 [==============================] - 10s 148ms/step - loss: 0.6083 - accuracy: 0.8468 - val_loss: 2.3070 - val_accuracy: 0.3167\n",
            "Epoch 9/32\n",
            "67/67 [==============================] - 10s 148ms/step - loss: 0.5106 - accuracy: 0.8848 - val_loss: 1.9040 - val_accuracy: 0.4247\n",
            "Epoch 10/32\n",
            "67/67 [==============================] - 10s 148ms/step - loss: 0.4194 - accuracy: 0.9199 - val_loss: 1.9716 - val_accuracy: 0.4207\n",
            "Epoch 11/32\n",
            "67/67 [==============================] - 10s 148ms/step - loss: 0.3521 - accuracy: 0.9384 - val_loss: 1.6824 - val_accuracy: 0.5047\n",
            "Epoch 12/32\n",
            "67/67 [==============================] - 10s 150ms/step - loss: 0.2863 - accuracy: 0.9625 - val_loss: 1.5439 - val_accuracy: 0.5447\n",
            "Epoch 13/32\n",
            "67/67 [==============================] - 10s 151ms/step - loss: 0.2382 - accuracy: 0.9764 - val_loss: 2.2358 - val_accuracy: 0.4240\n",
            "Epoch 14/32\n",
            "67/67 [==============================] - 10s 150ms/step - loss: 0.2016 - accuracy: 0.9809 - val_loss: 1.4759 - val_accuracy: 0.5660\n",
            "Epoch 15/32\n",
            "67/67 [==============================] - 10s 151ms/step - loss: 0.1656 - accuracy: 0.9869 - val_loss: 1.4456 - val_accuracy: 0.5780\n",
            "Epoch 16/32\n",
            "67/67 [==============================] - 10s 151ms/step - loss: 0.1399 - accuracy: 0.9929 - val_loss: 1.4801 - val_accuracy: 0.5780\n",
            "Epoch 17/32\n",
            "67/67 [==============================] - 10s 150ms/step - loss: 0.1191 - accuracy: 0.9961 - val_loss: 1.4638 - val_accuracy: 0.5867\n",
            "Epoch 18/32\n",
            "67/67 [==============================] - 10s 150ms/step - loss: 0.1041 - accuracy: 0.9966 - val_loss: 2.0413 - val_accuracy: 0.5007\n",
            "Epoch 19/32\n",
            "67/67 [==============================] - 10s 150ms/step - loss: 0.0904 - accuracy: 0.9976 - val_loss: 1.4432 - val_accuracy: 0.5973\n",
            "Epoch 20/32\n",
            "67/67 [==============================] - 10s 150ms/step - loss: 0.0775 - accuracy: 0.9987 - val_loss: 1.5780 - val_accuracy: 0.5727\n",
            "Epoch 21/32\n",
            "67/67 [==============================] - 10s 151ms/step - loss: 0.0696 - accuracy: 0.9995 - val_loss: 1.5882 - val_accuracy: 0.5613\n",
            "Epoch 22/32\n",
            "67/67 [==============================] - 10s 150ms/step - loss: 0.0622 - accuracy: 1.0000 - val_loss: 1.4561 - val_accuracy: 0.5820\n",
            "Epoch 23/32\n",
            "67/67 [==============================] - 10s 151ms/step - loss: 0.0552 - accuracy: 0.9998 - val_loss: 1.6410 - val_accuracy: 0.5593\n",
            "Epoch 24/32\n",
            "67/67 [==============================] - 10s 151ms/step - loss: 0.0504 - accuracy: 0.9998 - val_loss: 1.4964 - val_accuracy: 0.5793\n",
            "Epoch 25/32\n",
            "67/67 [==============================] - 10s 151ms/step - loss: 0.0461 - accuracy: 1.0000 - val_loss: 1.4542 - val_accuracy: 0.5960\n",
            "Epoch 26/32\n",
            "67/67 [==============================] - 10s 151ms/step - loss: 0.0417 - accuracy: 1.0000 - val_loss: 1.4878 - val_accuracy: 0.5873\n",
            "Epoch 27/32\n",
            "67/67 [==============================] - 10s 151ms/step - loss: 0.0391 - accuracy: 1.0000 - val_loss: 1.4645 - val_accuracy: 0.5933\n",
            "Epoch 28/32\n",
            "67/67 [==============================] - 10s 151ms/step - loss: 0.0357 - accuracy: 0.9999 - val_loss: 1.4968 - val_accuracy: 0.5867\n",
            "Epoch 29/32\n",
            "67/67 [==============================] - 10s 151ms/step - loss: 0.0328 - accuracy: 1.0000 - val_loss: 1.5129 - val_accuracy: 0.5840\n",
            "Epoch 30/32\n",
            "67/67 [==============================] - 10s 151ms/step - loss: 0.0309 - accuracy: 0.9999 - val_loss: 1.4942 - val_accuracy: 0.5947\n",
            "Epoch 31/32\n",
            "67/67 [==============================] - 10s 151ms/step - loss: 0.0291 - accuracy: 1.0000 - val_loss: 1.4836 - val_accuracy: 0.5907\n",
            "Epoch 32/32\n",
            "67/67 [==============================] - 10s 151ms/step - loss: 0.0274 - accuracy: 1.0000 - val_loss: 1.5408 - val_accuracy: 0.5913\n"
          ]
        }
      ]
    },
    {
      "cell_type": "code",
      "source": [
        "#Τα παραπάνω διαγραμματικά:\n",
        "plt.figure(figsize=(20, 20))\n",
        "_plot(history_myCNN_2, 'myCNN_2', 1, 'adagrad', '128', '32')"
      ],
      "metadata": {
        "colab": {
          "base_uri": "https://localhost:8080/",
          "height": 312
        },
        "id": "QsFa-4E6ebTq",
        "outputId": "03273994-0301-4998-81c7-84cc76fac8f3"
      },
      "execution_count": null,
      "outputs": [
        {
          "output_type": "display_data",
          "data": {
            "text/plain": [
              "<Figure size 1440x1440 with 1 Axes>"
            ],
            "image/png": "[encoded data removed]"
          },
          "metadata": {
            "needs_background": "light"
          }
        }
      ]
    },
    {
      "cell_type": "markdown",
      "source": [
        "Δοκιμάζουμε και με μικρότερο batch size."
      ],
      "metadata": {
        "id": "pEhcOymqhEG8"
      }
    },
    {
      "cell_type": "code",
      "execution_count": null,
      "metadata": {
        "colab": {
          "base_uri": "https://localhost:8080/"
        },
        "id": "5PBon7173pmV",
        "outputId": "b3d644ba-1537-4b54-f7dd-856ac1867e69"
      },
      "outputs": [
        {
          "output_type": "stream",
          "name": "stdout",
          "text": [
            "Epoch 1/16\n",
            "133/133 [==============================] - 12s 81ms/step - loss: 2.5074 - accuracy: 0.3100 - val_loss: 3.0557 - val_accuracy: 0.0607\n",
            "Epoch 2/16\n",
            "133/133 [==============================] - 11s 80ms/step - loss: 1.6963 - accuracy: 0.4889 - val_loss: 3.2116 - val_accuracy: 0.0920\n",
            "Epoch 3/16\n",
            "133/133 [==============================] - 11s 80ms/step - loss: 1.3312 - accuracy: 0.5938 - val_loss: 3.1498 - val_accuracy: 0.1007\n",
            "Epoch 4/16\n",
            "133/133 [==============================] - 11s 81ms/step - loss: 1.0757 - accuracy: 0.6707 - val_loss: 2.2433 - val_accuracy: 0.3193\n",
            "Epoch 5/16\n",
            "133/133 [==============================] - 11s 81ms/step - loss: 0.8618 - accuracy: 0.7474 - val_loss: 1.6766 - val_accuracy: 0.5007\n",
            "Epoch 6/16\n",
            "133/133 [==============================] - 11s 82ms/step - loss: 0.6750 - accuracy: 0.8165 - val_loss: 1.5321 - val_accuracy: 0.5400\n",
            "Epoch 7/16\n",
            "133/133 [==============================] - 11s 82ms/step - loss: 0.5281 - accuracy: 0.8701 - val_loss: 1.5279 - val_accuracy: 0.5393\n",
            "Epoch 8/16\n",
            "133/133 [==============================] - 11s 82ms/step - loss: 0.4176 - accuracy: 0.9096 - val_loss: 1.4713 - val_accuracy: 0.5753\n",
            "Epoch 9/16\n",
            "133/133 [==============================] - 11s 84ms/step - loss: 0.3154 - accuracy: 0.9462 - val_loss: 1.4457 - val_accuracy: 0.5813\n",
            "Epoch 10/16\n",
            "133/133 [==============================] - 11s 82ms/step - loss: 0.2435 - accuracy: 0.9673 - val_loss: 1.4465 - val_accuracy: 0.5707\n",
            "Epoch 11/16\n",
            "133/133 [==============================] - 11s 82ms/step - loss: 0.1874 - accuracy: 0.9816 - val_loss: 1.4638 - val_accuracy: 0.5720\n",
            "Epoch 12/16\n",
            "133/133 [==============================] - 11s 83ms/step - loss: 0.1454 - accuracy: 0.9894 - val_loss: 1.4293 - val_accuracy: 0.5853\n",
            "Epoch 13/16\n",
            "133/133 [==============================] - 11s 83ms/step - loss: 0.1150 - accuracy: 0.9953 - val_loss: 1.4432 - val_accuracy: 0.5960\n",
            "Epoch 14/16\n",
            "133/133 [==============================] - 11s 83ms/step - loss: 0.0942 - accuracy: 0.9964 - val_loss: 1.5780 - val_accuracy: 0.5793\n",
            "Epoch 15/16\n",
            "133/133 [==============================] - 11s 83ms/step - loss: 0.0741 - accuracy: 0.9984 - val_loss: 1.4461 - val_accuracy: 0.6047\n",
            "Epoch 16/16\n",
            "133/133 [==============================] - 11s 83ms/step - loss: 0.0638 - accuracy: 0.9992 - val_loss: 1.4516 - val_accuracy: 0.5967\n"
          ]
        }
      ],
      "source": [
        "myCNN_2_2 = myCNN_LeakyReLU()\n",
        "myCNN_2_2.compile(optimizer='adagrad',\n",
        "              loss=tf.keras.losses.SparseCategoricalCrossentropy(from_logits=False),\n",
        "              metrics=['accuracy'])\n",
        "\n",
        "history_myCNN_2_2 = myCNN_2_2.fit(x_train, y_train_1, epochs=16, batch_size=64,\n",
        "                    validation_data=(x_val, y_val_1))"
      ]
    },
    {
      "cell_type": "code",
      "execution_count": null,
      "metadata": {
        "colab": {
          "base_uri": "https://localhost:8080/",
          "height": 312
        },
        "id": "fDNR2HqU3xgE",
        "outputId": "a8fc04a9-47d8-4385-b857-dea8b1ee2218"
      },
      "outputs": [
        {
          "output_type": "display_data",
          "data": {
            "text/plain": [
              "<Figure size 1440x1440 with 1 Axes>"
            ],
            "image/png": "[encoded data removed]"
          },
          "metadata": {
            "needs_background": "light"
          }
        }
      ],
      "source": [
        "#Τα παραπάνω διαγραμματικά:\n",
        "plt.figure(figsize=(20, 20))\n",
        "_plot(history_myCNN_2_2, 'myCNN_2', 1, 'adagrad', '64', '16')"
      ]
    },
    {
      "cell_type": "markdown",
      "source": [
        "Με το μικρότερο batch size για λόγους που έχουν προαναφερθεί (backpropagation) πετυχαίνουμε ακρίβεια περίπου μέχρι 62% ενώ πριν έφτανε μέχρι 59% περίπου. Δεν εμφανίζονται οι διακυμάσεις που είδαμε στο προηγούμενο πείραμα. Προφανώς το overfitting δεν αντιμετωπίζεται και εδώ ξεκινάει και λίγο νωρίτερα. "
      ],
      "metadata": {
        "id": "TLJMYieFh7qw"
      }
    },
    {
      "cell_type": "markdown",
      "source": [
        "Με την χρήση:\n",
        "\n",
        "1) του adagrad optimizer αντί για του adam \n",
        "\n",
        "2)της Leaky Relu και όχι της Relu ως activation function\n",
        "\n",
        "όπως θα περιμέναμε πετυχαίνουμε σαφώς καλύτερα αποτελέσματα (συγκρίνουμε το 1ο πείραμα της 2ης αρχιτεκτονικής με εκείνο της 1ης αρχιτεκτονικής). \n",
        "\n",
        "Για αυτό και θα χρησιμοποιήσουμε αυτή στην συνέχεια."
      ],
      "metadata": {
        "id": "D-BaxkMx5L1k"
      }
    },
    {
      "cell_type": "markdown",
      "metadata": {
        "id": "v8rhgSGOV5pm"
      },
      "source": [
        "\n",
        "## Ερώτημα 2\n",
        "---\n",
        "### Βήμα 1: Έλεγχος υπερεκπαίδευσης\n",
        "\n",
        "Για τον καλύτερο συνδυασμό που λάβατε από το Ερώτημα 1 για μοντέλο σας  (**MyCNN**) και μόνο, δοκιμάστε διάφορους συνδυασμούς των ακόλουθων τεχνικών για τον έλεγχο της υπερεκπαίδευσης (overfitting), όπως: \n",
        "- Πρόωρος τερματισμός (early stopping [tf.keras.callbacks.EarlyStopping](https://www.tensorflow.org/api_docs/python/tf/keras/callbacks/EarlyStoppinghttps://)) \n",
        "\n",
        "- Dropout ([Dropout](https://www.tensorflow.org/tutorials/images/classification#dropout))\n",
        "\n",
        "- Επαύξηση δεδομένων ([Data augmentation](https://www.tensorflow.org/tutorials/images/classification#data_augmentation), [ImageDataGenerator](https://www.tensorflow.org/api_docs/python/tf/keras/preprocessing/image/ImageDataGenerator#class_imagedatagenerator)) \n",
        "\n",
        "\\\\\n",
        ", ώστε το μοντέλο σας να γενικεύει καλύτερα.\n",
        "\n",
        "---\n",
        "### Βήμα 2: Αξιολόγηση\n",
        "Αξιολογήστε της ορθότητας για το validation και το test set σας."
      ]
    },
    {
      "cell_type": "markdown",
      "source": [
        "**1) DROPOUT :**\n",
        "\n",
        "---\n",
        "\n"
      ],
      "metadata": {
        "id": "6mnE6LwGqYIV"
      }
    },
    {
      "cell_type": "code",
      "execution_count": null,
      "metadata": {
        "colab": {
          "base_uri": "https://localhost:8080/"
        },
        "id": "Qeklrkehk1n7",
        "outputId": "e344df0e-6f6c-4fa7-9f3b-67edb2a6d5ff"
      },
      "outputs": [
        {
          "output_type": "execute_result",
          "data": {
            "text/plain": [
              "<keras.callbacks.EarlyStopping at 0x7fcc320bcc50>"
            ]
          },
          "metadata": {},
          "execution_count": 23
        }
      ],
      "source": [
        "tf.keras.callbacks.EarlyStopping(\n",
        "    monitor=\"val_loss\",\n",
        "    min_delta=0,\n",
        "    patience=0,\n",
        "    verbose=0,\n",
        "    mode=\"auto\",\n",
        "    baseline=None,\n",
        "    restore_best_weights=False,\n",
        ")"
      ]
    },
    {
      "cell_type": "code",
      "execution_count": null,
      "metadata": {
        "id": "PCfbQsw6r0xH"
      },
      "outputs": [],
      "source": [
        "# Όσες περισσότερες παραμέτρους έχουμε σε ένα layer τόσο πιο εύκολα γίνεται overfit εκεί. \n",
        "# Για αυτό θα μειώσουμε αποτελεσματικότερα το overfit αν αντί για σταθερό p στο dropout το προσαρμόσουμε ώστε να είναι μεγαλύτερο στα layers με προσσότερες παραμέτρους.\n",
        " \n",
        " def myCNN_dropout():\n",
        "  model = tf.keras.models.Sequential()\n",
        "  model.add(layers.experimental.preprocessing.Resizing(224, 224, interpolation=\"bicubic\", input_shape=x_train.shape[1:]))\n",
        "  model.add(layers.Conv2D(50, (9, 9), input_shape=(224, 224, 3)))\n",
        "  model.add(layers.LeakyReLU(alpha=0.15))    \n",
        "  model.add(layers.MaxPooling2D((2, 2)))\n",
        "  model.add(layers.Dropout(0.1))\n",
        "  model.add(layers.Conv2D(100, (7, 7)))\n",
        "  model.add(layers.Dropout(0.1))\n",
        "  model.add(layers.LeakyReLU(alpha=0.15))    \n",
        "  model.add(layers.MaxPooling2D((2, 2)))\n",
        "  model.add(vgg_block_new(2, 150, 5))\n",
        "  model.add(layers.Dropout(0.1))\n",
        "  model.add(vgg_block_new(3, 250, 3))\n",
        "  model.add(layers.Dropout(0.2))\n",
        "\n",
        "  model.add(layers.Flatten())\n",
        "  model.add(layers.Dense(4096))\n",
        "  model.add(layers.Dropout(0.2))\n",
        "  model.add(layers.LeakyReLU(alpha=0.15))    \n",
        "  model.add(layers.Dense(4096))\n",
        "  model.add(layers.Dropout(0.2))\n",
        "  model.add(layers.LeakyReLU(alpha=0.15))    \n",
        "  model.add(layers.Dense(20, activation='softmax'))\n",
        "  return model\n"
      ]
    },
    {
      "cell_type": "code",
      "execution_count": null,
      "metadata": {
        "colab": {
          "base_uri": "https://localhost:8080/"
        },
        "id": "3oXJDOB0uFMw",
        "outputId": "d4441d3e-6165-4ea3-9f7a-8aabba05c970"
      },
      "outputs": [
        {
          "output_type": "stream",
          "name": "stdout",
          "text": [
            "Model: \"sequential_18\"\n",
            "_________________________________________________________________\n",
            " Layer (type)                Output Shape              Param #   \n",
            "=================================================================\n",
            " resizing_8 (Resizing)       (None, 224, 224, 3)       0         \n",
            "                                                                 \n",
            " conv2d_37 (Conv2D)          (None, 216, 216, 50)      12200     \n",
            "                                                                 \n",
            " leaky_re_lu_50 (LeakyReLU)  (None, 216, 216, 50)      0         \n",
            "                                                                 \n",
            " max_pooling2d_22 (MaxPoolin  (None, 108, 108, 50)     0         \n",
            " g2D)                                                            \n",
            "                                                                 \n",
            " dropout_30 (Dropout)        (None, 108, 108, 50)      0         \n",
            "                                                                 \n",
            " conv2d_38 (Conv2D)          (None, 102, 102, 100)     245100    \n",
            "                                                                 \n",
            " dropout_31 (Dropout)        (None, 102, 102, 100)     0         \n",
            "                                                                 \n",
            " leaky_re_lu_51 (LeakyReLU)  (None, 102, 102, 100)     0         \n",
            "                                                                 \n",
            " max_pooling2d_23 (MaxPoolin  (None, 51, 51, 100)      0         \n",
            " g2D)                                                            \n",
            "                                                                 \n",
            " sequential_19 (Sequential)  (None, 25, 25, 150)       939000    \n",
            "                                                                 \n",
            " dropout_32 (Dropout)        (None, 25, 25, 150)       0         \n",
            "                                                                 \n",
            " sequential_20 (Sequential)  (None, 12, 12, 250)       1466250   \n",
            "                                                                 \n",
            " dropout_33 (Dropout)        (None, 12, 12, 250)       0         \n",
            "                                                                 \n",
            " flatten_7 (Flatten)         (None, 36000)             0         \n",
            "                                                                 \n",
            " dense_21 (Dense)            (None, 4096)              147460096 \n",
            "                                                                 \n",
            " dropout_34 (Dropout)        (None, 4096)              0         \n",
            "                                                                 \n",
            " leaky_re_lu_57 (LeakyReLU)  (None, 4096)              0         \n",
            "                                                                 \n",
            " dense_22 (Dense)            (None, 4096)              16781312  \n",
            "                                                                 \n",
            " dropout_35 (Dropout)        (None, 4096)              0         \n",
            "                                                                 \n",
            " leaky_re_lu_58 (LeakyReLU)  (None, 4096)              0         \n",
            "                                                                 \n",
            " dense_23 (Dense)            (None, 20)                81940     \n",
            "                                                                 \n",
            "=================================================================\n",
            "Total params: 166,985,898\n",
            "Trainable params: 166,983,798\n",
            "Non-trainable params: 2,100\n",
            "_________________________________________________________________\n"
          ]
        }
      ],
      "source": [
        "myCNN_dropout_1 = myCNN_dropout()\n",
        "\n",
        "myCNN_dropout_1.compile(optimizer='adagrad',\n",
        "             loss=tf.keras.losses.SparseCategoricalCrossentropy(from_logits=False),\n",
        "              metrics=['accuracy'])\n",
        "\n",
        "myCNN_dropout_1.summary()"
      ]
    },
    {
      "cell_type": "code",
      "execution_count": null,
      "metadata": {
        "colab": {
          "base_uri": "https://localhost:8080/"
        },
        "id": "aZkVQFGCuU1T",
        "outputId": "829a97fd-8117-4e0b-f342-68fd1e12053f"
      },
      "outputs": [
        {
          "output_type": "stream",
          "name": "stdout",
          "text": [
            "Epoch 1/32\n",
            "67/67 [==============================] - 80s 1s/step - loss: 2.7665 - accuracy: 0.2580 - val_loss: 3.0016 - val_accuracy: 0.0680\n",
            "Epoch 2/32\n",
            "67/67 [==============================] - 57s 859ms/step - loss: 2.0291 - accuracy: 0.4031 - val_loss: 3.1313 - val_accuracy: 0.0720\n",
            "Epoch 3/32\n",
            "67/67 [==============================] - 57s 857ms/step - loss: 1.7754 - accuracy: 0.4684 - val_loss: 3.5356 - val_accuracy: 0.0647\n",
            "Epoch 4/32\n",
            "67/67 [==============================] - 57s 856ms/step - loss: 1.6149 - accuracy: 0.5106 - val_loss: 3.7622 - val_accuracy: 0.0740\n",
            "Epoch 5/32\n",
            "67/67 [==============================] - 57s 856ms/step - loss: 1.4723 - accuracy: 0.5534 - val_loss: 3.5704 - val_accuracy: 0.1253\n",
            "Epoch 6/32\n",
            "67/67 [==============================] - 57s 856ms/step - loss: 1.3687 - accuracy: 0.5785 - val_loss: 3.3299 - val_accuracy: 0.1493\n",
            "Epoch 7/32\n",
            "67/67 [==============================] - 57s 856ms/step - loss: 1.2570 - accuracy: 0.6136 - val_loss: 2.8025 - val_accuracy: 0.2167\n",
            "Epoch 8/32\n",
            "67/67 [==============================] - 57s 856ms/step - loss: 1.1719 - accuracy: 0.6384 - val_loss: 2.2933 - val_accuracy: 0.3247\n",
            "Epoch 9/32\n",
            "67/67 [==============================] - 57s 856ms/step - loss: 1.0856 - accuracy: 0.6608 - val_loss: 1.9871 - val_accuracy: 0.4013\n",
            "Epoch 10/32\n",
            "67/67 [==============================] - 57s 856ms/step - loss: 1.0243 - accuracy: 0.6813 - val_loss: 1.8759 - val_accuracy: 0.4373\n",
            "Epoch 11/32\n",
            "67/67 [==============================] - 57s 856ms/step - loss: 0.9636 - accuracy: 0.6956 - val_loss: 1.7178 - val_accuracy: 0.4907\n",
            "Epoch 12/32\n",
            "67/67 [==============================] - 57s 856ms/step - loss: 0.8970 - accuracy: 0.7206 - val_loss: 1.5890 - val_accuracy: 0.5153\n",
            "Epoch 13/32\n",
            "67/67 [==============================] - 57s 857ms/step - loss: 0.8370 - accuracy: 0.7436 - val_loss: 1.6816 - val_accuracy: 0.4940\n",
            "Epoch 14/32\n",
            "67/67 [==============================] - 57s 856ms/step - loss: 0.7853 - accuracy: 0.7553 - val_loss: 1.7185 - val_accuracy: 0.4980\n",
            "Epoch 15/32\n",
            "67/67 [==============================] - 57s 857ms/step - loss: 0.7287 - accuracy: 0.7753 - val_loss: 1.6676 - val_accuracy: 0.5033\n",
            "Epoch 16/32\n",
            "67/67 [==============================] - 57s 857ms/step - loss: 0.6893 - accuracy: 0.7864 - val_loss: 1.5965 - val_accuracy: 0.5147\n",
            "Epoch 17/32\n",
            "67/67 [==============================] - 57s 857ms/step - loss: 0.6446 - accuracy: 0.8068 - val_loss: 1.6334 - val_accuracy: 0.5213\n",
            "Epoch 18/32\n",
            "67/67 [==============================] - 57s 856ms/step - loss: 0.5946 - accuracy: 0.8185 - val_loss: 1.6190 - val_accuracy: 0.5167\n",
            "Epoch 19/32\n",
            "67/67 [==============================] - 57s 857ms/step - loss: 0.5656 - accuracy: 0.8326 - val_loss: 1.5225 - val_accuracy: 0.5527\n",
            "Epoch 20/32\n",
            "67/67 [==============================] - 57s 857ms/step - loss: 0.5260 - accuracy: 0.8396 - val_loss: 1.5389 - val_accuracy: 0.5513\n",
            "Epoch 21/32\n",
            "67/67 [==============================] - 57s 856ms/step - loss: 0.4903 - accuracy: 0.8538 - val_loss: 1.5904 - val_accuracy: 0.5367\n",
            "Epoch 22/32\n",
            "67/67 [==============================] - 57s 856ms/step - loss: 0.4605 - accuracy: 0.8622 - val_loss: 1.5266 - val_accuracy: 0.5620\n",
            "Epoch 23/32\n",
            "67/67 [==============================] - 57s 856ms/step - loss: 0.4257 - accuracy: 0.8775 - val_loss: 1.5169 - val_accuracy: 0.5653\n",
            "Epoch 24/32\n",
            "67/67 [==============================] - 57s 857ms/step - loss: 0.3949 - accuracy: 0.8884 - val_loss: 1.5288 - val_accuracy: 0.5600\n",
            "Epoch 25/32\n",
            "67/67 [==============================] - 57s 857ms/step - loss: 0.3569 - accuracy: 0.9029 - val_loss: 1.5339 - val_accuracy: 0.5673\n",
            "Epoch 26/32\n",
            "67/67 [==============================] - 57s 857ms/step - loss: 0.3544 - accuracy: 0.8995 - val_loss: 1.5493 - val_accuracy: 0.5620\n",
            "Epoch 27/32\n",
            "67/67 [==============================] - 57s 857ms/step - loss: 0.3291 - accuracy: 0.9071 - val_loss: 1.5408 - val_accuracy: 0.5653\n",
            "Epoch 28/32\n",
            "67/67 [==============================] - 57s 857ms/step - loss: 0.3067 - accuracy: 0.9187 - val_loss: 1.4923 - val_accuracy: 0.5827\n",
            "Epoch 29/32\n",
            "67/67 [==============================] - 57s 857ms/step - loss: 0.2882 - accuracy: 0.9255 - val_loss: 1.5183 - val_accuracy: 0.5667\n",
            "Epoch 30/32\n",
            "67/67 [==============================] - 57s 857ms/step - loss: 0.2674 - accuracy: 0.9296 - val_loss: 1.5248 - val_accuracy: 0.5627\n",
            "Epoch 31/32\n",
            "67/67 [==============================] - 57s 857ms/step - loss: 0.2519 - accuracy: 0.9358 - val_loss: 1.5373 - val_accuracy: 0.5713\n",
            "Epoch 32/32\n",
            "67/67 [==============================] - 57s 857ms/step - loss: 0.2315 - accuracy: 0.9438 - val_loss: 1.5340 - val_accuracy: 0.5747\n"
          ]
        }
      ],
      "source": [
        "from keras.utils import np_utils\n",
        "history_myCNN_dropout_1 = myCNN_dropout_1.fit(x_train, y_train_1, batch_size=128, epochs=32, validation_data = (x_val, y_val_1))"
      ]
    },
    {
      "cell_type": "code",
      "source": [
        "#Τα παραπάνω διαγραμματικά:\n",
        "plt.figure(figsize=(20, 20))\n",
        "_plot(history_myCNN_dropout_1, 'myCNN_dropout_1', 1, 'adam', '128', '32')"
      ],
      "metadata": {
        "colab": {
          "base_uri": "https://localhost:8080/",
          "height": 312
        },
        "id": "oZyNQ5iDmHJt",
        "outputId": "bd273a84-f66f-4407-bd38-0e9ce35b3a93"
      },
      "execution_count": null,
      "outputs": [
        {
          "output_type": "display_data",
          "data": {
            "text/plain": [
              "<Figure size 1440x1440 with 1 Axes>"
            ],
            "image/png": "[encoded data removed]"
          },
          "metadata": {
            "needs_background": "light"
          }
        }
      ]
    },
    {
      "cell_type": "markdown",
      "source": [
        "Το overfitting ξεκινάει από αρκετά \"νωρίς\". Πετυχαίνουμε ακρίβεια γύρω στο 58% (ικανοποιητική σχετικά). "
      ],
      "metadata": {
        "id": "_jAm7InP19lg"
      }
    },
    {
      "cell_type": "markdown",
      "source": [
        "**2) DROPOUT & DATA AUGMENTATION :**\n",
        "\n",
        "---\n",
        "\n"
      ],
      "metadata": {
        "id": "f456_EQU2keG"
      }
    },
    {
      "cell_type": "code",
      "source": [
        "from keras.utils import np_utils\n",
        "classes_num = 20\n",
        "data_generator = tf.keras.preprocessing.image.ImageDataGenerator(\n",
        "    featurewise_center=True,\n",
        "    featurewise_std_normalization=True,\n",
        "    rotation_range=10,\n",
        "    width_shift_range=0.1,\n",
        "    height_shift_range=0.1,\n",
        "    horizontal_flip=True,\n",
        "    zoom_range=0.2)\n",
        "data_generator.fit(x_train)"
      ],
      "metadata": {
        "id": "lUJrTPcY2k1r"
      },
      "execution_count": null,
      "outputs": []
    },
    {
      "cell_type": "code",
      "source": [
        "#παράλληλα προσπαθούμε να ρυθμίσουμε καλύτερα το dropout\n",
        " def myCNN_dropout_2_with_data_aug():\n",
        "  model = tf.keras.models.Sequential()\n",
        "  model.add(layers.experimental.preprocessing.Resizing(192, 192, interpolation=\"bicubic\", input_shape=x_train.shape[1:]))\n",
        "  model.add(layers.Conv2D(64, (9, 9), input_shape=(192, 192, 3)))\n",
        "  model.add(layers.LeakyReLU(alpha=0.15))    \n",
        "  model.add(layers.MaxPooling2D((2, 2)))\n",
        "  model.add(layers.Dropout(0.2))\n",
        "  model.add(layers.Conv2D(128, (7, 7)))\n",
        "  model.add(layers.Dropout(0.2))\n",
        "  model.add(layers.LeakyReLU(alpha=0.15))    \n",
        "  model.add(layers.MaxPooling2D((2, 2)))\n",
        "  model.add(vgg_block_new(2, 256, 5))\n",
        "  model.add(layers.Dropout(0.2))\n",
        "  model.add(vgg_block_new(3, 300, 3))\n",
        "  model.add(layers.Dropout(0.3))\n",
        "  model.add(layers.Flatten())\n",
        "  model.add(layers.Dense(4096))\n",
        "  model.add(layers.Dropout(0.3))\n",
        "  model.add(layers.LeakyReLU(alpha=0.15))    \n",
        "  model.add(layers.Dense(4096))\n",
        "  model.add(layers.Dropout(0.3))\n",
        "  model.add(layers.LeakyReLU(alpha=0.15))    \n",
        "  model.add(layers.Dense(20, activation='softmax'))\n",
        "  return model\n"
      ],
      "metadata": {
        "id": "yF70YM2Blygm"
      },
      "execution_count": null,
      "outputs": []
    },
    {
      "cell_type": "code",
      "source": [
        "myCNN_dropout_2_with_data_aug_exp = myCNN_dropout_2_with_data_aug()\n",
        "\n",
        "myCNN_dropout_2_with_data_aug_exp.compile(optimizer='adam',\n",
        "             loss=tf.keras.losses.SparseCategoricalCrossentropy(from_logits=False),\n",
        "              metrics=['accuracy'])\n",
        "\n",
        "myCNN_dropout_2_with_data_aug_exp.summary()"
      ],
      "metadata": {
        "colab": {
          "base_uri": "https://localhost:8080/"
        },
        "id": "jRnPGPc-lx2U",
        "outputId": "5f77b20d-81c7-4f1a-f6e7-57fc0dad4fa5"
      },
      "execution_count": null,
      "outputs": [
        {
          "output_type": "stream",
          "name": "stdout",
          "text": [
            "Model: \"sequential_21\"\n",
            "_________________________________________________________________\n",
            " Layer (type)                Output Shape              Param #   \n",
            "=================================================================\n",
            " resizing_9 (Resizing)       (None, 192, 192, 3)       0         \n",
            "                                                                 \n",
            " conv2d_44 (Conv2D)          (None, 184, 184, 64)      15616     \n",
            "                                                                 \n",
            " leaky_re_lu_59 (LeakyReLU)  (None, 184, 184, 64)      0         \n",
            "                                                                 \n",
            " max_pooling2d_26 (MaxPoolin  (None, 92, 92, 64)       0         \n",
            " g2D)                                                            \n",
            "                                                                 \n",
            " dropout_36 (Dropout)        (None, 92, 92, 64)        0         \n",
            "                                                                 \n",
            " conv2d_45 (Conv2D)          (None, 86, 86, 128)       401536    \n",
            "                                                                 \n",
            " dropout_37 (Dropout)        (None, 86, 86, 128)       0         \n",
            "                                                                 \n",
            " leaky_re_lu_60 (LeakyReLU)  (None, 86, 86, 128)       0         \n",
            "                                                                 \n",
            " max_pooling2d_27 (MaxPoolin  (None, 43, 43, 128)      0         \n",
            " g2D)                                                            \n",
            "                                                                 \n",
            " sequential_22 (Sequential)  (None, 21, 21, 256)       2460160   \n",
            "                                                                 \n",
            " dropout_38 (Dropout)        (None, 21, 21, 256)       0         \n",
            "                                                                 \n",
            " sequential_23 (Sequential)  (None, 10, 10, 300)       2315700   \n",
            "                                                                 \n",
            " dropout_39 (Dropout)        (None, 10, 10, 300)       0         \n",
            "                                                                 \n",
            " flatten_8 (Flatten)         (None, 30000)             0         \n",
            "                                                                 \n",
            " dense_24 (Dense)            (None, 4096)              122884096 \n",
            "                                                                 \n",
            " dropout_40 (Dropout)        (None, 4096)              0         \n",
            "                                                                 \n",
            " leaky_re_lu_66 (LeakyReLU)  (None, 4096)              0         \n",
            "                                                                 \n",
            " dense_25 (Dense)            (None, 4096)              16781312  \n",
            "                                                                 \n",
            " dropout_41 (Dropout)        (None, 4096)              0         \n",
            "                                                                 \n",
            " leaky_re_lu_67 (LeakyReLU)  (None, 4096)              0         \n",
            "                                                                 \n",
            " dense_26 (Dense)            (None, 20)                81940     \n",
            "                                                                 \n",
            "=================================================================\n",
            "Total params: 144,940,360\n",
            "Trainable params: 144,937,536\n",
            "Non-trainable params: 2,824\n",
            "_________________________________________________________________\n"
          ]
        }
      ]
    },
    {
      "cell_type": "code",
      "source": [
        "from keras.utils import np_utils\n",
        "# μειώνουμε το batch size (καθώς βάζουμε και batch augmentation)\n",
        "history_myCNN_dropout_2_with_data_aug = myCNN_dropout_2_with_data_aug_exp.fit(data_generator.flow(x_train, y_train_1, batch_size=64), epochs=32, validation_data = data_generator.flow(x_val, y_val_1))\n"
      ],
      "metadata": {
        "colab": {
          "base_uri": "https://localhost:8080/"
        },
        "id": "05wUDI0omA7M",
        "outputId": "5caedd6c-d187-4093-e26f-a1401168adc6"
      },
      "execution_count": null,
      "outputs": [
        {
          "output_type": "stream",
          "name": "stdout",
          "text": [
            "Epoch 1/32\n",
            "133/133 [==============================] - 62s 462ms/step - loss: 23.7246 - accuracy: 0.1127 - val_loss: 18.5447 - val_accuracy: 0.0907\n",
            "Epoch 2/32\n",
            "133/133 [==============================] - 61s 458ms/step - loss: 7.6421 - accuracy: 0.1412 - val_loss: 14.5312 - val_accuracy: 0.1107\n",
            "Epoch 3/32\n",
            "133/133 [==============================] - 61s 458ms/step - loss: 6.2507 - accuracy: 0.1746 - val_loss: 4.1293 - val_accuracy: 0.1533\n",
            "Epoch 4/32\n",
            "133/133 [==============================] - 61s 458ms/step - loss: 3.0606 - accuracy: 0.2487 - val_loss: 3.3591 - val_accuracy: 0.1707\n",
            "Epoch 5/32\n",
            "133/133 [==============================] - 61s 458ms/step - loss: 2.3047 - accuracy: 0.3291 - val_loss: 2.3313 - val_accuracy: 0.2880\n",
            "Epoch 6/32\n",
            "133/133 [==============================] - 61s 459ms/step - loss: 2.1747 - accuracy: 0.3636 - val_loss: 2.4744 - val_accuracy: 0.3327\n",
            "Epoch 7/32\n",
            "133/133 [==============================] - 61s 459ms/step - loss: 2.0508 - accuracy: 0.3912 - val_loss: 2.7541 - val_accuracy: 0.2907\n",
            "Epoch 8/32\n",
            "133/133 [==============================] - 61s 462ms/step - loss: 1.9386 - accuracy: 0.4198 - val_loss: 13.7932 - val_accuracy: 0.3533\n",
            "Epoch 9/32\n",
            "133/133 [==============================] - 61s 458ms/step - loss: 1.8291 - accuracy: 0.4432 - val_loss: 6.4146 - val_accuracy: 0.4060\n",
            "Epoch 10/32\n",
            "133/133 [==============================] - 61s 459ms/step - loss: 1.6968 - accuracy: 0.4804 - val_loss: 2.3519 - val_accuracy: 0.4067\n",
            "Epoch 11/32\n",
            "133/133 [==============================] - 61s 458ms/step - loss: 1.6424 - accuracy: 0.4947 - val_loss: 1.9937 - val_accuracy: 0.4607\n",
            "Epoch 12/32\n",
            "133/133 [==============================] - 61s 458ms/step - loss: 1.5600 - accuracy: 0.5245 - val_loss: 1.8391 - val_accuracy: 0.4567\n",
            "Epoch 13/32\n",
            "133/133 [==============================] - 61s 459ms/step - loss: 1.4706 - accuracy: 0.5460 - val_loss: 1.7950 - val_accuracy: 0.4967\n",
            "Epoch 14/32\n",
            "133/133 [==============================] - 61s 458ms/step - loss: 1.4618 - accuracy: 0.5527 - val_loss: 1.8438 - val_accuracy: 0.4920\n",
            "Epoch 15/32\n",
            "133/133 [==============================] - 61s 458ms/step - loss: 1.4141 - accuracy: 0.5626 - val_loss: 1.6199 - val_accuracy: 0.5167\n",
            "Epoch 16/32\n",
            "133/133 [==============================] - 61s 459ms/step - loss: 1.3573 - accuracy: 0.5762 - val_loss: 1.4637 - val_accuracy: 0.5313\n",
            "Epoch 17/32\n",
            "133/133 [==============================] - 61s 459ms/step - loss: 1.2817 - accuracy: 0.6080 - val_loss: 1.8080 - val_accuracy: 0.4967\n",
            "Epoch 18/32\n",
            "133/133 [==============================] - 61s 459ms/step - loss: 1.2320 - accuracy: 0.6118 - val_loss: 1.5785 - val_accuracy: 0.5407\n",
            "Epoch 19/32\n",
            "133/133 [==============================] - 61s 459ms/step - loss: 1.2112 - accuracy: 0.6211 - val_loss: 1.5091 - val_accuracy: 0.5473\n",
            "Epoch 20/32\n",
            "133/133 [==============================] - 61s 459ms/step - loss: 1.1614 - accuracy: 0.6376 - val_loss: 1.5408 - val_accuracy: 0.5473\n",
            "Epoch 21/32\n",
            "133/133 [==============================] - 61s 458ms/step - loss: 1.1258 - accuracy: 0.6488 - val_loss: 1.3692 - val_accuracy: 0.6013\n",
            "Epoch 22/32\n",
            "133/133 [==============================] - 61s 459ms/step - loss: 1.1219 - accuracy: 0.6434 - val_loss: 1.4956 - val_accuracy: 0.5467\n",
            "Epoch 23/32\n",
            "133/133 [==============================] - 61s 461ms/step - loss: 1.1031 - accuracy: 0.6492 - val_loss: 1.5715 - val_accuracy: 0.5420\n",
            "Epoch 24/32\n",
            "133/133 [==============================] - 61s 457ms/step - loss: 1.0585 - accuracy: 0.6685 - val_loss: 1.4219 - val_accuracy: 0.5880\n",
            "Epoch 25/32\n",
            "133/133 [==============================] - 61s 459ms/step - loss: 1.0694 - accuracy: 0.6640 - val_loss: 1.2585 - val_accuracy: 0.6233\n",
            "Epoch 26/32\n",
            "133/133 [==============================] - 61s 458ms/step - loss: 1.0231 - accuracy: 0.6818 - val_loss: 1.3693 - val_accuracy: 0.5760\n",
            "Epoch 27/32\n",
            "133/133 [==============================] - 61s 458ms/step - loss: 1.0109 - accuracy: 0.6818 - val_loss: 1.3394 - val_accuracy: 0.6247\n",
            "Epoch 28/32\n",
            "133/133 [==============================] - 61s 459ms/step - loss: 1.0067 - accuracy: 0.6861 - val_loss: 1.4517 - val_accuracy: 0.5733\n",
            "Epoch 29/32\n",
            "133/133 [==============================] - 61s 459ms/step - loss: 0.9602 - accuracy: 0.6951 - val_loss: 1.3036 - val_accuracy: 0.6213\n",
            "Epoch 30/32\n",
            "133/133 [==============================] - 61s 459ms/step - loss: 0.9400 - accuracy: 0.7020 - val_loss: 1.4949 - val_accuracy: 0.6007\n",
            "Epoch 31/32\n",
            "133/133 [==============================] - 61s 459ms/step - loss: 0.9165 - accuracy: 0.7061 - val_loss: 1.3969 - val_accuracy: 0.6053\n",
            "Epoch 32/32\n",
            "133/133 [==============================] - 61s 459ms/step - loss: 0.9431 - accuracy: 0.7035 - val_loss: 1.3186 - val_accuracy: 0.6080\n"
          ]
        }
      ]
    },
    {
      "cell_type": "code",
      "source": [
        "#Τα παραπάνω διαγραμματικά:\n",
        "plt.figure(figsize=(20, 20))\n",
        "_plot(history_myCNN_dropout_2_with_data_aug , 'my_CNN_dropout_batch_augmentation', 1, 'adam', '64', '32')"
      ],
      "metadata": {
        "colab": {
          "base_uri": "https://localhost:8080/",
          "height": 312
        },
        "id": "lze6NdQg3HGI",
        "outputId": "f6ac3b91-f78c-40cf-f5e6-0bf8f7d53088"
      },
      "execution_count": null,
      "outputs": [
        {
          "output_type": "display_data",
          "data": {
            "text/plain": [
              "<Figure size 1440x1440 with 1 Axes>"
            ],
            "image/png": "[encoded data removed]"
          },
          "metadata": {
            "needs_background": "light"
          }
        }
      ]
    },
    {
      "cell_type": "markdown",
      "source": [
        "Πολύ αισθητή είναι η βελτίωση σε σχέση με το προηγούμενο πείραμα όσον αφορά το overfitting. Παράλληλα είναι και λίγο καλύτερη η ακρίβεια που φτάνουμε (γύρω στο 60%)."
      ],
      "metadata": {
        "id": "9ZvzBOgXAvk7"
      }
    },
    {
      "cell_type": "markdown",
      "source": [
        "**3) DROPOUT & DATA AUGMENTATION & EARLY STOPPING :**\n",
        "\n",
        "---\n",
        "\n"
      ],
      "metadata": {
        "id": "kZWEHiW1Eh1f"
      }
    },
    {
      "cell_type": "code",
      "source": [
        "callback_1 = tf.keras.callbacks.EarlyStopping(monitor='loss', \n",
        "                                              patience= 4 # αν το loss παραμείνει ίδιο για 4 συνεχόμενες εποχές ολοκληρώνουμε την εκπαίδευση\n",
        "                                              )\n"
      ],
      "metadata": {
        "id": "glEj5Xaw4Ffn"
      },
      "execution_count": null,
      "outputs": []
    },
    {
      "cell_type": "code",
      "source": [
        "myCNN_dropout_2_with_data_aug_and_early = myCNN_dropout_2_with_data_aug()\n",
        "\n",
        "myCNN_dropout_2_with_data_aug_and_early.compile(optimizer='adam',\n",
        "             loss=tf.keras.losses.SparseCategoricalCrossentropy(from_logits=False),\n",
        "              metrics=['accuracy'])\n",
        "\n",
        "myCNN_dropout_2_with_data_aug_and_early.summary()"
      ],
      "metadata": {
        "colab": {
          "base_uri": "https://localhost:8080/"
        },
        "id": "PS6xU18i4qKS",
        "outputId": "09750e7b-ce7c-43d5-b879-86335106ccfc"
      },
      "execution_count": null,
      "outputs": [
        {
          "output_type": "stream",
          "name": "stdout",
          "text": [
            "Model: \"sequential_27\"\n",
            "_________________________________________________________________\n",
            " Layer (type)                Output Shape              Param #   \n",
            "=================================================================\n",
            " resizing_11 (Resizing)      (None, 192, 192, 3)       0         \n",
            "                                                                 \n",
            " conv2d_58 (Conv2D)          (None, 184, 184, 64)      15616     \n",
            "                                                                 \n",
            " leaky_re_lu_77 (LeakyReLU)  (None, 184, 184, 64)      0         \n",
            "                                                                 \n",
            " max_pooling2d_34 (MaxPoolin  (None, 92, 92, 64)       0         \n",
            " g2D)                                                            \n",
            "                                                                 \n",
            " dropout_48 (Dropout)        (None, 92, 92, 64)        0         \n",
            "                                                                 \n",
            " conv2d_59 (Conv2D)          (None, 86, 86, 128)       401536    \n",
            "                                                                 \n",
            " dropout_49 (Dropout)        (None, 86, 86, 128)       0         \n",
            "                                                                 \n",
            " leaky_re_lu_78 (LeakyReLU)  (None, 86, 86, 128)       0         \n",
            "                                                                 \n",
            " max_pooling2d_35 (MaxPoolin  (None, 43, 43, 128)      0         \n",
            " g2D)                                                            \n",
            "                                                                 \n",
            " sequential_28 (Sequential)  (None, 21, 21, 256)       2460160   \n",
            "                                                                 \n",
            " dropout_50 (Dropout)        (None, 21, 21, 256)       0         \n",
            "                                                                 \n",
            " sequential_29 (Sequential)  (None, 10, 10, 300)       2315700   \n",
            "                                                                 \n",
            " dropout_51 (Dropout)        (None, 10, 10, 300)       0         \n",
            "                                                                 \n",
            " flatten_10 (Flatten)        (None, 30000)             0         \n",
            "                                                                 \n",
            " dense_30 (Dense)            (None, 4096)              122884096 \n",
            "                                                                 \n",
            " dropout_52 (Dropout)        (None, 4096)              0         \n",
            "                                                                 \n",
            " leaky_re_lu_84 (LeakyReLU)  (None, 4096)              0         \n",
            "                                                                 \n",
            " dense_31 (Dense)            (None, 4096)              16781312  \n",
            "                                                                 \n",
            " dropout_53 (Dropout)        (None, 4096)              0         \n",
            "                                                                 \n",
            " leaky_re_lu_85 (LeakyReLU)  (None, 4096)              0         \n",
            "                                                                 \n",
            " dense_32 (Dense)            (None, 20)                81940     \n",
            "                                                                 \n",
            "=================================================================\n",
            "Total params: 144,940,360\n",
            "Trainable params: 144,937,536\n",
            "Non-trainable params: 2,824\n",
            "_________________________________________________________________\n"
          ]
        }
      ]
    },
    {
      "cell_type": "code",
      "source": [
        "from keras.utils import np_utils\n",
        "history_myCNN_dropout_2_with_data_aug_and_early = myCNN_dropout_2_with_data_aug_and_early.fit(data_generator.flow(x_train, y_train_1, batch_size=64), epochs=45, validation_data = data_generator.flow(x_val, y_val_1), callbacks=callback_1)\n"
      ],
      "metadata": {
        "colab": {
          "base_uri": "https://localhost:8080/"
        },
        "id": "xkl-z5IQ46fB",
        "outputId": "27d0d5ec-d443-4142-81c0-1631fb2de991"
      },
      "execution_count": null,
      "outputs": [
        {
          "output_type": "stream",
          "name": "stdout",
          "text": [
            "Epoch 1/45\n",
            "133/133 [==============================] - 63s 469ms/step - loss: 23.4297 - accuracy: 0.1346 - val_loss: 11.7934 - val_accuracy: 0.1313\n",
            "Epoch 2/45\n",
            "133/133 [==============================] - 61s 461ms/step - loss: 7.5864 - accuracy: 0.1619 - val_loss: 8.4548 - val_accuracy: 0.1907\n",
            "Epoch 3/45\n",
            "133/133 [==============================] - 62s 465ms/step - loss: 5.8476 - accuracy: 0.2208 - val_loss: 9.6665 - val_accuracy: 0.1820\n",
            "Epoch 4/45\n",
            "133/133 [==============================] - 61s 461ms/step - loss: 3.2539 - accuracy: 0.2704 - val_loss: 3.5492 - val_accuracy: 0.1873\n",
            "Epoch 5/45\n",
            "133/133 [==============================] - 61s 456ms/step - loss: 2.2394 - accuracy: 0.3547 - val_loss: 2.1721 - val_accuracy: 0.3673\n",
            "Epoch 6/45\n",
            "133/133 [==============================] - 61s 458ms/step - loss: 2.0581 - accuracy: 0.3966 - val_loss: 2.4966 - val_accuracy: 0.3933\n",
            "Epoch 7/45\n",
            "133/133 [==============================] - 61s 459ms/step - loss: 1.9341 - accuracy: 0.4187 - val_loss: 5.5392 - val_accuracy: 0.3733\n",
            "Epoch 8/45\n",
            "133/133 [==============================] - 61s 458ms/step - loss: 1.8138 - accuracy: 0.4538 - val_loss: 3.6615 - val_accuracy: 0.3713\n",
            "Epoch 9/45\n",
            "133/133 [==============================] - 61s 457ms/step - loss: 1.7136 - accuracy: 0.4800 - val_loss: 2.9137 - val_accuracy: 0.4180\n",
            "Epoch 10/45\n",
            "133/133 [==============================] - 61s 458ms/step - loss: 1.6578 - accuracy: 0.4976 - val_loss: 1.9399 - val_accuracy: 0.4427\n",
            "Epoch 11/45\n",
            "133/133 [==============================] - 61s 458ms/step - loss: 1.5892 - accuracy: 0.5122 - val_loss: 1.6699 - val_accuracy: 0.4973\n",
            "Epoch 12/45\n",
            "133/133 [==============================] - 62s 463ms/step - loss: 1.5106 - accuracy: 0.5320 - val_loss: 1.9583 - val_accuracy: 0.4353\n",
            "Epoch 13/45\n",
            "133/133 [==============================] - 62s 469ms/step - loss: 1.4608 - accuracy: 0.5438 - val_loss: 1.6439 - val_accuracy: 0.5140\n",
            "Epoch 14/45\n",
            "133/133 [==============================] - 62s 467ms/step - loss: 1.4171 - accuracy: 0.5585 - val_loss: 1.8711 - val_accuracy: 0.4740\n",
            "Epoch 15/45\n",
            "133/133 [==============================] - 62s 464ms/step - loss: 1.3569 - accuracy: 0.5781 - val_loss: 1.7582 - val_accuracy: 0.5087\n",
            "Epoch 16/45\n",
            "133/133 [==============================] - 61s 458ms/step - loss: 1.3439 - accuracy: 0.5829 - val_loss: 1.7464 - val_accuracy: 0.4947\n",
            "Epoch 17/45\n",
            "133/133 [==============================] - 61s 460ms/step - loss: 1.2839 - accuracy: 0.6022 - val_loss: 1.7234 - val_accuracy: 0.4880\n",
            "Epoch 18/45\n",
            "133/133 [==============================] - 61s 459ms/step - loss: 1.2349 - accuracy: 0.6127 - val_loss: 1.6543 - val_accuracy: 0.5387\n",
            "Epoch 19/45\n",
            "133/133 [==============================] - 61s 458ms/step - loss: 1.2053 - accuracy: 0.6199 - val_loss: 1.7692 - val_accuracy: 0.4767\n",
            "Epoch 20/45\n",
            "133/133 [==============================] - 61s 458ms/step - loss: 1.1531 - accuracy: 0.6382 - val_loss: 1.4766 - val_accuracy: 0.5733\n",
            "Epoch 21/45\n",
            "133/133 [==============================] - 61s 458ms/step - loss: 1.1208 - accuracy: 0.6489 - val_loss: 1.5402 - val_accuracy: 0.5700\n",
            "Epoch 22/45\n",
            "133/133 [==============================] - 61s 460ms/step - loss: 1.0971 - accuracy: 0.6565 - val_loss: 1.6859 - val_accuracy: 0.5327\n",
            "Epoch 23/45\n",
            "133/133 [==============================] - 61s 462ms/step - loss: 1.1062 - accuracy: 0.6547 - val_loss: 1.5190 - val_accuracy: 0.5753\n",
            "Epoch 24/45\n",
            "133/133 [==============================] - 61s 461ms/step - loss: 1.0323 - accuracy: 0.6771 - val_loss: 1.5862 - val_accuracy: 0.5547\n",
            "Epoch 25/45\n",
            "133/133 [==============================] - 62s 468ms/step - loss: 1.0360 - accuracy: 0.6756 - val_loss: 1.3462 - val_accuracy: 0.5980\n",
            "Epoch 26/45\n",
            "133/133 [==============================] - 62s 464ms/step - loss: 1.0112 - accuracy: 0.6765 - val_loss: 1.4120 - val_accuracy: 0.5893\n",
            "Epoch 27/45\n",
            "133/133 [==============================] - 62s 465ms/step - loss: 0.9773 - accuracy: 0.6928 - val_loss: 1.3483 - val_accuracy: 0.6080\n",
            "Epoch 28/45\n",
            "133/133 [==============================] - 61s 458ms/step - loss: 0.9574 - accuracy: 0.6968 - val_loss: 1.4031 - val_accuracy: 0.6160\n",
            "Epoch 29/45\n",
            "133/133 [==============================] - 62s 463ms/step - loss: 0.9449 - accuracy: 0.7006 - val_loss: 1.4508 - val_accuracy: 0.5893\n",
            "Epoch 30/45\n",
            "133/133 [==============================] - 61s 461ms/step - loss: 0.9390 - accuracy: 0.7008 - val_loss: 1.2114 - val_accuracy: 0.6567\n",
            "Epoch 31/45\n",
            "133/133 [==============================] - 61s 460ms/step - loss: 0.8969 - accuracy: 0.7176 - val_loss: 1.4092 - val_accuracy: 0.5967\n",
            "Epoch 32/45\n",
            "133/133 [==============================] - 61s 458ms/step - loss: 0.8880 - accuracy: 0.7226 - val_loss: 1.9672 - val_accuracy: 0.5253\n",
            "Epoch 33/45\n",
            "133/133 [==============================] - 61s 457ms/step - loss: 0.9571 - accuracy: 0.7028 - val_loss: 1.3342 - val_accuracy: 0.6080\n",
            "Epoch 34/45\n",
            "133/133 [==============================] - 61s 457ms/step - loss: 0.9076 - accuracy: 0.7147 - val_loss: 1.3732 - val_accuracy: 0.6260\n",
            "Epoch 35/45\n",
            "133/133 [==============================] - 61s 457ms/step - loss: 0.8797 - accuracy: 0.7265 - val_loss: 1.3619 - val_accuracy: 0.6333\n",
            "Epoch 36/45\n",
            "133/133 [==============================] - 61s 458ms/step - loss: 0.8800 - accuracy: 0.7266 - val_loss: 1.3478 - val_accuracy: 0.6113\n",
            "Epoch 37/45\n",
            "133/133 [==============================] - 61s 458ms/step - loss: 0.8723 - accuracy: 0.7266 - val_loss: 1.2870 - val_accuracy: 0.6500\n",
            "Epoch 38/45\n",
            "133/133 [==============================] - 61s 458ms/step - loss: 0.8508 - accuracy: 0.7275 - val_loss: 1.5647 - val_accuracy: 0.6140\n",
            "Epoch 39/45\n",
            "133/133 [==============================] - 61s 457ms/step - loss: 0.8920 - accuracy: 0.7248 - val_loss: 1.2483 - val_accuracy: 0.6400\n",
            "Epoch 40/45\n",
            "133/133 [==============================] - 61s 458ms/step - loss: 0.8240 - accuracy: 0.7459 - val_loss: 1.3660 - val_accuracy: 0.6247\n",
            "Epoch 41/45\n",
            "133/133 [==============================] - 61s 457ms/step - loss: 0.8237 - accuracy: 0.7478 - val_loss: 1.2774 - val_accuracy: 0.6547\n",
            "Epoch 42/45\n",
            "133/133 [==============================] - 61s 457ms/step - loss: 0.9577 - accuracy: 0.7121 - val_loss: 1.5022 - val_accuracy: 0.6167\n",
            "Epoch 43/45\n",
            "133/133 [==============================] - 61s 458ms/step - loss: 0.9504 - accuracy: 0.7171 - val_loss: 1.1779 - val_accuracy: 0.6607\n",
            "Epoch 44/45\n",
            "133/133 [==============================] - 61s 458ms/step - loss: 0.8111 - accuracy: 0.7509 - val_loss: 1.4224 - val_accuracy: 0.6247\n",
            "Epoch 45/45\n",
            "133/133 [==============================] - 61s 457ms/step - loss: 0.8966 - accuracy: 0.7358 - val_loss: 1.4504 - val_accuracy: 0.6427\n"
          ]
        }
      ]
    },
    {
      "cell_type": "code",
      "source": [
        "#Τα παραπάνω διαγραμματικά:\n",
        "plt.figure(figsize=(20, 20))\n",
        "_plot(history_myCNN_dropout_2_with_data_aug_and_early , 'myCNN_dropout_data_augmentation_early_stopping', 1, 'adam', '64', '45')"
      ],
      "metadata": {
        "id": "WDPhm9hbB0hq",
        "colab": {
          "base_uri": "https://localhost:8080/",
          "height": 312
        },
        "outputId": "9b5e1cdd-1a71-4b35-9dbb-8f44b9814a1b"
      },
      "execution_count": null,
      "outputs": [
        {
          "output_type": "display_data",
          "data": {
            "text/plain": [
              "<Figure size 1440x1440 with 1 Axes>"
            ],
            "image/png": "[encoded data removed]"
          },
          "metadata": {
            "needs_background": "light"
          }
        }
      ]
    },
    {
      "cell_type": "code",
      "source": [
        "from keras.utils import np_utils\n",
        "#βάζουμε AKOMA περισσότερες εποχές για να είναι πιο εμφανές πώς μπορεί να μας βοηθήσει το early stopping\n",
        "history_myCNN_dropout_2_with_data_aug_and_early = myCNN_dropout_2_with_data_aug_and_early.fit(data_generator.flow(x_train, y_train_1, batch_size=64), epochs=64, validation_data = data_generator.flow(x_val, y_val_1), callbacks=callback_1)\n"
      ],
      "metadata": {
        "colab": {
          "base_uri": "https://localhost:8080/"
        },
        "id": "lCfdbUJ0TrYw",
        "outputId": "a2e13576-d5cc-4d89-dc13-df6698b76899"
      },
      "execution_count": null,
      "outputs": [
        {
          "output_type": "stream",
          "name": "stdout",
          "text": [
            "Epoch 1/64\n",
            "133/133 [==============================] - 61s 462ms/step - loss: 0.8150 - accuracy: 0.7668 - val_loss: 1.2943 - val_accuracy: 0.6840\n",
            "Epoch 2/64\n",
            "133/133 [==============================] - 61s 457ms/step - loss: 0.7353 - accuracy: 0.7855 - val_loss: 1.4010 - val_accuracy: 0.6340\n",
            "Epoch 3/64\n",
            "133/133 [==============================] - 61s 458ms/step - loss: 0.6525 - accuracy: 0.8031 - val_loss: 1.3789 - val_accuracy: 0.6687\n",
            "Epoch 4/64\n",
            "133/133 [==============================] - 61s 457ms/step - loss: 0.6640 - accuracy: 0.8014 - val_loss: 1.4143 - val_accuracy: 0.6733\n",
            "Epoch 5/64\n",
            "133/133 [==============================] - 61s 462ms/step - loss: 0.6032 - accuracy: 0.8162 - val_loss: 1.2914 - val_accuracy: 0.6753\n",
            "Epoch 6/64\n",
            "133/133 [==============================] - 61s 461ms/step - loss: 0.7484 - accuracy: 0.7914 - val_loss: 1.7471 - val_accuracy: 0.6540\n",
            "Epoch 7/64\n",
            "133/133 [==============================] - 61s 462ms/step - loss: 0.8985 - accuracy: 0.7576 - val_loss: 1.4037 - val_accuracy: 0.6827\n",
            "Epoch 8/64\n",
            "133/133 [==============================] - 61s 460ms/step - loss: 0.7456 - accuracy: 0.7860 - val_loss: 1.3634 - val_accuracy: 0.6800\n",
            "Epoch 9/64\n",
            "133/133 [==============================] - 61s 456ms/step - loss: 1.2121 - accuracy: 0.7592 - val_loss: 17.9684 - val_accuracy: 0.3073\n"
          ]
        }
      ]
    },
    {
      "cell_type": "code",
      "source": [
        "#Τα παραπάνω διαγραμματικά:\n",
        "plt.figure(figsize=(20, 20))\n",
        "_plot(history_myCNN_dropout_2_with_data_aug_and_early , 'myCNN_dropout_data_augmentation_early_stopping', 1, 'adam', '64', '64')"
      ],
      "metadata": {
        "colab": {
          "base_uri": "https://localhost:8080/",
          "height": 312
        },
        "id": "-D0U-N1MYOCP",
        "outputId": "aa31d873-9a34-45e8-981a-cc41482f337b"
      },
      "execution_count": null,
      "outputs": [
        {
          "output_type": "display_data",
          "data": {
            "text/plain": [
              "<Figure size 1440x1440 with 1 Axes>"
            ],
            "image/png": "[encoded data removed]"
          },
          "metadata": {
            "needs_background": "light"
          }
        }
      ]
    },
    {
      "cell_type": "markdown",
      "source": [
        "Η εκπαίδευση σταματάει νωρίτερα από τις εποχές που έχουμε ορίσει να διαρκεί εμείς, καθώς δεδομένων των ρυθμίσεών μας η εκπαίδευσή του δεν βελτιώνει το accuracy για 4 συνεχόμενες εποχές οπότε βάσει του early stopping που έχουμε ορίσει δεν συνεχίζει. Αυτή είναι και η ιδέα του early stopping. Μας περιρίζει κάπως τις εποχές που θα τρέχαμε ώστε να μην συνεχίζεται η άφρουτη εκπαίδευση. Ακόμα και αν η ακρίβεια διατηρείται σταθερή (αντί να μειώνεται) στην εκπαίδευση το overfitting που θα έχουμε στα δεδομένα που θα το δοκιμάσουμε είναι ολοένα και μεγαλύτερος κίνδυνος. "
      ],
      "metadata": {
        "id": "g6DwyNXf39pN"
      }
    },
    {
      "cell_type": "markdown",
      "metadata": {
        "id": "jTxKRNEHWfGs"
      },
      "source": [
        "## Ερώτημα 3\n",
        "---\n",
        "### Βήμα 1: Μεταφορά γνώσης\n",
        "Εφαρμόστε μεταφορά γνώσης (transfer learning) στο δικό σας μοντέλο (**MyCNN**), που αξιολογήσατε ως καλύτερο προς την ορθότητα στην αντιμετώπιση της υπερεκπαίδεσης. \n",
        "\n",
        "Για το transfer learning, επιλέξτε το [VGG16](https://www.tensorflow.org/api_docs/python/tf/keras/applications/vgg16) για μεταφορά μάθησης.\n",
        "\n",
        "1. \"Παγώστε\" τη συνελικτική βάση και εκπαιδεύστε την κεφαλή ταξινόμησης (classification head - σημαία trainable = False).  \n",
        "\n",
        "2. Εκπαιδέστε μόνο ένα ποσοστό των επιπέδων, το οποίο βρίσκεται προς την έξοδο του δικτύου. Οι σημαίες trainable εδώ θα πρέπει να οριστούν ανά επίπεδο.\n",
        "\n",
        "3. Αξιολογήστε τα αποτελέσματά σας, βάσει της ορθότητας του validation set και του test set σας."
      ]
    },
    {
      "cell_type": "markdown",
      "source": [
        "**1.**\n",
        "\n",
        "---\n",
        "\n"
      ],
      "metadata": {
        "id": "wrO2fSpHv02a"
      }
    },
    {
      "cell_type": "code",
      "source": [
        "pretrained = tf.keras.applications.VGG16(\n",
        "    include_top=False #προκειμένου να βάλουμε τη δική μας κεφαλή\n",
        "    , weights='imagenet', input_tensor=None, input_shape=(96,96,3),\n",
        "    pooling=max, classes=20\n",
        ")\n",
        "pretrained.trainable=False # Pretrained Model  (παγώνουμε τα weights)"
      ],
      "metadata": {
        "id": "ezEeIk6vvm6Y",
        "colab": {
          "base_uri": "https://localhost:8080/"
        },
        "outputId": "f56f3b61-37d9-44a3-8d6c-2c675325190a"
      },
      "execution_count": null,
      "outputs": [
        {
          "output_type": "stream",
          "name": "stdout",
          "text": [
            "Downloading data from https://storage.googleapis.com/tensorflow/keras-applications/vgg16/vgg16_weights_tf_dim_ordering_tf_kernels_notop.h5\n",
            "58892288/58889256 [==============================] - 0s 0us/step\n",
            "58900480/58889256 [==============================] - 0s 0us/step\n"
          ]
        }
      ]
    },
    {
      "cell_type": "code",
      "source": [
        "transfer_model_1 = models.Sequential()\n",
        "transfer_model_1.add(layers.experimental.preprocessing.Resizing(96, 96, interpolation=\"bicubic\", input_shape=x_train.shape[1:]))\n",
        "transfer_model_1.add(pretrained)\n",
        "transfer_model_1.add(layers.Flatten())\n",
        "transfer_model_1.add(layers.Dense(4096))\n",
        "transfer_model_1.add(layers.Dropout(0.3))\n",
        "transfer_model_1.add(layers.LeakyReLU(alpha=0.15))    \n",
        "transfer_model_1.add(layers.Dense(4096))\n",
        "transfer_model_1.add(layers.Dropout(0.3))\n",
        "transfer_model_1.add(layers.LeakyReLU(alpha=0.15))    \n",
        "transfer_model_1.add(layers.Dense(20, activation='softmax'))\n",
        "transfer_model_1.summary()"
      ],
      "metadata": {
        "id": "ZVfmjtPpwxtu",
        "colab": {
          "base_uri": "https://localhost:8080/"
        },
        "outputId": "5a9d45f5-fe73-4fb6-848a-ddd065bb00a1"
      },
      "execution_count": null,
      "outputs": [
        {
          "output_type": "stream",
          "name": "stdout",
          "text": [
            "Model: \"sequential_1\"\n",
            "_________________________________________________________________\n",
            " Layer (type)                Output Shape              Param #   \n",
            "=================================================================\n",
            " resizing_1 (Resizing)       (None, 96, 96, 3)         0         \n",
            "                                                                 \n",
            " vgg16 (Functional)          (None, 3, 3, 512)         14714688  \n",
            "                                                                 \n",
            " flatten (Flatten)           (None, 4608)              0         \n",
            "                                                                 \n",
            " dense (Dense)               (None, 4096)              18878464  \n",
            "                                                                 \n",
            " dropout (Dropout)           (None, 4096)              0         \n",
            "                                                                 \n",
            " leaky_re_lu (LeakyReLU)     (None, 4096)              0         \n",
            "                                                                 \n",
            " dense_1 (Dense)             (None, 4096)              16781312  \n",
            "                                                                 \n",
            " dropout_1 (Dropout)         (None, 4096)              0         \n",
            "                                                                 \n",
            " leaky_re_lu_1 (LeakyReLU)   (None, 4096)              0         \n",
            "                                                                 \n",
            " dense_2 (Dense)             (None, 20)                81940     \n",
            "                                                                 \n",
            "=================================================================\n",
            "Total params: 50,456,404\n",
            "Trainable params: 35,741,716\n",
            "Non-trainable params: 14,714,688\n",
            "_________________________________________________________________\n"
          ]
        }
      ]
    },
    {
      "cell_type": "code",
      "source": [
        "callback = tf.keras.callbacks.EarlyStopping(monitor='loss', patience=3)   #EARLY STOPPING"
      ],
      "metadata": {
        "id": "S4UG3GPbAdkp"
      },
      "execution_count": null,
      "outputs": []
    },
    {
      "cell_type": "code",
      "source": [
        "data_generator = tf.keras.preprocessing.image.ImageDataGenerator(  \n",
        "    featurewise_center=True,\n",
        "    featurewise_std_normalization=True,\n",
        "    rotation_range=10,\n",
        "    width_shift_range=0.1,\n",
        "    height_shift_range=0.1,\n",
        "    horizontal_flip=True,\n",
        "    zoom_range=0.2)\n",
        "data_generator.fit(x_train)   #DATA AUGMENTATION"
      ],
      "metadata": {
        "id": "CVaJcc72B3Rv"
      },
      "execution_count": null,
      "outputs": []
    },
    {
      "cell_type": "code",
      "source": [
        "transfer_model_1.compile(optimizer='adam',\n",
        "             loss=tf.keras.losses.SparseCategoricalCrossentropy(from_logits=False),\n",
        "              metrics=['accuracy'])"
      ],
      "metadata": {
        "id": "OPfyE5ZGEYzF"
      },
      "execution_count": null,
      "outputs": []
    },
    {
      "cell_type": "code",
      "source": [
        "#επειδή αλλάζουμε απλά την κεφαλή περιμένουμε ότι -εφόσον έχουμε ορίσει early stopping- δεν θα διαρκέσει η εκπαίδευση πολλές εποχές (δεν χρειάζεται ξανά να δοκιμάσουμε τόσες πολλές όπως και παραπάνω)\n",
        "history_transfer_1 = transfer_model_1.fit(data_generator.flow(x_train, y_train_1, batch_size=64), callbacks=[callback], epochs=16, validation_data = data_generator.flow(x_val, y_val_1))"
      ],
      "metadata": {
        "id": "qR-ff9DiBIlu",
        "colab": {
          "base_uri": "https://localhost:8080/"
        },
        "outputId": "df0930d1-4fe9-435f-a61d-7ccb127727ae"
      },
      "execution_count": null,
      "outputs": [
        {
          "output_type": "stream",
          "name": "stdout",
          "text": [
            "Epoch 1/16\n",
            "133/133 [==============================] - 12s 85ms/step - loss: 1.2244 - accuracy: 0.7578 - val_loss: 1.9318 - val_accuracy: 0.6747\n",
            "Epoch 2/16\n",
            "133/133 [==============================] - 11s 86ms/step - loss: 0.9910 - accuracy: 0.7874 - val_loss: 1.5987 - val_accuracy: 0.7033\n",
            "Epoch 3/16\n",
            "133/133 [==============================] - 11s 85ms/step - loss: 0.9746 - accuracy: 0.7880 - val_loss: 1.4685 - val_accuracy: 0.7300\n",
            "Epoch 4/16\n",
            "133/133 [==============================] - 11s 85ms/step - loss: 0.9939 - accuracy: 0.7945 - val_loss: 1.8688 - val_accuracy: 0.7113\n",
            "Epoch 5/16\n",
            "133/133 [==============================] - 11s 86ms/step - loss: 1.0467 - accuracy: 0.7955 - val_loss: 1.6718 - val_accuracy: 0.7360\n",
            "Epoch 6/16\n",
            "133/133 [==============================] - 11s 85ms/step - loss: 0.9887 - accuracy: 0.8066 - val_loss: 2.1867 - val_accuracy: 0.7013\n"
          ]
        }
      ]
    },
    {
      "cell_type": "markdown",
      "source": [
        "To CNN έχει εξαρχής πολύ καλές επιδόσεις (όσον αφορά το φαινόμενο του overfitting και το accuracy που πετυχαίνουμε) καθώς έχουμε \"παγώσει\" τη συνελικτική βάση (ήδη εκπαιδευμένο CNN) και εκπαιδεύουμε μόνο την κεφαλή.  "
      ],
      "metadata": {
        "id": "16utyC6-Bgwn"
      }
    },
    {
      "cell_type": "markdown",
      "source": [
        "**2.**\n",
        "\n",
        "---\n",
        "\n"
      ],
      "metadata": {
        "id": "rKkwXVB6HA_6"
      }
    },
    {
      "cell_type": "code",
      "source": [
        "transfer_model_2 = models.Sequential()\n",
        "transfer_model_2.add(layers.experimental.preprocessing.Resizing(96, 96, interpolation=\"bicubic\", input_shape=x_train.shape[1:]))\n",
        "transfer_model_2.add(pretrained)\n",
        "transfer_model_2.add(layers.Flatten())\n",
        "transfer_model_2.add(layers.Dense(4096))\n",
        "transfer_model_2.add(layers.Dropout(0.3))\n",
        "transfer_model_2.add(layers.LeakyReLU(alpha=0.15))    \n",
        "transfer_model_2.add(layers.Dense(4096, trainable=False))\n",
        "transfer_model_2.add(layers.Dropout(0.3))\n",
        "transfer_model_2.add(layers.LeakyReLU(alpha=0.15))    \n",
        "transfer_model_2.add(layers.Dense(20, activation='softmax'))\n",
        "\n",
        "\n",
        "transfer_model_2.summary()"
      ],
      "metadata": {
        "id": "6XRnZ3ibHL8t",
        "colab": {
          "base_uri": "https://localhost:8080/"
        },
        "outputId": "cef44a9b-8393-4e1f-8e9a-048cdb818c80"
      },
      "execution_count": null,
      "outputs": [
        {
          "output_type": "stream",
          "name": "stdout",
          "text": [
            "Model: \"sequential_2\"\n",
            "_________________________________________________________________\n",
            " Layer (type)                Output Shape              Param #   \n",
            "=================================================================\n",
            " resizing_2 (Resizing)       (None, 96, 96, 3)         0         \n",
            "                                                                 \n",
            " vgg16 (Functional)          (None, 3, 3, 512)         14714688  \n",
            "                                                                 \n",
            " flatten_1 (Flatten)         (None, 4608)              0         \n",
            "                                                                 \n",
            " dense_3 (Dense)             (None, 4096)              18878464  \n",
            "                                                                 \n",
            " dropout_2 (Dropout)         (None, 4096)              0         \n",
            "                                                                 \n",
            " leaky_re_lu_2 (LeakyReLU)   (None, 4096)              0         \n",
            "                                                                 \n",
            " dense_4 (Dense)             (None, 4096)              16781312  \n",
            "                                                                 \n",
            " dropout_3 (Dropout)         (None, 4096)              0         \n",
            "                                                                 \n",
            " leaky_re_lu_3 (LeakyReLU)   (None, 4096)              0         \n",
            "                                                                 \n",
            " dense_5 (Dense)             (None, 20)                81940     \n",
            "                                                                 \n",
            "=================================================================\n",
            "Total params: 50,456,404\n",
            "Trainable params: 18,960,404\n",
            "Non-trainable params: 31,496,000\n",
            "_________________________________________________________________\n"
          ]
        }
      ]
    },
    {
      "cell_type": "code",
      "source": [
        "transfer_model_2.compile(optimizer='adam',\n",
        "             loss=tf.keras.losses.SparseCategoricalCrossentropy(from_logits=False),\n",
        "              metrics=['accuracy'])"
      ],
      "metadata": {
        "id": "ouImPGEoJxZt"
      },
      "execution_count": null,
      "outputs": []
    },
    {
      "cell_type": "code",
      "source": [
        "history_transfer_2 = transfer_model_2.fit(data_generator.flow(x_train, y_train_1, batch_size=64), callbacks=[callback], epochs=32, validation_data = data_generator.flow(x_val, y_val_1))"
      ],
      "metadata": {
        "id": "rt0wZ91nJ1UA",
        "colab": {
          "base_uri": "https://localhost:8080/"
        },
        "outputId": "424f6b6f-fa53-40c4-ef0e-85e199c092c8"
      },
      "execution_count": null,
      "outputs": [
        {
          "output_type": "stream",
          "name": "stdout",
          "text": [
            "Epoch 1/32\n",
            "133/133 [==============================] - 12s 83ms/step - loss: 1.4857 - accuracy: 0.5714 - val_loss: 0.9488 - val_accuracy: 0.6907\n",
            "Epoch 2/32\n",
            "133/133 [==============================] - 11s 81ms/step - loss: 1.0339 - accuracy: 0.6846 - val_loss: 0.8605 - val_accuracy: 0.7300\n",
            "Epoch 3/32\n",
            "133/133 [==============================] - 11s 82ms/step - loss: 0.9180 - accuracy: 0.7281 - val_loss: 0.9852 - val_accuracy: 0.7053\n",
            "Epoch 4/32\n",
            "133/133 [==============================] - 11s 82ms/step - loss: 0.8556 - accuracy: 0.7398 - val_loss: 0.9129 - val_accuracy: 0.7187\n",
            "Epoch 5/32\n",
            "133/133 [==============================] - 11s 83ms/step - loss: 0.8068 - accuracy: 0.7521 - val_loss: 0.8535 - val_accuracy: 0.7333\n",
            "Epoch 6/32\n",
            "133/133 [==============================] - 11s 82ms/step - loss: 0.7817 - accuracy: 0.7612 - val_loss: 0.9544 - val_accuracy: 0.7220\n",
            "Epoch 7/32\n",
            "133/133 [==============================] - 11s 82ms/step - loss: 0.7582 - accuracy: 0.7772 - val_loss: 0.9261 - val_accuracy: 0.7333\n",
            "Epoch 8/32\n",
            "133/133 [==============================] - 11s 81ms/step - loss: 0.7078 - accuracy: 0.7924 - val_loss: 0.9588 - val_accuracy: 0.7207\n",
            "Epoch 9/32\n",
            "133/133 [==============================] - 12s 87ms/step - loss: 0.7317 - accuracy: 0.7851 - val_loss: 1.1402 - val_accuracy: 0.7140\n",
            "Epoch 10/32\n",
            "133/133 [==============================] - 11s 85ms/step - loss: 0.7190 - accuracy: 0.7915 - val_loss: 1.1039 - val_accuracy: 0.7127\n",
            "Epoch 11/32\n",
            "133/133 [==============================] - 11s 82ms/step - loss: 0.7046 - accuracy: 0.7971 - val_loss: 1.1108 - val_accuracy: 0.7293\n",
            "Epoch 12/32\n",
            "133/133 [==============================] - 11s 82ms/step - loss: 0.6967 - accuracy: 0.8019 - val_loss: 1.0089 - val_accuracy: 0.7507\n",
            "Epoch 13/32\n",
            "133/133 [==============================] - 11s 82ms/step - loss: 0.7085 - accuracy: 0.8031 - val_loss: 1.1109 - val_accuracy: 0.7447\n",
            "Epoch 14/32\n",
            "133/133 [==============================] - 11s 82ms/step - loss: 0.7545 - accuracy: 0.8007 - val_loss: 1.0355 - val_accuracy: 0.7473\n",
            "Epoch 15/32\n",
            "133/133 [==============================] - 11s 82ms/step - loss: 0.6527 - accuracy: 0.8225 - val_loss: 0.9939 - val_accuracy: 0.7693\n",
            "Epoch 16/32\n",
            "133/133 [==============================] - 11s 82ms/step - loss: 0.6838 - accuracy: 0.8159 - val_loss: 1.1436 - val_accuracy: 0.7493\n",
            "Epoch 17/32\n",
            "133/133 [==============================] - 11s 82ms/step - loss: 0.7086 - accuracy: 0.8168 - val_loss: 1.2192 - val_accuracy: 0.7440\n",
            "Epoch 18/32\n",
            "133/133 [==============================] - 11s 82ms/step - loss: 0.6869 - accuracy: 0.8247 - val_loss: 1.1502 - val_accuracy: 0.7553\n"
          ]
        }
      ]
    },
    {
      "cell_type": "markdown",
      "source": [
        "Καταφέραμε ακόμα καλύτερα αποτελέσματα."
      ],
      "metadata": {
        "id": "OE3BMZHeLkLU"
      }
    },
    {
      "cell_type": "markdown",
      "source": [
        "**3. Αξιολόγηση Αποτελεσμάτων**\n",
        "\n",
        "---\n",
        "\n"
      ],
      "metadata": {
        "id": "-10yNpUVMFvh"
      }
    },
    {
      "cell_type": "code",
      "source": [
        "#Τα παραπάνω διαγραμματικά:\n",
        "plt.figure(figsize=(20, 20))\n",
        "_plot(history_transfer_1 , 'transfer_learning_1', 1, 'adam', '64', '32')\n",
        "_plot(history_transfer_2 , 'transfer_learning_2', 2, 'adam', '64', '32')"
      ],
      "metadata": {
        "id": "Xd7ww6vNMJQK",
        "colab": {
          "base_uri": "https://localhost:8080/",
          "height": 230
        },
        "outputId": "2a4a4fe7-0884-4408-b793-487434025fb8"
      },
      "execution_count": null,
      "outputs": [
        {
          "output_type": "display_data",
          "data": {
            "text/plain": [
              "<Figure size 1440x1440 with 2 Axes>"
            ],
            "image/png": "[encoded data removed]"
          },
          "metadata": {
            "needs_background": "light"
          }
        }
      ]
    },
    {
      "cell_type": "markdown",
      "source": [
        "Πετυχαίνουμε ακρίβεια στο validation set περίπου 70% στο 1ο πείραμα και στο 2ο 75%!! Με transfer learning έχουμε σημαντική αύξηση της ακρίβειας καθώς χρησιμοποιούμε ένα ήδη εκπαιδευμένο cnn και εκπαιδεύουμε ένα μέρος του (μόνο την κεφαλή) χρησιμοποιώντας και early stopping για να αποφύγουμε την υπερεκπαίδευση."
      ],
      "metadata": {
        "id": "jlwLIAcsMv_s"
      }
    },
    {
      "cell_type": "code",
      "source": [
        "#pπαραθέτουμε και κάποιες τιμές loss & accuracy με data augmentation se test&evaluation set\n",
        "loss_transfer_model_1_val, accuracy_transfer_model_1_val = transfer_model_1.evaluate(data_generator.flow(x_val, y_val_1))\n",
        "loss_transfer_model_1_test, accuracy_transfer_model_1_test = transfer_model_1.evaluate(data_generator.flow(x_test, y_test_1))\n",
        "loss_transfer_model_2_val, accuracy_transfer_model_2_val = transfer_model_2.evaluate(data_generator.flow(x_val, y_val_1))\n",
        "loss_transfer_model_2_test, accuracy_transfer_model_2_test = transfer_model_2.evaluate(data_generator.flow(x_test, y_test_1))\n",
        "print(\"--------------------------------------------------------------------------------\")\n",
        "print(\"transfer model 1\")\n",
        "print(\"validation set\")\n",
        "print(\"loss =\", loss_transfer_model_val, \"accuracy  =\", accuracy_transfer_model_val)\n",
        "print(\"test set\")\n",
        "print(\"loss  =\", loss_transfer_model_test, \"accuracy  =\", accuracy_transfer_model_test)\n",
        "print(\"--------------------------------------------------------------------------------\")\n",
        "print(\"tranfer model 2\")\n",
        "print(\"loss =\", loss_transfer_model_1_val, \"accuracy =\", accuracy_transfer_model_1_val)\n",
        "print(\"test set\")\n",
        "print(\"loss =\", loss_transfer_model_1_test, \"accuracy =\", accuracy_transfer_model_1_test)"
      ],
      "metadata": {
        "id": "bFLBWBDcSYzz",
        "colab": {
          "base_uri": "https://localhost:8080/"
        },
        "outputId": "4b8a2d99-e32f-4b27-fd76-b972d98245a3"
      },
      "execution_count": null,
      "outputs": [
        {
          "output_type": "stream",
          "name": "stdout",
          "text": [
            "47/47 [==============================] - 2s 38ms/step - loss: 1.2658 - accuracy: 0.6987\n",
            "63/63 [==============================] - 2s 37ms/step - loss: 1.2063 - accuracy: 0.7095\n",
            "47/47 [==============================] - 2s 37ms/step - loss: 1.0972 - accuracy: 0.7660\n",
            "63/63 [==============================] - 2s 37ms/step - loss: 1.2100 - accuracy: 0.7470\n",
            "--------------------------------------------------------------------------------\n",
            "transfer model 1\n",
            "validation set\n",
            "loss = 1.2657803297042847 accuracy  = 0.6986666917800903\n",
            "test set\n",
            "loss  = 1.2063055038452148 accuracy  = 0.7095000147819519\n",
            "--------------------------------------------------------------------------------\n",
            "tranfer model 2\n",
            "loss = 1.0971808433532715 accuracy = 0.765999972820282\n",
            "test set\n",
            "loss = 1.2099511623382568 accuracy = 0.746999979019165\n"
          ]
        }
      ]
    }
  ],
  "metadata": {
    "colab": {
      "collapsed_sections": [],
      "name": "2η_Ομαδική_Άσκηση final MariaGlarou.ipynb",
      "provenance": []
    },
    "kernelspec": {
      "display_name": "Python 3",
      "name": "python3"
    },
    "accelerator": "GPU"
  },
  "nbformat": 4,
  "nbformat_minor": 0
}